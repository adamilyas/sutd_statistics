{
 "cells": [
  {
   "cell_type": "code",
   "execution_count": 30,
   "metadata": {
    "collapsed": true
   },
   "outputs": [],
   "source": [
    "import matplotlib.pyplot as plt\n",
    "import math\n",
    "import scipy as sp\n",
    "from scipy import stats\n",
    "import pandas as pd\n",
    "import numpy as np"
   ]
  },
  {
   "cell_type": "code",
   "execution_count": 2,
   "metadata": {
    "collapsed": false
   },
   "outputs": [],
   "source": [
    "data = [108,103,352,121,93,53,40,53,22,116,94]\n",
    "data.sort()\n",
    "n = len(data)"
   ]
  },
  {
   "cell_type": "code",
   "execution_count": 3,
   "metadata": {
    "collapsed": true
   },
   "outputs": [],
   "source": [
    "def mean(data_set):\n",
    "    return sum(data_set)/len(data_set)\n",
    "\n",
    "def median(data_set):\n",
    "    data_set.sort()\n",
    "    n = len(data_set)\n",
    "    if n%2==0: # even\n",
    "        return (data_set[int(n/2)] + data_set[int(n/2-1)])/2\n",
    "    if n%2==1:\n",
    "        return data_set[int((n-1)/2)]\n",
    "    \n",
    "def mode(data_set):\n",
    "    modes = []\n",
    "    maxFreq = max([data_set.count(i) for i in data_set])\n",
    "    for i in set(data_set):\n",
    "        if data_set.count(i) == maxFreq:\n",
    "            modes.append(i)\n",
    "    return modes"
   ]
  },
  {
   "cell_type": "code",
   "execution_count": 4,
   "metadata": {
    "collapsed": false
   },
   "outputs": [
    {
     "name": "stdout",
     "output_type": "stream",
     "text": [
      "Mean: 105.0\n",
      "Median: 94\n",
      "Mode: [53]\n"
     ]
    }
   ],
   "source": [
    "mean_data = (mean(data))\n",
    "median_data = (median(data))\n",
    "mode_data = (mode(data))\n",
    "print(\"Mean: \" + str(mean_data))\n",
    "print(\"Median: \" + str(median_data))\n",
    "print(\"Mode: \" + str(mode_data))"
   ]
  },
  {
   "cell_type": "code",
   "execution_count": 5,
   "metadata": {
    "collapsed": false
   },
   "outputs": [
    {
     "name": "stdout",
     "output_type": "stream",
     "text": [
      "Mean - Mode: 52.0\n",
      "Mean - Median: 11.0\n"
     ]
    }
   ],
   "source": [
    "print(\"Mean - Mode: \" + str(mean_data - mode_data[0]))\n",
    "print(\"Mean - Median: \" + str(mean_data - median_data))"
   ]
  },
  {
   "cell_type": "code",
   "execution_count": 6,
   "metadata": {
    "collapsed": false
   },
   "outputs": [
    {
     "data": {
      "image/png": "[encoded data removed]",
      "text/plain": [
       "<matplotlib.figure.Figure at 0x1d6db4efc50>"
      ]
     },
     "metadata": {},
     "output_type": "display_data"
    }
   ],
   "source": [
    "plt.plot(sorted(data))\n",
    "plt.show()"
   ]
  },
  {
   "cell_type": "code",
   "execution_count": 7,
   "metadata": {
    "collapsed": false
   },
   "outputs": [
    {
     "data": {
      "image/png": "[encoded data removed]",
      "text/plain": [
       "<matplotlib.figure.Figure at 0x1d6dbfc0cc0>"
      ]
     },
     "metadata": {},
     "output_type": "display_data"
    }
   ],
   "source": [
    "#x value is data\n",
    "#y value is prob\n",
    "plt.plot(data, [data.count(i)/len(data) for i in data], \"r-\")\n",
    "plt.axvline(x=mode(data),ls=\"dotted\")\n",
    "plt.show()"
   ]
  },
  {
   "cell_type": "markdown",
   "metadata": {},
   "source": [
    "$L^2$ - Loss Function:\n",
    "$$\\min_x \\sum_{i=1}^n (x_i - x)^2 $$\n",
    "where $\\bar{x}$ is the optimal solution"
   ]
  },
  {
   "cell_type": "code",
   "execution_count": 8,
   "metadata": {
    "collapsed": false
   },
   "outputs": [
    {
     "name": "stdout",
     "output_type": "stream",
     "text": [
      "[75260, 75548, 75730, 76378, 77836, 78170, 107930, 124492, 153004, 659884]\n",
      "75482.0\n"
     ]
    }
   ],
   "source": [
    "# L_sq_loss\n",
    "print(sorted([sum([(i - j)**2 for i in set(data)]) for j in set(data)]))\n",
    "print(sum([(i-mean_data)**2 for i in set(data)]))"
   ]
  },
  {
   "cell_type": "markdown",
   "metadata": {},
   "source": [
    "$L$ - Loss Function:\n",
    "$$\\min_x \\sum_{i=1}^n \\left| x_i - x\\right | $$\n",
    "where $\\tilde{x}$ is the optimal solution"
   ]
  },
  {
   "cell_type": "code",
   "execution_count": 9,
   "metadata": {
    "collapsed": false
   },
   "outputs": [
    {
     "name": "stdout",
     "output_type": "stream",
     "text": [
      "[498, 498, 500, 508, 540, 570, 660, 738, 882, 2418]\n",
      "498\n",
      "[498, 498, 500, 508, 540, 570, 660, 738, 882, 2418]\n",
      "498\n"
     ]
    }
   ],
   "source": [
    "print(sorted([sum([abs(i - j) for i in set(data)]) for j in set(data)]))\n",
    "print(sum([abs(i-median_data) for i in set(data)]))\n",
    "print(sorted([sum([abs(i - j) for i in set(data)]) for j in set(data)]))\n",
    "print(sum([abs(i-median_data ) for i in set(data)]))"
   ]
  },
  {
   "cell_type": "code",
   "execution_count": 10,
   "metadata": {
    "collapsed": false
   },
   "outputs": [
    {
     "name": "stdout",
     "output_type": "stream",
     "text": [
      "[22, 40, 53, 53, 93, 94, 103, 108, 116, 121, 352]\n",
      "Mean: 105.0\n",
      "Median: 94\n",
      "Mode: [53]\n",
      "[40, 53, 53, 93, 94, 103, 108, 116, 121, 352]\n",
      "Mean: 113.3\n",
      "Median: 98.5\n",
      "Mode: [53]\n"
     ]
    }
   ],
   "source": [
    "# NOT A GOOD EXAMPLE\n",
    "data = [108,103,352,121,93,53,40,53,22,116,94]\n",
    "data.sort()\n",
    "print(data)\n",
    "print(\"Mean: \" + str(mean(data)))\n",
    "print(\"Median: \" + str(median(data)))\n",
    "print(\"Mode: \" + str(mode(data)))\n",
    "n = len(data)\n",
    "data.remove(min(data))\n",
    "print(data)\n",
    "print(\"Mean: \" + str(mean(data)))\n",
    "print(\"Median: \" + str(median(data)))\n",
    "print(\"Mode: \" + str(mode(data)))"
   ]
  },
  {
   "cell_type": "code",
   "execution_count": 11,
   "metadata": {
    "collapsed": false
   },
   "outputs": [
    {
     "name": "stdout",
     "output_type": "stream",
     "text": [
      "105.0\n",
      "94.0\n",
      "ModeResult(mode=array([53]), count=array([2]))\n"
     ]
    },
    {
     "data": {
      "text/plain": [
       "scipy.stats.stats.ModeResult"
      ]
     },
     "execution_count": 11,
     "metadata": {},
     "output_type": "execute_result"
    }
   ],
   "source": [
    "data = [108,103,352,121,93,53,40,53,22,116,94]\n",
    "print(sp.mean(data))\n",
    "print(sp.median(data))\n",
    "print(stats.mode(data))\n",
    "type(stats.mode(data))"
   ]
  },
  {
   "cell_type": "code",
   "execution_count": 12,
   "metadata": {
    "collapsed": false
   },
   "outputs": [
    {
     "name": "stdout",
     "output_type": "stream",
     "text": [
      "[22, 40, 53, 53, 93, 94, 103, 108, 116, 121, 352]\n",
      "86.77777777777777\n",
      "88.57142857142857\n",
      "90.2\n"
     ]
    }
   ],
   "source": [
    "#trimmed mean\n",
    "data = [108, 103, 352, 121, 93, 53, 40, 53, 22, 116, 94]\n",
    "data.sort()\n",
    "def trimmed_mean(data_set, prop):\n",
    "    n = len(data_set)\n",
    "    if prop < 0 or prop > n/2:\n",
    "        return None\n",
    "    else:\n",
    "        return sum([data_set[i] for i in range(prop,n-prop)])/(n-2*prop)\n",
    "    \n",
    "print(data)\n",
    "print(trimmed_mean(data, 1))  # trimm 1 from each side             \n",
    "print(trimmed_mean(data, 2))  # trimm 2 from each side \n",
    "print(trimmed_mean(data, 3))  # trimm 3 from each side  "
   ]
  },
  {
   "cell_type": "code",
   "execution_count": 13,
   "metadata": {
    "collapsed": false
   },
   "outputs": [
    {
     "name": "stdout",
     "output_type": "stream",
     "text": [
      "[22, 40, 53, 53, 93, 94, 103, 108, 116, 121, 352]\n",
      "Trimming...\n",
      "[40, 53, 53, 93, 94, 103, 108, 116, 121]\n",
      "86.77777777777777\n",
      "[53, 53, 93, 94, 103, 108, 116]\n",
      "88.57142857142857\n",
      "[53, 93, 94, 103, 108]\n",
      "90.2\n",
      "[93, 94, 103]\n",
      "96.66666666666667\n",
      "[94]\n",
      "94.0\n"
     ]
    }
   ],
   "source": [
    "data = [22, 40, 53, 53, 93, 94, 103, 108, 116, 121, 352]\n",
    "print(data)\n",
    "print(\"Trimming...\")\n",
    "\n",
    "data = data[1:len(data)-1]\n",
    "print(data)\n",
    "print(mean(data))\n",
    "\n",
    "data = data[1:len(data)-1]\n",
    "print(data)\n",
    "print(mean(data))\n",
    "\n",
    "data = data[1:len(data)-1]\n",
    "print(data)\n",
    "print(mean(data))\n",
    "\n",
    "data = data[1:len(data)-1]\n",
    "print(data)\n",
    "print(mean(data))\n",
    "\n",
    "data = data[1:len(data)-1]\n",
    "print(data)\n",
    "print(mean(data))"
   ]
  },
  {
   "cell_type": "markdown",
   "metadata": {},
   "source": [
    "<h2>Sample Variance is defined as: </h2>"
   ]
  },
  {
   "cell_type": "markdown",
   "metadata": {},
   "source": [
    "$$s^2 = \\frac{1}{n-1} \\sum_{i=1}^n (x_i - \\bar{x})^2$$"
   ]
  },
  {
   "cell_type": "code",
   "execution_count": 14,
   "metadata": {
    "collapsed": true
   },
   "outputs": [],
   "source": [
    "def sample_variance(data_set): #s**2\n",
    "    n = len(data_set)\n",
    "    mean_data = sum(data)/n\n",
    "    return 1/(n-1)*sum([(i-mean_data)**2 for i in data_set])\n",
    "\n",
    "def sample_stdev(data_set):\n",
    "    return sample_variance(data_set)**0.5\n",
    "\n"
   ]
  },
  {
   "cell_type": "markdown",
   "metadata": {},
   "source": [
    "Range is:  $x_{max} - x_{min}$\n",
    "\n",
    "Interquartile Range is: $Q_3-Q_1$\n",
    "\n",
    "Five number summary: {$x_{min}$, $Q_1$, $\\tilde{x}$, $Q_3$, $x_{max}$}\n",
    "\n",
    "FOR BOXPLOT, DATA VALUES MORE THAN 1.5 IQR BELOW $Q_1$ OR ABOVE $Q_3$ IS OUTLIERS"
   ]
  },
  {
   "cell_type": "code",
   "execution_count": 21,
   "metadata": {
    "collapsed": false
   },
   "outputs": [
    {
     "name": "stdout",
     "output_type": "stream",
     "text": [
      "{'quartile_1': 7, 'quartile_3': 16, 'interquartile_range': 9}\n",
      "{'quartile_1': 7, 'quartile_3': 16, 'interquartile_range': 9, 'x_min': 3, 'x_max': 21}\n"
     ]
    }
   ],
   "source": [
    "def interquartile(data_set):\n",
    "    data_set.sort()\n",
    "    n = len(data_set)\n",
    "    if n%2==0: # if even\n",
    "        lower_q = data_set[:int(n/2)]  \n",
    "        upper_q = data_set[int(n/2):]           \n",
    "        \n",
    "    elif n%2 == 1: # if odd\n",
    "        lower_q = data_set[:int((n-1)/2)]    \n",
    "        upper_q = data_set[int((n+2)/2):]   \n",
    "        \n",
    "    n_sub = len(upper_q)\n",
    "    if n_sub%2==0:\n",
    "        q_1 = (lower_q[int(len(n_sub/2))] + lower_q[int(len(n_sub)/2-1)])/2\n",
    "        q_3 = (upper_q[int(len(n_sub/2))] + upper_q[int(len(n_sub)/2-1)])/2\n",
    "    else:\n",
    "        q_1 = lower_q[int((n_sub-1)/2)]  \n",
    "        q_3 = upper_q[int((n_sub-1)/2)]   \n",
    "    return {'quartile_1': q_1, 'quartile_3':q_3, 'interquartile_range':(q_3-q_1)}\n",
    "    \n",
    "new_data = [3, 5, 7, 8, 9, 11, 15, 16, 20, 21]\n",
    "print(interquartile(new_data))\n",
    "\n",
    "def five_number_summary(data_set):\n",
    "    result = interquartile(data_set)\n",
    "    result['x_min'] = min(data_set)\n",
    "    result['x_max'] = max(data_set)\n",
    "    return result\n",
    "\n",
    "print(five_number_summary(new_data))"
   ]
  },
  {
   "cell_type": "code",
   "execution_count": 32,
   "metadata": {
    "collapsed": false
   },
   "outputs": [
    {
     "data": {
      "text/plain": [
       "count     11.000000\n",
       "mean     105.000000\n",
       "std       88.422848\n",
       "min       22.000000\n",
       "25%       53.000000\n",
       "50%       94.000000\n",
       "75%      112.000000\n",
       "max      352.000000\n",
       "dtype: float64"
      ]
     },
     "execution_count": 32,
     "metadata": {},
     "output_type": "execute_result"
    }
   ],
   "source": [
    "pd.Series(data).describe()"
   ]
  },
  {
   "cell_type": "code",
   "execution_count": 44,
   "metadata": {
    "collapsed": false
   },
   "outputs": [],
   "source": [
    "def interquartile(data_set):\n",
    "    data_set.sort()\n",
    "    n = len(data_set)\n",
    "    if n%2==0: # if even\n",
    "        lower_q = data_set[:int(n/2)]  \n",
    "        upper_q = data_set[int(n/2):]           \n",
    "        \n",
    "    elif n%2 == 1: # if odd\n",
    "        lower_q = data_set[:int((n+1)/2)]    #initially was (n-1)\n",
    "        upper_q = data_set[int((n-1)/2):]   \n",
    "        \n",
    "    n_sub = len(upper_q)\n",
    "    if n_sub%2==0:\n",
    "        q_1 = (lower_q[int(n_sub/2)] + lower_q[int(n_sub/2-1)])/2\n",
    "        q_3 = (upper_q[int(n_sub/2)] + upper_q[int(n_sub/2-1)])/2\n",
    "    else:\n",
    "        q_1 = lower_q[int((n_sub-1)/2)]  \n",
    "        q_3 = upper_q[int((n_sub-1)/2)]   \n",
    "    return {'quartile_1': q_1, 'quartile_3':q_3, 'interquartile_range':(q_3-q_1)}\n",
    "\n",
    "def five_number_summary(data_set):\n",
    "    result = interquartile(data_set)\n",
    "    result['x_min'] = min(data_set)\n",
    "    result['x_max'] = max(data_set)\n",
    "    return result"
   ]
  },
  {
   "cell_type": "markdown",
   "metadata": {},
   "source": [
    "Boxplot takes 1.5IQR as a default"
   ]
  },
  {
   "cell_type": "code",
   "execution_count": 66,
   "metadata": {
    "collapsed": false
   },
   "outputs": [
    {
     "name": "stdout",
     "output_type": "stream",
     "text": [
      "[22, 40, 53, 53, 93, 94, 103, 108, 116, 121, 352]\n",
      "{'quartile_1': 53.0, 'quartile_3': 112.0, 'interquartile_range': 59.0, 'x_min': 22, 'x_max': 352}\n"
     ]
    },
    {
     "data": {
      "image/png": "[encoded data removed]",
      "text/plain": [
       "<matplotlib.figure.Figure at 0x1d6deff52b0>"
      ]
     },
     "metadata": {},
     "output_type": "display_data"
    }
   ],
   "source": [
    "new_data = [22, 40, 53, 53, 93, 94, 103, 108, 116, 121, 352]\n",
    "summary = five_number_summary(new_data)\n",
    "print(new_data)\n",
    "print(summary)\n",
    "plt.boxplot(new_data, whis=1.5)\n",
    "plt.show()"
   ]
  },
  {
   "cell_type": "markdown",
   "metadata": {},
   "source": [
    "By removing the outliers (using the 1.5IQR rule) and including all, we can see it is the same as the previous boxplot"
   ]
  },
  {
   "cell_type": "code",
   "execution_count": 65,
   "metadata": {
    "collapsed": false
   },
   "outputs": [
    {
     "name": "stdout",
     "output_type": "stream",
     "text": [
      "[93, 94, 103, 108, 116, 121]\n",
      "{'quartile_1': 94, 'quartile_3': 116, 'interquartile_range': 22, 'x_min': 93, 'x_max': 121}\n"
     ]
    },
    {
     "data": {
      "image/png": "[encoded data removed]",
      "text/plain": [
       "<matplotlib.figure.Figure at 0x1d6defe5cc0>"
      ]
     },
     "metadata": {},
     "output_type": "display_data"
    }
   ],
   "source": [
    "new_data = [22, 40, 53, 53, 93, 94, 103, 108, 116, 121, 352]\n",
    "new_data = [i for i in new_data if i>=1.5*summary['quartile_1'] and i<=1.5*summary['quartile_3']]\n",
    "print(new_data)\n",
    "print(five_number_summary(new_data))\n",
    "plt.boxplot(new_data, whis=100)\n",
    "plt.show()"
   ]
  },
  {
   "cell_type": "code",
   "execution_count": null,
   "metadata": {
    "collapsed": true
   },
   "outputs": [],
   "source": []
  }
 ],
 "metadata": {
  "kernelspec": {
   "display_name": "Python 3",
   "language": "python",
   "name": "python3"
  },
  "language_info": {
   "codemirror_mode": {
    "name": "ipython",
    "version": 3
   },
   "file_extension": ".py",
   "mimetype": "text/x-python",
   "name": "python",
   "nbconvert_exporter": "python",
   "pygments_lexer": "ipython3",
   "version": "3.6.0"
  }
 },
 "nbformat": 4,
 "nbformat_minor": 2
}
