{
 "cells": [
  {
   "cell_type": "code",
   "execution_count": 1,
   "metadata": {
    "collapsed": true
   },
   "outputs": [],
   "source": [
    "import numpy as np\n",
    "import scipy as sp\n",
    "from scipy import stats\n",
    "import pandas as pd\n",
    "import matplotlib.pyplot as plt\n",
    "import math"
   ]
  },
  {
   "cell_type": "code",
   "execution_count": 2,
   "metadata": {
    "collapsed": false
   },
   "outputs": [],
   "source": [
    "def sample_variance(data_set): #s**2\n",
    "    n = len(data_set)\n",
    "    mean_data = sum(data_set)/n\n",
    "    return 1/(n-1)*sum([(i-mean_data)**2 for i in data_set])\n",
    "\n",
    "def sample_stdev(data_set):\n",
    "    return sample_variance(data_set)**0.5 "
   ]
  },
  {
   "cell_type": "code",
   "execution_count": 3,
   "metadata": {
    "collapsed": true
   },
   "outputs": [],
   "source": [
    "sample_1 = [588, 601, 126, 699, 464, 468, 258, 440, 275, 320]\n",
    "sample_1.sort()\n",
    "n = len(sample_1)"
   ]
  },
  {
   "cell_type": "code",
   "execution_count": 4,
   "metadata": {
    "collapsed": false
   },
   "outputs": [],
   "source": [
    "x_bar = np.mean(sample_1)\n",
    "s = sample_stdev(sample_1)"
   ]
  },
  {
   "cell_type": "code",
   "execution_count": 5,
   "metadata": {
    "collapsed": false
   },
   "outputs": [
    {
     "data": {
      "text/plain": [
       "28701.890000000003"
      ]
     },
     "execution_count": 5,
     "metadata": {},
     "output_type": "execute_result"
    }
   ],
   "source": [
    "def pop_variance(data_set): #s**2\n",
    "    n = len(data_set)\n",
    "    mean_data = sum(data_set)/n\n",
    "    return 1/(n)*sum([(i-mean_data)**2 for i in data_set])\n",
    "\n",
    "pop_variance(sample_1)\n",
    "np.var(sample_1)"
   ]
  },
  {
   "cell_type": "code",
   "execution_count": 6,
   "metadata": {
    "collapsed": false
   },
   "outputs": [],
   "source": [
    "def result(sample):\n",
    "    n = len(sample)\n",
    "    a = (np.mean(sample) + 3*sample_stdev(sample))\n",
    "    b = (2*np.mean(sample) - 1)\n",
    "    c = (sample[n-1])\n",
    "    d = (sample[n-1] + sample[0] -1)\n",
    "    e = ((n+1)/n*sample[n-1]-1)\n",
    "    return([a,b,c,d,e])"
   ]
  },
  {
   "cell_type": "code",
   "execution_count": 7,
   "metadata": {
    "collapsed": false
   },
   "outputs": [],
   "source": [
    "population = [i for i in range(1,251)]"
   ]
  },
  {
   "cell_type": "code",
   "execution_count": 8,
   "metadata": {
    "collapsed": false
   },
   "outputs": [
    {
     "name": "stdout",
     "output_type": "stream",
     "text": [
      "[244.22582580206307, 221.8, 127, 177, 151.4]\n"
     ]
    }
   ],
   "source": [
    "indexes = np.random.choice(250,5,replace=False)\n",
    "one_sample = [population[i] for i in indexes]\n",
    "print(result(one_sample))"
   ]
  },
  {
   "cell_type": "code",
   "execution_count": 9,
   "metadata": {
    "collapsed": false
   },
   "outputs": [
    {
     "name": "stdout",
     "output_type": "stream",
     "text": [
      "1 334.1742653244454\n",
      "2 249.6824\n",
      "3 126.626\n",
      "4 251.744\n",
      "5 150.95119999999997\n"
     ]
    }
   ],
   "source": [
    "population = [i for i in range(1,251)]\n",
    "N = len(population)\n",
    "container = {i:[] for i in range(1,6)}\n",
    "for _ in range(500):\n",
    "    indexes = np.random.choice(250,5,replace=False)\n",
    "    one_sample = [population[i] for i in indexes]\n",
    "    res = (result(one_sample))\n",
    "    for j in range(len(res)):\n",
    "        container[j+1].append(res[j])\n",
    "for key,value in container.items():\n",
    "    print(key, np.mean(value))"
   ]
  },
  {
   "cell_type": "code",
   "execution_count": 10,
   "metadata": {
    "collapsed": false
   },
   "outputs": [
    {
     "name": "stdout",
     "output_type": "stream",
     "text": [
      "1\n",
      "[]\n",
      "2\n",
      "[]\n",
      "3\n",
      "[]\n",
      "4\n",
      "[]\n",
      "5\n",
      "[]\n"
     ]
    }
   ],
   "source": [
    "container = {i:[] for i in range(1,6)}\n",
    "\n",
    "for (key,value) in container.items():\n",
    "    print(key)\n",
    "    print(value)"
   ]
  },
  {
   "cell_type": "code",
   "execution_count": 14,
   "metadata": {
    "collapsed": false
   },
   "outputs": [
    {
     "name": "stdout",
     "output_type": "stream",
     "text": [
      "(27.48839286344298, 6.262137795043253)\n",
      "(517.0934004253787, 1083.383855901225)\n"
     ]
    }
   ],
   "source": [
    "lower_bound = stats.chi2.ppf(0.975, 15)\n",
    "upper_bound = stats.chi2.ppf(0.025, 15)\n",
    "print((lower_bound, upper_bound))\n",
    "a = 15*700**2/lower_bound\n",
    "b = 15*700**2/upper_bound\n",
    "print((a**0.5,b**0.5))"
   ]
  },
  {
   "cell_type": "code",
   "execution_count": null,
   "metadata": {
    "collapsed": true
   },
   "outputs": [],
   "source": []
  },
  {
   "cell_type": "code",
   "execution_count": null,
   "metadata": {
    "collapsed": true
   },
   "outputs": [],
   "source": []
  },
  {
   "cell_type": "code",
   "execution_count": null,
   "metadata": {
    "collapsed": true
   },
   "outputs": [],
   "source": []
  }
 ],
 "metadata": {
  "kernelspec": {
   "display_name": "Python 3",
   "language": "python",
   "name": "python3"
  },
  "language_info": {
   "codemirror_mode": {
    "name": "ipython",
    "version": 3
   },
   "file_extension": ".py",
   "mimetype": "text/x-python",
   "name": "python",
   "nbconvert_exporter": "python",
   "pygments_lexer": "ipython3",
   "version": "3.6.0"
  }
 },
 "nbformat": 4,
 "nbformat_minor": 2
}
