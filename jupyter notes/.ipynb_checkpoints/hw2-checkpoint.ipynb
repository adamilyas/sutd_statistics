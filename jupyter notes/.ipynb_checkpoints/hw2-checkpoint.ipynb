{
 "cells": [
  {
   "cell_type": "markdown",
   "metadata": {},
   "source": [
    "# 40.004 Statistics 2018: Problem Set 2                                          \n",
    "                                                                                                                     \n",
    "due Monday, 12 March, 2018 at 11:59 pm. Submit on e-dimension.     "
   ]
  },
  {
   "cell_type": "markdown",
   "metadata": {},
   "source": [
    "Adam 1002010 "
   ]
  },
  {
   "cell_type": "code",
   "execution_count": 1,
   "metadata": {
    "collapsed": true
   },
   "outputs": [],
   "source": [
    "from scipy import stats\n",
    "from scipy import stats\n",
    "import numpy as np"
   ]
  },
  {
   "cell_type": "markdown",
   "metadata": {},
   "source": [
    "<h3>Question 1:</h3> <br>\n",
    "(A twist on the German Tank Problem). Suppose that the enemy has tanks numbered 0, 1, 2, . . . , N. You\n",
    "observe n of the tanks with replacement at random and note down their numbers. Using the sample mean\n",
    "of these numbers, find an unbiased estimator for the total number of tanks (with justification for your\n",
    "claim).\n"
   ]
  },
  {
   "cell_type": "markdown",
   "metadata": {},
   "source": [
    "$\\theta$ : Total Number of Tanks = N + 1 <br>\n",
    "Let n be sample size<br><br>\n",
    "$E[\\bar{X}] = \\frac{1}{n}(E[X_1] + E[X_2] + .. + E[X_n])$ <br>\n",
    "\n",
    "$E[X_i]= \\frac{1}{N+1}(0+1+2+...+N)$\n",
    "\n",
    "$(0+1+2+...+N)=\\frac{N}{2}(N+1)$\n",
    "\n",
    "$E[\\bar{X}] = \\frac{N}{2}$\n",
    "\n",
    "$2E[\\bar{X}] = N$\n",
    "\n",
    "$2E[\\bar{X}]+1 = N+1$\n",
    "\n",
    "$E[2\\bar{X} + 1] = N+1$\n",
    "\n",
    "$\\hat{\\theta} = 2\\bar{X} + 1$"
   ]
  },
  {
   "cell_type": "markdown",
   "metadata": {},
   "source": [
    "<h3>Question 2:</h3><br>\n",
    "Let $S^2$ denote the sample variance computed from a random sample of size n from a N (µ, $σ^2$\n",
    ") distribution.\n",
    "Find the probability that the sample variance $S^2$\n",
    "exceeds the true variance σ\n",
    "2 by a factor of two, i.e.,\n",
    "Pr($S^2 \\le 2σ^2$) \n",
    "when n = 8, 17, 21. Comment on your results. You may use R or Excel or a standard table\n",
    "in the book to find the probabilities."
   ]
  },
  {
   "cell_type": "markdown",
   "metadata": {
    "collapsed": true
   },
   "source": [
    "$Pr(S^2 \\le 2\\sigma^2)$ \n",
    "\n",
    "$Pr(\\frac{S^2}{2\\sigma^2} \\le 1)$ \n",
    "\n",
    "$Pr(\\frac{S^2}{2\\sigma^2} \\le 1)$\n",
    "\n",
    "$Pr(\\frac{2(n-1)S^2}{2\\sigma^2} \\ge 2(n-1))$\n",
    "\n",
    "$\\frac{(n-1)S^2}{2\\sigma^2} \\sim \\chi_{n-1}^2$\n",
    "\n",
    "$P(\\chi_{n-1}^2 \\ge 2(n-1))$\n",
    "\n",
    "$1 - P(\\chi_{n-1}^2 \\ge 2(n-1))$"
   ]
  },
  {
   "cell_type": "code",
   "execution_count": 2,
   "metadata": {
    "collapsed": false
   },
   "outputs": [
    {
     "name": "stdout",
     "output_type": "stream",
     "text": [
      "When n = 8\n",
      "probability that the sample variance exceeds twice the true variance: 0.0511813534130654 \n",
      "\n",
      "When n = 17\n",
      "probability that the sample variance exceeds twice the true variance: 0.009999780953104831 \n",
      "\n",
      "When n = 21\n",
      "probability that the sample variance exceeds twice the true variance: 0.0049954123083075785 \n",
      "\n"
     ]
    }
   ],
   "source": [
    "for i in [8,17,21]:\n",
    "    print(\"When n = {}\".format(i))\n",
    "    prob = 1-stats.chi2.cdf(2*(i-1), df=i-1)\n",
    "    print(\"probability that the sample variance exceeds twice the true variance: {} \\n\".format(prob))"
   ]
  },
  {
   "cell_type": "markdown",
   "metadata": {},
   "source": [
    "<h3>Question 3: </h3> <br> \n",
    "\n",
    "A random sample of size 100, drawn from a normal distribution, has sample mean x = 16.3.<br>"
   ]
  },
  {
   "cell_type": "markdown",
   "metadata": {},
   "source": [
    "(a) Calculate the 95% two-sided confidence interval for µ, if σ = 6."
   ]
  },
  {
   "cell_type": "code",
   "execution_count": 3,
   "metadata": {
    "collapsed": false
   },
   "outputs": [
    {
     "name": "stdout",
     "output_type": "stream",
     "text": [
      "Lower bound is: 15.124021609275967\n",
      "Upper bound is: 17.475978390724034\n"
     ]
    }
   ],
   "source": [
    "# PART A\n",
    "# Calculate the 95% two-sided confidence interval for µ, if σ = 6. \n",
    "# normal distribution, using CLT since n is large\n",
    "n = 100\n",
    "sample_mean = 16.3\n",
    "sigma = 6\n",
    "z_lower = stats.norm.ppf(0.025) # away from mean\n",
    "z_upper = stats.norm.ppf(0.975) # away from mean\n",
    "lower_bound, upper_bound = sample_mean+z_lower*sigma/n**0.5, sample_mean+z_upper*sigma/n**0.5\n",
    "print(\"Lower bound is: {}\".format(lower_bound))\n",
    "print(\"Upper bound is: {}\".format(upper_bound))"
   ]
  },
  {
   "cell_type": "markdown",
   "metadata": {},
   "source": [
    "(b) Calculate the 95% two-sided confidence interval for µ, if s = 6 and σ is unknown. <br>"
   ]
  },
  {
   "cell_type": "code",
   "execution_count": 4,
   "metadata": {
    "collapsed": false
   },
   "outputs": [
    {
     "name": "stdout",
     "output_type": "stream",
     "text": [
      "Lower bound is: 15.109469829094792\n",
      "Upper bound is: 17.49053017090521\n"
     ]
    }
   ],
   "source": [
    "# PART B\n",
    "# Calculate the 95% two-sided confidence interval for µ, if s = 6 and σ is unknown. \n",
    "# since sigma is unknown, use t distribution\n",
    "df = n - 1 \n",
    "#degree of freedom\n",
    "t_lower = stats.t.ppf(0.025, df=n-1) # away from mean\n",
    "t_upper = stats.t.ppf(0.975, df=n-1) # away from mean\n",
    "print(\"Lower bound is: {}\".format(sample_mean+t_lower*sigma/n**0.5))\n",
    "print(\"Upper bound is: {}\".format(sample_mean+t_upper*sigma/n**0.5))"
   ]
  },
  {
   "cell_type": "markdown",
   "metadata": {},
   "source": [
    "(c) Calculate the upper and lower 95% one-sided confidence intervals for µ, if s = 6 and σ is unknown. <br>"
   ]
  },
  {
   "cell_type": "code",
   "execution_count": 5,
   "metadata": {
    "collapsed": false
   },
   "outputs": [
    {
     "name": "stdout",
     "output_type": "stream",
     "text": [
      "Lower bound is: 15.303765306402166\n",
      "Upper bound is: 17.296234693597835\n"
     ]
    }
   ],
   "source": [
    "#PART C\n",
    "#Calculate the upper and lower 95% one-sided confidence intervals for population mean, if s = 6 and sigma is unknown.\n",
    "t_lower = stats.t.ppf(0.05, df=n-1) # away from mean\n",
    "t_upper = stats.t.ppf(0.95, df=n-1) # away from mean\n",
    "print(\"Lower bound is: {}\".format(sample_mean+t_lower*sigma/n**0.5))\n",
    "print(\"Upper bound is: {}\".format(sample_mean+t_upper*sigma/n**0.5))"
   ]
  },
  {
   "cell_type": "markdown",
   "metadata": {},
   "source": [
    "(d) Why is the confidence interval in (b) wider than the CI in (a)?\n",
    "\n",
    "Answer: <br>\n",
    "When the population variance is unknown, we estimate it using the sample variance. Hence, to allow for this uncertainty in part (b), we should expect a wider interval. As such we use t-distribution and this also explains why t-distribution has heavier tails than normal distribution (to account for the uncertainty)"
   ]
  },
  {
   "cell_type": "markdown",
   "metadata": {},
   "source": [
    "<h3>Question 4: </h3><br>\n",
    "Let $X_1$, . . . , $X_n$ be a random sample from a distribution with mean $\\mu$ and variance $σ^2$. Show that $E(\\bar{X}^2)$\n",
    "is a biased estimator of $\\mu^2$."
   ]
  },
  {
   "cell_type": "markdown",
   "metadata": {},
   "source": [
    "if $E[\\bar{X}^2]$ is an unbiased estimator of $\\mu^2$, then <br>\n",
    "$$E[\\bar{X}^2] - \\mu^2 = 0$$\n",
    "However, <br>\n",
    "$$Var(X) = E[\\bar{X}^2] - E[\\bar{X}]^2$$\n",
    "\n",
    "$$Var(X) = E[\\bar{X}^2] - \\mu^2$$\n",
    "\n",
    "unless X is a constant random variable (which is not) since it follows a distribution as such,\n",
    "$Var(X) \\ne 0$\n",
    "\n",
    "Thus, $E[\\bar{X}^2]$ is an biased estimator of $\\mu^2$\n"
   ]
  },
  {
   "cell_type": "markdown",
   "metadata": {},
   "source": [
    "<h3>Question 5</h3><br>\n",
    "In each of the following cases, state the two competing hypotheses that should be tested and specify which\n",
    "would you set up as the null hypothesis and which one as the alternative hypothesis. Explain your choice\n",
    "briely <br><br>\n",
    "(a) A consumer watchdog group suspects that a yogurt advertised to be 98% fat free has actually a\n",
    "higher fat content. The group plans to measure the fat contents of 25 yogurt cups (each containing\n",
    "170 grams) to verify its suspicion. <br>\n",
    "\n",
    "Let x be percentage of the yogurts mass that is not fats <br>\n",
    "$H_0 : x \\ge 98$ <br>\n",
    "$H_A : x < 98 $"
   ]
  },
  {
   "cell_type": "markdown",
   "metadata": {},
   "source": [
    "(b) It is claimed that cloud seeding is an effective technique technique to increase precipitation. <br>\n",
    "$H_0 : $ Cloud seeding is an effective technique <br>\n",
    "$H_A : $ Cloud seeding is not an effective technique"
   ]
  },
  {
   "cell_type": "markdown",
   "metadata": {
    "collapsed": true
   },
   "source": [
    "<h3>Question 6:</h3> <br>\n",
    "Consider testing $H_0 : \\mu = 0$ vs $H_A$ : $\\mu \\ne 0$ based on a random sample of size n from a $N (\\mu, 1)$ distribution.<br>\n",
    "(a) Calculate the p-values for the following three cases: <br>\n",
    "(i) x = 0.1, n = 100; <br>(ii) x = 0.1, n = 400; <br>(iii) x = 0.1, n = 900. <br>\n",
    "(b) Given the significance level $\\alpha = 0.01$, conduct the hypothesis tests for the three cases in (a).\n"
   ]
  },
  {
   "cell_type": "code",
   "execution_count": 6,
   "metadata": {
    "collapsed": false
   },
   "outputs": [],
   "source": [
    "def normal_hypothesis_test(x,mu,sigma,n, alpha):\n",
    "    z = (x - mu)/(sigma/n**0.5)\n",
    "    prob = 1-(stats.norm.cdf(z)-stats.norm.cdf(-z))\n",
    "    print(\"Probability of getting value of x at least as extreme as {} at n = {} is \\n{}\".format(x, n, prob))\n",
    "    if prob>=alpha: \n",
    "        print(\"Since {} >= {} \\nwe do not reject our hypothesis\".format(prob, alpha))\n",
    "        return True\n",
    "    else:\n",
    "        print(\"Since {} < {} \\nwe reject our hypothesis\".format(prob, alpha))\n",
    "        return False   "
   ]
  },
  {
   "cell_type": "code",
   "execution_count": 7,
   "metadata": {
    "collapsed": false
   },
   "outputs": [
    {
     "name": "stdout",
     "output_type": "stream",
     "text": [
      "Probability of getting value of x at least as extreme as 0.1 at n = 100 is \n",
      "0.31731050786291415\n",
      "Since 0.31731050786291415 >= 0.01 \n",
      "we do not reject our hypothesis\n"
     ]
    },
    {
     "data": {
      "text/plain": [
       "True"
      ]
     },
     "execution_count": 7,
     "metadata": {},
     "output_type": "execute_result"
    }
   ],
   "source": [
    "normal_hypothesis_test(x=0.1, mu=0, n=100, sigma=1, alpha=0.01)"
   ]
  },
  {
   "cell_type": "code",
   "execution_count": 8,
   "metadata": {
    "collapsed": false
   },
   "outputs": [
    {
     "name": "stdout",
     "output_type": "stream",
     "text": [
      "Probability of getting value of x at least as extreme as 0.1 at n = 400 is \n",
      "0.04550026389635842\n",
      "Since 0.04550026389635842 >= 0.01 \n",
      "we do not reject our hypothesis\n"
     ]
    },
    {
     "data": {
      "text/plain": [
       "True"
      ]
     },
     "execution_count": 8,
     "metadata": {},
     "output_type": "execute_result"
    }
   ],
   "source": [
    "normal_hypothesis_test(x=0.1, mu=0, n=400, sigma=1, alpha=0.01)"
   ]
  },
  {
   "cell_type": "code",
   "execution_count": 9,
   "metadata": {
    "collapsed": false
   },
   "outputs": [
    {
     "name": "stdout",
     "output_type": "stream",
     "text": [
      "Probability of getting value of x at least as extreme as 0.1 at n = 900 is \n",
      "0.002699796063260207\n",
      "Since 0.002699796063260207 < 0.01 \n",
      "we reject our hypothesis\n"
     ]
    },
    {
     "data": {
      "text/plain": [
       "False"
      ]
     },
     "execution_count": 9,
     "metadata": {},
     "output_type": "execute_result"
    }
   ],
   "source": [
    "normal_hypothesis_test(x=0.1, mu=0, n=900, sigma=1, alpha=0.01)"
   ]
  },
  {
   "cell_type": "markdown",
   "metadata": {},
   "source": [
    "<h3>Question 7</h3><br>\n",
    "A tire company has developed a new tread design. To determine the newly designed tire has a mean of\n",
    "60,000 miles or more, a random sample of 16 prototype tires are tested. The mean life for this sample is\n",
    "60,758 miles. Assume that the tire life is normally distributed with unknown µ and standard deviation\n",
    "σ = 1500 miles. Test the hypothesis $H_0 : µ = 60, 000$ vs. $H_A : µ > 60, 000$"
   ]
  },
  {
   "cell_type": "markdown",
   "metadata": {},
   "source": [
    "a) Compute the test statistic and the p-value. Based on the p-value, state whether H0 can be rejected\n",
    "at α = 0.01."
   ]
  },
  {
   "cell_type": "code",
   "execution_count": 10,
   "metadata": {
    "collapsed": false
   },
   "outputs": [
    {
     "name": "stdout",
     "output_type": "stream",
     "text": [
      "Test Statistic: 1.9571475842834813\n",
      "p-value: 0.05876834810545223 (Do not reject)\n"
     ]
    }
   ],
   "source": [
    "# assume h 0 is true,\n",
    "mu = 60000\n",
    "n = 16 # sample size\n",
    "x = 60758 # sample mean\n",
    "sigma = 1500\n",
    "test_statistic = (x - mu)/(sigma/ (n-1)**0.5)\n",
    "print(\"Test Statistic: {}\".format(test_statistic))\n",
    "prob = stats.norm.pdf(test_statistic)\n",
    "status = \"Reject\" if prob < 0.01 else \"Do not reject\"\n",
    "print(\"p-value: {} ({})\".format(prob, status))"
   ]
  },
  {
   "cell_type": "markdown",
   "metadata": {},
   "source": [
    "b) What is the power of the 0.01-level test in (a) if the true mean life for the new tread design is 61,000\n",
    "miles?"
   ]
  },
  {
   "cell_type": "markdown",
   "metadata": {},
   "source": [
    "$P(\\frac{x-\\mu}{\\sigma/\\sqrt{n-1}} < Z) = 0.01$\n",
    "\n",
    "x is the critical value to reject at 0.01 significance level"
   ]
  },
  {
   "cell_type": "code",
   "execution_count": 11,
   "metadata": {
    "collapsed": false
   },
   "outputs": [
    {
     "name": "stdout",
     "output_type": "stream",
     "text": [
      "Critical value: 60900.99065736452\n",
      "Power of test: 0.5067987384008006\n"
     ]
    }
   ],
   "source": [
    "critical_value = stats.norm.ppf(0.99)*sigma/(n-1)**0.5+mu\n",
    "print(\"Critical value: {}\".format(critical_value))\n",
    "beta = stats.norm.cdf((critical_value - 61000)/ sigma/(n-1)**0.5)\n",
    "print(\"Power of test: {}\".format(1-beta))"
   ]
  },
  {
   "cell_type": "markdown",
   "metadata": {},
   "source": [
    "c) Suppose that at least 90% power is needed to identify a tread design that has the mean life of 61, 000\n",
    "miles. How many tires should be tested?"
   ]
  },
  {
   "cell_type": "code",
   "execution_count": 12,
   "metadata": {
    "collapsed": false
   },
   "outputs": [
    {
     "name": "stdout",
     "output_type": "stream",
     "text": [
      "At least 13.0 tires are to be tested\n"
     ]
    }
   ],
   "source": [
    "alpha = 0.01\n",
    "beta = 0.1\n",
    "n = ((sigma*stats.norm.ppf(1-alpha)+stats.norm.ppf(1-beta)) / (mu-61000))**2\n",
    "print(\"At least {} tires are to be tested\".format(np.ceil(n)))"
   ]
  },
  {
   "cell_type": "markdown",
   "metadata": {},
   "source": [
    "<h3>Question 8</h3><br>\n",
    "Two methods of measuring the atomic weight of carbon (the nominal atomic weight is 12) yielded the\n",
    "following results."
   ]
  },
  {
   "cell_type": "code",
   "execution_count": 13,
   "metadata": {
    "collapsed": false
   },
   "outputs": [
    {
     "name": "stdout",
     "output_type": "stream",
     "text": [
      "Method 1: [12.0129, 12.0072, 12.0064, 12.0054, 12.0016, 11.9853, 11.9949, 11.9985, 12.0077, 12.0061]\n",
      "Method 2: [12.0318, 12.0246, 12.0069, 12.0006, 12.0075]\n"
     ]
    }
   ],
   "source": [
    "method_1 = [float(i) for i in \"12.0129 12.0072 12.0064 12.0054 12.0016 11.9853 11.9949 11.9985 12.0077 12.0061\".split(\" \")]\n",
    "method_2 = [float(i) for i in\"12.0318 12.0246 12.0069 12.0006 12.0075\".split(\" \")]\n",
    "print(\"Method 1: {}\".format(method_1))\n",
    "print(\"Method 2: {}\".format(method_2))"
   ]
  },
  {
   "cell_type": "markdown",
   "metadata": {},
   "source": [
    "<h5>Part A</h5><br>\n",
    "test: <br>\n",
    "$H_0: \\mu_1 = \\mu_2 $ <br>\n",
    "$H_0: \\mu_1 \\ne \\mu_2 $ <br>\n",
    "\n",
    "$\\alpha = 0.05$ <br>\n",
    "assuming $\\sigma^2_1 = \\sigma^2_2$, what is your conclusion?"
   ]
  },
  {
   "cell_type": "markdown",
   "metadata": {},
   "source": [
    "Assume $\\sigma^2_1 = \\sigma^2_2$\n",
    "\n",
    "$$S^2 = \\frac{(n_1-1)S^2+(n-2-1)S^2}{(n_1-1)+(n_2-1)}$$\n",
    "\n",
    "Define:\n",
    "\n",
    "$$T = \\frac{(\\bar{X}-\\bar{Y})-(\\mu_1-\\mu_2)}{S\\sqrt{\\frac{1}{n_1}+\\frac{1}{n_2}}}$$\n",
    "\n",
    "T follows a t-distribution with $n_1 + n_2 - 2$ degrees of freedom"
   ]
  },
  {
   "cell_type": "code",
   "execution_count": 14,
   "metadata": {
    "collapsed": false
   },
   "outputs": [
    {
     "name": "stdout",
     "output_type": "stream",
     "text": [
      "Variance: 9.732369230769026e-05\n",
      "Test statistic: -2.1615880308403224\n"
     ]
    }
   ],
   "source": [
    "var1 = np.var(method_1, ddof=1) # sample varianace\n",
    "var2 = np.var(method_2, ddof=1)\n",
    "n1 = len(method_1) \n",
    "n2 = len(method_2)\n",
    "\n",
    "variance = ((n1-1)*var1+(n2-1)*var2)/(n1-1+n2-1)\n",
    "print(\"Variance: {}\".format(variance))\n",
    "T = (np.mean(method_1)-np.mean(method_2))/((variance*((1/n1)+(1/n2)))**0.5)\n",
    "# where T follows a T-distribution with \n",
    "print(\"Test statistic: {}\".format(T))"
   ]
  },
  {
   "cell_type": "code",
   "execution_count": 15,
   "metadata": {
    "collapsed": false
   },
   "outputs": [
    {
     "name": "stdout",
     "output_type": "stream",
     "text": [
      "Probability: 0.04988864470517494\n",
      "Significance value is 0.05\n",
      "Reject null hypothesis\n"
     ]
    }
   ],
   "source": [
    "ddof = n1+n2-2\n",
    "prob = stats.t.cdf(T,ddof)*2\n",
    "print(\"Probability: {}\".format(prob))\n",
    "print(\"Significance value is 0.05\")\n",
    "print(\"Reject null hypothesis\" if prob < 0.05 else \"Do not reject null hypothesis\")"
   ]
  },
  {
   "cell_type": "markdown",
   "metadata": {},
   "source": [
    "<h5>Part B</h5><br>\n",
    "test: <br>\n",
    "$H_0: \\mu_1 = \\mu_2 $ <br>\n",
    "$H_A: \\mu_1 \\ne \\mu_2 $ <br>\n",
    "\n",
    "$\\alpha = 0.05$ <br>\n",
    "assuming $\\sigma^2_1 \\ne \\sigma^2_2$, what is your conclusion?"
   ]
  },
  {
   "cell_type": "markdown",
   "metadata": {},
   "source": [
    "Assume $\\sigma_1^2 \\ne \\sigma_2^2$\n",
    "\n",
    "$$T = \\frac{\\bar{X}-\\bar{Y}-(\\mu_1-\\mu_2)}{\\sqrt{\\frac{S_1^2}{n_1}+\\frac{S_2^2}{n_2}}}$$\n",
    "\n",
    "Then T approximately follows a t-distribution with ν degrees of freedom where\n",
    "\n",
    "$$v = \\frac{(\\omega_1 + \\omega_2)^2}{\\omega_1^2/(n_1-1)+\\omega_2^2/(n_2-1)}$$\n",
    "\n",
    "where $\\omega_1=s_1^2/n_1,  \\omega_2=s_2^2/n_2$"
   ]
  },
  {
   "cell_type": "code",
   "execution_count": 16,
   "metadata": {
    "collapsed": false
   },
   "outputs": [
    {
     "name": "stdout",
     "output_type": "stream",
     "text": [
      "test statistic: -1.8170309967381246\n",
      "T: -1.8170309967381246\n",
      "Probability of being as extreme: 0.12376053947705491\n",
      "Significance value is 0.05\n",
      "Do not reject null hypothesis\n"
     ]
    }
   ],
   "source": [
    "T = (np.mean(method_1)-np.mean(method_2))/(((var1/n1)+(var2/n2))**0.5)\n",
    "\n",
    "w1 = var1/n1\n",
    "w2 = var2/n2\n",
    "v = (w1+w2)**2/((w1**2/(n1-1))+w2**2/(n2-1))\n",
    "print(\"test statistic: {}\".format(T))\n",
    "print(\"T: \" +str(T))\n",
    "prob = (stats.t.cdf(T,v)*2)\n",
    "print(\"Probability of being as extreme: {}\".format(prob))\n",
    "print(\"Significance value is 0.05\")\n",
    "print(\"Reject null hypothesis\" if prob < 0.05 else \"Do not reject null hypothesis\")"
   ]
  },
  {
   "cell_type": "markdown",
   "metadata": {},
   "source": [
    "<h3>Question 9</h3><br> \n",
    "\n",
    "A restaurant purchased a new oven, which is hoped to have more even heating than the old oven. By\n",
    "testing 9 locations inside each oven on the same temperature setting, it is found that the sample standard\n",
    "deviation for the temperature in the old oven is $s_1 = 2.3$, while that for the new oven is $s_2 = 1.1$. \n",
    "\n",
    "Set up a\n",
    "hypothesis test with $\\alpha = 0.05$ to check whether the new oven indeed provides more even heating."
   ]
  },
  {
   "cell_type": "markdown",
   "metadata": {},
   "source": [
    "$H_0: \\sigma_1 = \\sigma_2$\n",
    "\n",
    "$H_A: \\sigma_1 > \\sigma_2$\n",
    "\n",
    "Assume $H_0$ is true, that $\\sigma_1 = \\sigma_2$ "
   ]
  },
  {
   "cell_type": "code",
   "execution_count": 17,
   "metadata": {
    "collapsed": false
   },
   "outputs": [
    {
     "name": "stdout",
     "output_type": "stream",
     "text": [
      "F: 4.3719008264462795\n",
      "Confidence Interval, at 0.05 level is: [1.2716032861420319, inf]\n"
     ]
    }
   ],
   "source": [
    "s1 = 2.3\n",
    "s2 = 1.1\n",
    "n1 = n2 = 9\n",
    "F = s1**2/s2**2 # since sigma1 = sigma2\n",
    "f_upper = stats.f.ppf(0.95, n1-1, n2-1)\n",
    "print(\"F: \" + str(F))\n",
    "interval = [(1/f_upper)*(F), np.inf]\n",
    "print(\"Confidence Interval, at 0.05 level is: {}\".format(interval))\n"
   ]
  },
  {
   "cell_type": "markdown",
   "metadata": {},
   "source": [
    "F falls within the interval hence, we do not reject the null hypothesis that Var(X) == Var(Y)"
   ]
  },
  {
   "cell_type": "markdown",
   "metadata": {},
   "source": [
    "### Question 10\n",
    "\n",
    "A person claims to be able to taste whether tea or milk was added first to a cup of English tea. To test her\n",
    "claim, 12 cups of visually indistinguishable tea are prepared, of which 6 of the cups are prepared tea-first,\n",
    "the other 6 milk-first. Being aware of this experimental setup, she would always try to pick 6 of the cups\n",
    "as tea-first, and the other 6 as milk-first. After tasting each cup of tea, she correctly identities 5 of the\n",
    "tea-first cups (making 1 mistake), and 5 of the milk-first cups (also making 1 mistake).\n",
    "Compute the p-value, that is, the probability that one can do at least as well as her by guessing, and hence\n",
    "perform a hypothesis test at the $\\alpha = 0.05$ level."
   ]
  },
  {
   "cell_type": "markdown",
   "metadata": {},
   "source": [
    "$H_0:$ She is randomly guessing\n",
    "\n",
    "$H_A:$ She is able to taste\n",
    "\n",
    "She guess 10 correctly and 2 wrongly.\n",
    "\n",
    "However, she knows that for every wrong that she got on one set, she will get wrong for the other.\n",
    "\n",
    "As such, we can model the problem as her getting 5 correct and 1 wrong\n",
    "\n",
    "For a random guess, each cup has a 50 percent chance of being correct.\n",
    "\n",
    "As such, the probability of randomly getting doing as well as her includes:\n",
    "(5 correct, 1 wrong) and (6 correct, 0 wrong)"
   ]
  },
  {
   "cell_type": "code",
   "execution_count": 18,
   "metadata": {
    "collapsed": true
   },
   "outputs": [],
   "source": [
    "from scipy.misc import comb"
   ]
  },
  {
   "cell_type": "code",
   "execution_count": 19,
   "metadata": {
    "collapsed": false
   },
   "outputs": [
    {
     "name": "stdout",
     "output_type": "stream",
     "text": [
      "0.109375\n"
     ]
    }
   ],
   "source": [
    "prob = comb(6,5)*(0.5)**5*0.5**1 + comb(6,6)*(0.5)**6*0.5**0\n",
    "print(prob)"
   ]
  },
  {
   "cell_type": "markdown",
   "metadata": {},
   "source": [
    "Since the probability of one guessing is lower than 0.05, we reject the null hypthesis and conclude that she is able to taste."
   ]
  }
 ],
 "metadata": {
  "kernelspec": {
   "display_name": "Python 3",
   "language": "python",
   "name": "python3"
  },
  "language_info": {
   "codemirror_mode": {
    "name": "ipython",
    "version": 3
   },
   "file_extension": ".py",
   "mimetype": "text/x-python",
   "name": "python",
   "nbconvert_exporter": "python",
   "pygments_lexer": "ipython3",
   "version": "3.6.0"
  }
 },
 "nbformat": 4,
 "nbformat_minor": 2
}
