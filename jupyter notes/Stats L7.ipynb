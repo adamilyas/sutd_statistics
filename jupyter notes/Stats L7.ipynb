{
 "cells": [
  {
   "cell_type": "code",
   "execution_count": 1,
   "metadata": {
    "collapsed": true
   },
   "outputs": [],
   "source": [
    "import numpy as np\n",
    "import scipy as sp\n",
    "from scipy import stats\n",
    "import pandas as pd\n",
    "import matplotlib.pyplot as plt\n",
    "import math"
   ]
  },
  {
   "cell_type": "code",
   "execution_count": 2,
   "metadata": {
    "collapsed": true
   },
   "outputs": [],
   "source": [
    "data = [50.1, 50.3, 50.3, 51.2, 51.5, 51.6]"
   ]
  },
  {
   "cell_type": "code",
   "execution_count": 3,
   "metadata": {
    "collapsed": false
   },
   "outputs": [
    {
     "data": {
      "text/plain": [
       "50.833333333333336"
      ]
     },
     "execution_count": 3,
     "metadata": {},
     "output_type": "execute_result"
    }
   ],
   "source": [
    "np.mean(data)"
   ]
  },
  {
   "cell_type": "markdown",
   "metadata": {},
   "source": [
    "<h3>Sample variance</h3>"
   ]
  },
  {
   "cell_type": "code",
   "execution_count": 4,
   "metadata": {
    "collapsed": false
   },
   "outputs": [
    {
     "name": "stdout",
     "output_type": "stream",
     "text": [
      "0.45466666666666833\n",
      "0.4546666666666683\n"
     ]
    }
   ],
   "source": [
    "def sample_variance(data_set): #s**2\n",
    "    n = len(data_set)\n",
    "    mean_data = sum(data_set)/n\n",
    "    return 1/(n-1)*sum([(i-mean_data)**2 for i in data_set])\n",
    "\n",
    "print(sample_variance(data))\n",
    "print(np.var(data, ddof=1))"
   ]
  },
  {
   "cell_type": "markdown",
   "metadata": {},
   "source": [
    "<h3>Population variance</h3>"
   ]
  },
  {
   "cell_type": "code",
   "execution_count": 5,
   "metadata": {
    "collapsed": false
   },
   "outputs": [
    {
     "name": "stdout",
     "output_type": "stream",
     "text": [
      "0.3788888888888902\n",
      "0.3788888888888902\n"
     ]
    }
   ],
   "source": [
    "n = len(data)\n",
    "print(1/(n)*sum([(i-np.mean(data))**2 for i in data]))\n",
    "print(np.var(data, ddof=0))"
   ]
  },
  {
   "cell_type": "code",
   "execution_count": 6,
   "metadata": {
    "collapsed": false
   },
   "outputs": [
    {
     "data": {
      "text/plain": [
       "1.959963984540054"
      ]
     },
     "execution_count": 6,
     "metadata": {},
     "output_type": "execute_result"
    }
   ],
   "source": [
    "stats.norm.ppf(0.975)"
   ]
  },
  {
   "cell_type": "code",
   "execution_count": 7,
   "metadata": {
    "collapsed": false
   },
   "outputs": [
    {
     "data": {
      "text/plain": [
       "1.6448536269514722"
      ]
     },
     "execution_count": 7,
     "metadata": {},
     "output_type": "execute_result"
    }
   ],
   "source": [
    "stats.norm.ppf(0.95)"
   ]
  },
  {
   "cell_type": "markdown",
   "metadata": {},
   "source": [
    "<h3>Standard Normal Distribution</h3>"
   ]
  },
  {
   "cell_type": "code",
   "execution_count": 8,
   "metadata": {
    "collapsed": false
   },
   "outputs": [
    {
     "data": {
      "image/png": "[encoded data removed]",
      "text/plain": [
       "<matplotlib.figure.Figure at 0x282058fd7f0>"
      ]
     },
     "metadata": {},
     "output_type": "display_data"
    }
   ],
   "source": [
    "mu = 0\n",
    "variance = 1\n",
    "sigma = variance**0.5\n",
    "\n",
    "#create an array from lower to upper, with 100 intervals\n",
    "x = (np.linspace(mu - 3*sigma, mu + 3*sigma, 100)) \n",
    "y = [stats.norm.pdf(i) for i in x]\n",
    "plt.axvline(0)\n",
    "plt.plot(x,y)\n",
    "plt.show()"
   ]
  },
  {
   "cell_type": "markdown",
   "metadata": {},
   "source": [
    "<h3>Distribution of Sample Variance</h3>\n",
    "$$\\frac{n-1}{{\\sigma}^2}S^2 \\sim \\chi_{n-1}^2$$"
   ]
  },
  {
   "cell_type": "code",
   "execution_count": 10,
   "metadata": {
    "collapsed": false
   },
   "outputs": [
    {
     "name": "stdout",
     "output_type": "stream",
     "text": [
      "[347.22819235130066, 352.77180764869934]\n"
     ]
    },
    {
     "data": {
      "image/png": "[encoded data removed]",
      "text/plain": [
       "<matplotlib.figure.Figure at 0x282079a6198>"
      ]
     },
     "metadata": {},
     "output_type": "display_data"
    }
   ],
   "source": [
    "z_alpha = stats.norm.ppf(0.975)\n",
    "n = 50\n",
    "sigma = 10\n",
    "sample_mean = 350\n",
    "interval = [sample_mean - z_alpha*sigma/(50**0.5), sample_mean + z_alpha*sigma/(50**0.5)]\n",
    "print(interval)\n",
    "\n",
    "x = (np.linspace( -3, +3, 100)) \n",
    "y = [stats.norm.pdf(i) for i in x]\n",
    "plt.axvline(z_alpha)\n",
    "plt.axvline(-z_alpha)\n",
    "plt.plot(x,y)\n",
    "plt.show()"
   ]
  },
  {
   "cell_type": "markdown",
   "metadata": {
    "collapsed": true
   },
   "source": [
    "<h3>Exercise:</h3>\n",
    "\n",
    "A bottling company uses a filling machine, and the amount filled is normally distributed.\n",
    "Based on 16 samples, the sample standard deviation of the amount filled is 700 ml. Find a\n",
    "95% two-sided confidence interval for $\\sigma$.\n"
   ]
  },
  {
   "cell_type": "code",
   "execution_count": 11,
   "metadata": {
    "collapsed": false
   },
   "outputs": [
    {
     "name": "stdout",
     "output_type": "stream",
     "text": [
      "[517.0934004253787, 1083.383855901225]\n"
     ]
    },
    {
     "data": {
      "image/png": "[encoded data removed]",
      "text/plain": [
       "<matplotlib.figure.Figure at 0x28207a4a518>"
      ]
     },
     "metadata": {},
     "output_type": "display_data"
    }
   ],
   "source": [
    "n = 16\n",
    "S = 700\n",
    "x = (np.linspace( 0, +100, 350)) \n",
    "y = [stats.chi2.pdf(i, n-1) for i in x]\n",
    "\n",
    "l1 = stats.chi2.ppf(0.025,15)\n",
    "l2 = stats.chi2.ppf(0.975,15)\n",
    "\n",
    "interval = [((n-1)*S**2)/l2, ((n-1)*S**2)/l1]\n",
    "print([i**0.5 for i in interval])\n",
    "plt.plot(x,y)\n",
    "plt.show()"
   ]
  },
  {
   "cell_type": "markdown",
   "metadata": {
    "collapsed": false
   },
   "source": [
    "$H_0:\\mu = 19$\n",
    "\n",
    "$H_A:\\mu \\neq 19$\n",
    "\n",
    "$n = 36$\n",
    "\n",
    "$\\bar{x} = 20$\n",
    "\n",
    "$s = 3$\n"
   ]
  },
  {
   "cell_type": "code",
   "execution_count": null,
   "metadata": {
    "collapsed": true
   },
   "outputs": [],
   "source": [
    "sample_size = 36\n",
    "pop_mean = 19\n",
    "sample_mean = 20\n",
    "sample_stdev = 3\n",
    "\n",
    "#using CLT\n",
    "z = (sample_mean-pop_mean)/(sample_stdev/sample_size**0.5)\n",
    "print(z)\n",
    "p_value = 1-stats.norm.cdf(2)\n",
    "print('p-value: ' + str(p_value))\n",
    "print(str(round(p_value*100,3)) + ' percent')"
   ]
  },
  {
   "cell_type": "code",
   "execution_count": 14,
   "metadata": {
    "collapsed": false
   },
   "outputs": [
    {
     "data": {
      "image/png": "[encoded data removed]",
      "text/plain": [
       "<matplotlib.figure.Figure at 0x28207b71518>"
      ]
     },
     "metadata": {},
     "output_type": "display_data"
    }
   ],
   "source": [
    "x = (np.linspace( -3, +3, 100)) \n",
    "y = [stats.norm.pdf(i) for i in x]\n",
    "plt.axvline(z)\n",
    "plt.plot(x,y)\n",
    "plt.show()"
   ]
  },
  {
   "cell_type": "markdown",
   "metadata": {
    "collapsed": false
   },
   "source": [
    "Power of test"
   ]
  },
  {
   "cell_type": "markdown",
   "metadata": {
    "collapsed": true
   },
   "source": [
    "Let $f_1$ be the flow time of 1 unit at station 1\n",
    "\n",
    "Assume $f_1 - setup_1 \\propto \\frac{1}{n_1}$, where $n_1, setup_1$ is the number of machines in station 1 and setup time for machine 1, respectively. \n",
    "\n",
    "$f_t = f_1 + setup_1 + f_2 + setup_2 + \\frac{f_2 + setup_2 + f_3 + setup_3}{1-failure}$\n",
    "\n",
    "$f_t =  \\frac{k_1}{n_1} + setup_1 + \\frac{k_2}{n_2} + setup_2 + \\frac{\\frac{k_2}{n_2} + setup_2 + \\frac{k_3}{n_3} + setup_3}{1-failure}$\n",
    "\n"
   ]
  },
  {
   "cell_type": "markdown",
   "metadata": {},
   "source": []
  },
  {
   "cell_type": "code",
   "execution_count": 4,
   "metadata": {
    "collapsed": false
   },
   "outputs": [
    {
     "name": "stdout",
     "output_type": "stream",
     "text": [
      "1175.6086346367806 optimal inventory position at start of 100 day period\n",
      "745965.1591921359 expected profit for exhaust-inventory strategy\n",
      "18667.559990961337 interest in cost required\n",
      "585096.1314195328\n"
     ]
    }
   ],
   "source": [
    "from scipy.stats import norm\n",
    "from math import sqrt, floor\n",
    "import seaborn as sns\n",
    "import pandas as pd\n",
    "\n",
    "\n",
    "daysleft = 100\n",
    "\n",
    "c_s = profitfrom1order = 650.0\n",
    "c_o = 1250-c_s\n",
    "\n",
    "interest = 0.00026115787\n",
    "\n",
    "mean_100 = 11.7389033943*daysleft\n",
    "var_100 = (3.42606666977**2)*daysleft\n",
    "zstar = norm.ppf(c_s/(c_s+c_o))\n",
    "\n",
    "lhs =  mean_100+ (var_100)**0.5 * zstar\n",
    "qstar = lhs\n",
    "print(lhs, \"optimal inventory position at start of 100 day period\")\n",
    "#1175.60863464\n",
    "\n",
    "\n",
    "z = (qstar-mean_100)/sqrt(var_100)\n",
    "elostsales = sqrt(var_100)*(norm.pdf(z) - z*(1-norm.cdf(z)))\n",
    "esales = mean_100 - elostsales\n",
    "eleftoverinv = qstar - esales\n",
    "eprofit = esales*c_s - eleftoverinv*c_o\n",
    "print(eprofit, \"expected profit for exhaust-inventory strategy\")\n",
    "\n",
    "cost = round(lhs)*600\n",
    "interestoncost = cost*(1+interest)**daysleft-cost\n",
    "print(interestoncost, \"interest in cost required\")\n",
    "#18651.6862155\n",
    "\n",
    "#quick estimation of best-case profit if we did not change:\n",
    "reorderpt = 61\n",
    "#round down because we assume the last order doesn't hit before the end \n",
    "averagedaysbetweenreorder = floor(61.0/(mean_100/100)) \n",
    "bestremainingreorders = daysleft/averagedaysbetweenreorder\n",
    "print (profitfrom1order * reorderpt * daysleft / 7.0 + interestoncost)"
   ]
  },
  {
   "cell_type": "markdown",
   "metadata": {},
   "source": [
    "$Q\\ast = \\sqrt{\\frac{2AD}{h}} $\n",
    "\n",
    "$h = i \\times c \\times Q\\ast$"
   ]
  },
  {
   "cell_type": "code",
   "execution_count": null,
   "metadata": {
    "collapsed": true
   },
   "outputs": [],
   "source": []
  }
 ],
 "metadata": {
  "kernelspec": {
   "display_name": "Python 3",
   "language": "python",
   "name": "python3"
  },
  "language_info": {
   "codemirror_mode": {
    "name": "ipython",
    "version": 3
   },
   "file_extension": ".py",
   "mimetype": "text/x-python",
   "name": "python",
   "nbconvert_exporter": "python",
   "pygments_lexer": "ipython3",
   "version": "3.6.0"
  }
 },
 "nbformat": 4,
 "nbformat_minor": 2
}
