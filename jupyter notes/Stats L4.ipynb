{
 "cells": [
  {
   "cell_type": "code",
   "execution_count": 1,
   "metadata": {
    "collapsed": true
   },
   "outputs": [],
   "source": [
    "import numpy as np\n",
    "import scipy as sp\n",
    "from scipy import stats\n",
    "import pandas as pd\n",
    "import matplotlib.pyplot as plt\n",
    "import math"
   ]
  },
  {
   "cell_type": "code",
   "execution_count": 2,
   "metadata": {
    "collapsed": true
   },
   "outputs": [],
   "source": [
    "def mean(data_set):\n",
    "    return sum(data_set)/len(data_set)\n",
    "\n",
    "def median(data_set):\n",
    "    data_set.sort()\n",
    "    n = len(data_set)\n",
    "    if n%2==0: # even\n",
    "        return (data_set[int(n/2)] + data_set[int(n/2-1)])/2\n",
    "    if n%2==1:\n",
    "        return data_set[int((n-1)/2)]\n",
    "    \n",
    "def mode(data_set):\n",
    "    modes = []\n",
    "    maxFreq = max([data_set.count(i) for i in data_set])\n",
    "    for i in set(data_set):\n",
    "        if data_set.count(i) == maxFreq:\n",
    "            modes.append(i)\n",
    "    return modes"
   ]
  },
  {
   "cell_type": "markdown",
   "metadata": {},
   "source": [
    "Sample Variance:\n",
    "$$s^2 = \\frac{1}{n-1} \\sum_{i=1}^n (x_i - \\bar{x})^2$$\n",
    "Sample Standard Deviation:\n",
    "$$s = \\sqrt {\\frac{1}{n-1} \\sum_{i=1}^n (x_i - \\bar{x})^2}$$"
   ]
  },
  {
   "cell_type": "code",
   "execution_count": 3,
   "metadata": {
    "collapsed": true
   },
   "outputs": [],
   "source": [
    "def sample_variance(data_set): #s**2\n",
    "    n = len(data_set)\n",
    "    mean_data = sum(data)/n\n",
    "    return 1/(n-1)*sum([(i-mean_data)**2 for i in data_set])\n",
    "\n",
    "def sample_stdev(data_set):\n",
    "    return sample_variance(data_set)**0.5 "
   ]
  },
  {
   "cell_type": "markdown",
   "metadata": {
    "collapsed": true
   },
   "source": [
    "Sample coefficient of variance:\n",
    "$CV = \\frac{s}{\\bar{x}}$\n",
    "\n",
    "where s = sample standard deviation\n",
    "$\\bar{x}$ = mean"
   ]
  },
  {
   "cell_type": "markdown",
   "metadata": {
    "collapsed": true
   },
   "source": [
    "z-score/ standard score: \n",
    "$$z_i = \\frac{x_i - \\bar{x}}{s}$$\n",
    "\n",
    "where s = sample standard deviation\n",
    "$\\bar{x}$ = mean\n",
    "\n",
    "To calculate how many standard deviation a data value is above a sample mean\n",
    "USEFUL TO DETECT OUTLIERS"
   ]
  },
  {
   "cell_type": "code",
   "execution_count": 19,
   "metadata": {
    "collapsed": false
   },
   "outputs": [
    {
     "data": {
      "image/png": "[encoded data removed]",
      "text/plain": [
       "<matplotlib.figure.Figure at 0x22b4d660358>"
      ]
     },
     "metadata": {},
     "output_type": "display_data"
    }
   ],
   "source": [
    "ls = [6.10, 6.74, 6.22, 5.65, 6.38, 6.70, 7.00, 6.43, 7.00, 6.70,\n",
    "6.70, 5.94, 6.28, 6.34, 6.62, 6.55, 2.92, 6.10, 6.20, 6.70,\n",
    "7.00, 6.85, 6.31, 6.26, 6.36, 6.28, 6.38, 6.70, 6.62, 7.00,\n",
    "6.45, 6.31, 2.86, 6.31, 6.09, 6.17, 6.64, 6.45, 7.00, 6.18,\n",
    "6.58, 5.38, 6.34, 7.00, 5.70, 6.65, 6.56, 6.00, 6.70, 6.45]\n",
    "ls.sort()\n",
    "n = len(ls)\n",
    "y = [stats.norm.ppf(i/(n+1)) for i in range(1, n+1)]\n",
    "plt.scatter(ls,y)\n",
    "plt.xlim(xmin=0)\n",
    "plt.show()"
   ]
  },
  {
   "cell_type": "markdown",
   "metadata": {},
   "source": [
    "Sample covariance:\n",
    "$$s_{xy} = \\frac{1}{n-1} \\sum_{i=1}^n (x_i-\\bar{x})(y_i-\\bar{y})$$\n",
    "Sample Correlation Coefficient:\n",
    "$$r_{xy} = \\frac{s_{xy}}{s_xs_y}$$\n",
    "where $s_{xy}$ is sample covariance\n",
    "$s_x$ and $s_y$ are sample variance respectively"
   ]
  },
  {
   "cell_type": "code",
   "execution_count": 38,
   "metadata": {
    "collapsed": false
   },
   "outputs": [],
   "source": [
    "import sys\n",
    "\n",
    "def sample_covariance(X, Y):\n",
    "    try:\n",
    "        X.sort()\n",
    "        Y.sort()\n",
    "        x_mean = np.mean(X)\n",
    "        y_mean = np.mean(Y)\n",
    "        n = len(X)\n",
    "        return 1/(n-1)*sum([(X[i] - x_mean)*(Y[i] - y_mean) for i in range(n)])\n",
    "    except:\n",
    "        return sys.exc_info()     "
   ]
  },
  {
   "cell_type": "code",
   "execution_count": 53,
   "metadata": {
    "collapsed": false
   },
   "outputs": [
    {
     "name": "stdout",
     "output_type": "stream",
     "text": [
      "[2.86, 2.92, 5.38, 5.65, 5.7, 5.94, 6.0, 6.09, 6.1, 6.1, 6.17, 6.18, 6.2, 6.22, 6.26, 6.28, 6.28, 6.31, 6.31, 6.31, 6.34, 6.34, 6.36, 6.38, 6.38, 6.43, 6.45, 6.45, 6.45, 6.55, 6.56, 6.58, 6.62, 6.62, 6.64, 6.65, 6.7, 6.7, 6.7, 6.7, 6.7, 6.7, 6.74, 6.85, 7.0, 7.0, 7.0, 7.0, 7.0, 7.0]\n",
      "7.0\n"
     ]
    }
   ],
   "source": [
    "def moving_average(data_set, w):\n",
    "    n = len(data_set)\n",
    "    return(sum(data_set[n-w:n])/w)\n",
    "\n"
   ]
  },
  {
   "cell_type": "code",
   "execution_count": null,
   "metadata": {
    "collapsed": true
   },
   "outputs": [],
   "source": [
    "from scipy.stats import norm\n",
    "\n",
    "def backorder(r):\n",
    "    "
   ]
  }
 ],
 "metadata": {
  "kernelspec": {
   "display_name": "Python 3",
   "language": "python",
   "name": "python3"
  },
  "language_info": {
   "codemirror_mode": {
    "name": "ipython",
    "version": 3
   },
   "file_extension": ".py",
   "mimetype": "text/x-python",
   "name": "python",
   "nbconvert_exporter": "python",
   "pygments_lexer": "ipython3",
   "version": "3.6.0"
  }
 },
 "nbformat": 4,
 "nbformat_minor": 2
}
