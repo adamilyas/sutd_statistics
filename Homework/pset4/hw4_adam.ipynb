{
 "cells": [
  {
   "cell_type": "markdown",
   "metadata": {},
   "source": [
    "# Homework Problem Set 4\n",
    "\n",
    "Done by Adam Ilyas 1002010"
   ]
  },
  {
   "cell_type": "code",
   "execution_count": 1,
   "metadata": {},
   "outputs": [],
   "source": [
    "import pandas as pd\n",
    "import numpy as np\n",
    "\n",
    "import scipy.stats as stats\n",
    "from scipy.misc import comb"
   ]
  },
  {
   "cell_type": "markdown",
   "metadata": {},
   "source": [
    "## Question 1. \n",
    "\n",
    "Refer to the spreadsheet for the corneal thickness data of glaucoma patients"
   ]
  },
  {
   "cell_type": "code",
   "execution_count": 2,
   "metadata": {},
   "outputs": [
    {
     "data": {
      "text/html": [
       "<div>\n",
       "<style>\n",
       "    .dataframe thead tr:only-child th {\n",
       "        text-align: right;\n",
       "    }\n",
       "\n",
       "    .dataframe thead th {\n",
       "        text-align: left;\n",
       "    }\n",
       "\n",
       "    .dataframe tbody tr th {\n",
       "        vertical-align: top;\n",
       "    }\n",
       "</style>\n",
       "<table border=\"1\" class=\"dataframe\">\n",
       "  <thead>\n",
       "    <tr style=\"text-align: right;\">\n",
       "      <th></th>\n",
       "      <th>Person</th>\n",
       "      <th>Glaucoma</th>\n",
       "      <th>No Glaucoma</th>\n",
       "    </tr>\n",
       "  </thead>\n",
       "  <tbody>\n",
       "    <tr>\n",
       "      <th>0</th>\n",
       "      <td>1</td>\n",
       "      <td>488</td>\n",
       "      <td>484</td>\n",
       "    </tr>\n",
       "    <tr>\n",
       "      <th>1</th>\n",
       "      <td>2</td>\n",
       "      <td>478</td>\n",
       "      <td>478</td>\n",
       "    </tr>\n",
       "    <tr>\n",
       "      <th>2</th>\n",
       "      <td>3</td>\n",
       "      <td>480</td>\n",
       "      <td>492</td>\n",
       "    </tr>\n",
       "    <tr>\n",
       "      <th>3</th>\n",
       "      <td>4</td>\n",
       "      <td>426</td>\n",
       "      <td>444</td>\n",
       "    </tr>\n",
       "    <tr>\n",
       "      <th>4</th>\n",
       "      <td>5</td>\n",
       "      <td>440</td>\n",
       "      <td>436</td>\n",
       "    </tr>\n",
       "    <tr>\n",
       "      <th>5</th>\n",
       "      <td>6</td>\n",
       "      <td>410</td>\n",
       "      <td>398</td>\n",
       "    </tr>\n",
       "    <tr>\n",
       "      <th>6</th>\n",
       "      <td>7</td>\n",
       "      <td>458</td>\n",
       "      <td>464</td>\n",
       "    </tr>\n",
       "    <tr>\n",
       "      <th>7</th>\n",
       "      <td>8</td>\n",
       "      <td>460</td>\n",
       "      <td>476</td>\n",
       "    </tr>\n",
       "  </tbody>\n",
       "</table>\n",
       "</div>"
      ],
      "text/plain": [
       "   Person  Glaucoma  No Glaucoma\n",
       "0       1       488          484\n",
       "1       2       478          478\n",
       "2       3       480          492\n",
       "3       4       426          444\n",
       "4       5       440          436\n",
       "5       6       410          398\n",
       "6       7       458          464\n",
       "7       8       460          476"
      ]
     },
     "execution_count": 2,
     "metadata": {},
     "output_type": "execute_result"
    }
   ],
   "source": [
    "data = pd.read_excel(\"stats2018_PS4.xlsx\")\n",
    "data"
   ]
  },
  {
   "cell_type": "markdown",
   "metadata": {},
   "source": [
    "**(a) Do the sign test to determine if the corneal thickness differs between an eye affected with\n",
    "glaucoma and an unaffected eye. Use α = 0.05.**\n",
    "\n",
    "$h_0: m = 0$\n",
    "\n",
    "$h_A: m \\ne 0$"
   ]
  },
  {
   "cell_type": "code",
   "execution_count": 3,
   "metadata": {},
   "outputs": [
    {
     "data": {
      "text/html": [
       "<div>\n",
       "<style>\n",
       "    .dataframe thead tr:only-child th {\n",
       "        text-align: right;\n",
       "    }\n",
       "\n",
       "    .dataframe thead th {\n",
       "        text-align: left;\n",
       "    }\n",
       "\n",
       "    .dataframe tbody tr th {\n",
       "        vertical-align: top;\n",
       "    }\n",
       "</style>\n",
       "<table border=\"1\" class=\"dataframe\">\n",
       "  <thead>\n",
       "    <tr style=\"text-align: right;\">\n",
       "      <th></th>\n",
       "      <th>Person</th>\n",
       "      <th>Glaucoma</th>\n",
       "      <th>No Glaucoma</th>\n",
       "      <th>difference</th>\n",
       "    </tr>\n",
       "  </thead>\n",
       "  <tbody>\n",
       "    <tr>\n",
       "      <th>0</th>\n",
       "      <td>1</td>\n",
       "      <td>488</td>\n",
       "      <td>484</td>\n",
       "      <td>4</td>\n",
       "    </tr>\n",
       "    <tr>\n",
       "      <th>1</th>\n",
       "      <td>2</td>\n",
       "      <td>478</td>\n",
       "      <td>478</td>\n",
       "      <td>0</td>\n",
       "    </tr>\n",
       "    <tr>\n",
       "      <th>2</th>\n",
       "      <td>3</td>\n",
       "      <td>480</td>\n",
       "      <td>492</td>\n",
       "      <td>-12</td>\n",
       "    </tr>\n",
       "    <tr>\n",
       "      <th>3</th>\n",
       "      <td>4</td>\n",
       "      <td>426</td>\n",
       "      <td>444</td>\n",
       "      <td>-18</td>\n",
       "    </tr>\n",
       "    <tr>\n",
       "      <th>4</th>\n",
       "      <td>5</td>\n",
       "      <td>440</td>\n",
       "      <td>436</td>\n",
       "      <td>4</td>\n",
       "    </tr>\n",
       "    <tr>\n",
       "      <th>5</th>\n",
       "      <td>6</td>\n",
       "      <td>410</td>\n",
       "      <td>398</td>\n",
       "      <td>12</td>\n",
       "    </tr>\n",
       "    <tr>\n",
       "      <th>6</th>\n",
       "      <td>7</td>\n",
       "      <td>458</td>\n",
       "      <td>464</td>\n",
       "      <td>-6</td>\n",
       "    </tr>\n",
       "    <tr>\n",
       "      <th>7</th>\n",
       "      <td>8</td>\n",
       "      <td>460</td>\n",
       "      <td>476</td>\n",
       "      <td>-16</td>\n",
       "    </tr>\n",
       "  </tbody>\n",
       "</table>\n",
       "</div>"
      ],
      "text/plain": [
       "   Person  Glaucoma  No Glaucoma  difference\n",
       "0       1       488          484           4\n",
       "1       2       478          478           0\n",
       "2       3       480          492         -12\n",
       "3       4       426          444         -18\n",
       "4       5       440          436           4\n",
       "5       6       410          398          12\n",
       "6       7       458          464          -6\n",
       "7       8       460          476         -16"
      ]
     },
     "execution_count": 3,
     "metadata": {},
     "output_type": "execute_result"
    }
   ],
   "source": [
    "data[\"difference\"] = data[\"Glaucoma\"] - data[\"No Glaucoma\"]\n",
    "data"
   ]
  },
  {
   "cell_type": "code",
   "execution_count": 4,
   "metadata": {},
   "outputs": [
    {
     "name": "stdout",
     "output_type": "stream",
     "text": [
      "s_plus: 3\n",
      "s_minus: 4\n"
     ]
    }
   ],
   "source": [
    "s_plus = len([i for i in data[\"difference\"] if i>0])\n",
    "s_minus = len([i for i in data[\"difference\"] if i<0])\n",
    "print(\"s_plus: {}\\ns_minus: {}\".format(s_plus,s_minus))"
   ]
  },
  {
   "cell_type": "code",
   "execution_count": 5,
   "metadata": {},
   "outputs": [
    {
     "name": "stdout",
     "output_type": "stream",
     "text": [
      "Since p_value (0.5) > alpha (0.05),\n",
      "We have insufficient evidence to reject the hypothesis that corneal thickness differs\n"
     ]
    }
   ],
   "source": [
    "n = s_plus + s_minus # 7\n",
    "alpha = 0.05\n",
    "# probability of getting 3 or fewer s plus\n",
    "p_plus = sum([comb(n, k)*0.5**n for k in range(0, s_plus+1)]) # sum for case 0, 1, 2, 3\n",
    "\n",
    "def test_hypo(p_value, alpha, h_0):\n",
    "    if p_value > alpha:\n",
    "        print(\"Since p_value ({}) > alpha ({}),\\nWe have insufficient evidence to reject the hypothesis that {}\"\n",
    "              .format(p_value, alpha,h_0))\n",
    "    elif p_value <= alpha:\n",
    "        print(\"Since p_value ({}) < alpha ({}),\\nWe have insufficient evidence to accept the hypothesis that {}\"\n",
    "              .format(p_value, alpha,h_0))\n",
    "        \n",
    "test_hypo(p_plus, alpha, \"corneal thickness differs\")"
   ]
  },
  {
   "cell_type": "code",
   "execution_count": 6,
   "metadata": {},
   "outputs": [
    {
     "name": "stdout",
     "output_type": "stream",
     "text": [
      "Since p_value (0.5) > alpha (0.05),\n",
      "We have insufficient evidence to reject the hypothesis that corneal thickness differs\n"
     ]
    }
   ],
   "source": [
    "# or you can use s_minus as show here\n",
    "# probability of getting 4 or more s_minus (4,5,6,7)\n",
    "p_minus = sum([comb(n, k)*0.5**n for k in range(s_minus, n+1)]) # sum for case 4, 5, 6, 7\n",
    "\n",
    "test_hypo(p_minus, alpha, \"corneal thickness differs\")"
   ]
  },
  {
   "cell_type": "markdown",
   "metadata": {},
   "source": [
    "**(b) Repeat part (a) using the Wilcoxon signed rank test. Do the two tests always give the same\n",
    "result when applied to the same data?**"
   ]
  },
  {
   "cell_type": "code",
   "execution_count": 7,
   "metadata": {},
   "outputs": [
    {
     "data": {
      "text/html": [
       "<div>\n",
       "<style>\n",
       "    .dataframe thead tr:only-child th {\n",
       "        text-align: right;\n",
       "    }\n",
       "\n",
       "    .dataframe thead th {\n",
       "        text-align: left;\n",
       "    }\n",
       "\n",
       "    .dataframe tbody tr th {\n",
       "        vertical-align: top;\n",
       "    }\n",
       "</style>\n",
       "<table border=\"1\" class=\"dataframe\">\n",
       "  <thead>\n",
       "    <tr style=\"text-align: right;\">\n",
       "      <th></th>\n",
       "      <th>Person</th>\n",
       "      <th>Glaucoma</th>\n",
       "      <th>No Glaucoma</th>\n",
       "      <th>difference</th>\n",
       "      <th>absolute</th>\n",
       "    </tr>\n",
       "  </thead>\n",
       "  <tbody>\n",
       "    <tr>\n",
       "      <th>0</th>\n",
       "      <td>1</td>\n",
       "      <td>488</td>\n",
       "      <td>484</td>\n",
       "      <td>4</td>\n",
       "      <td>4</td>\n",
       "    </tr>\n",
       "    <tr>\n",
       "      <th>1</th>\n",
       "      <td>2</td>\n",
       "      <td>478</td>\n",
       "      <td>478</td>\n",
       "      <td>0</td>\n",
       "      <td>0</td>\n",
       "    </tr>\n",
       "    <tr>\n",
       "      <th>2</th>\n",
       "      <td>3</td>\n",
       "      <td>480</td>\n",
       "      <td>492</td>\n",
       "      <td>-12</td>\n",
       "      <td>12</td>\n",
       "    </tr>\n",
       "    <tr>\n",
       "      <th>3</th>\n",
       "      <td>4</td>\n",
       "      <td>426</td>\n",
       "      <td>444</td>\n",
       "      <td>-18</td>\n",
       "      <td>18</td>\n",
       "    </tr>\n",
       "    <tr>\n",
       "      <th>4</th>\n",
       "      <td>5</td>\n",
       "      <td>440</td>\n",
       "      <td>436</td>\n",
       "      <td>4</td>\n",
       "      <td>4</td>\n",
       "    </tr>\n",
       "    <tr>\n",
       "      <th>5</th>\n",
       "      <td>6</td>\n",
       "      <td>410</td>\n",
       "      <td>398</td>\n",
       "      <td>12</td>\n",
       "      <td>12</td>\n",
       "    </tr>\n",
       "    <tr>\n",
       "      <th>6</th>\n",
       "      <td>7</td>\n",
       "      <td>458</td>\n",
       "      <td>464</td>\n",
       "      <td>-6</td>\n",
       "      <td>6</td>\n",
       "    </tr>\n",
       "    <tr>\n",
       "      <th>7</th>\n",
       "      <td>8</td>\n",
       "      <td>460</td>\n",
       "      <td>476</td>\n",
       "      <td>-16</td>\n",
       "      <td>16</td>\n",
       "    </tr>\n",
       "  </tbody>\n",
       "</table>\n",
       "</div>"
      ],
      "text/plain": [
       "   Person  Glaucoma  No Glaucoma  difference  absolute\n",
       "0       1       488          484           4         4\n",
       "1       2       478          478           0         0\n",
       "2       3       480          492         -12        12\n",
       "3       4       426          444         -18        18\n",
       "4       5       440          436           4         4\n",
       "5       6       410          398          12        12\n",
       "6       7       458          464          -6         6\n",
       "7       8       460          476         -16        16"
      ]
     },
     "execution_count": 7,
     "metadata": {},
     "output_type": "execute_result"
    }
   ],
   "source": [
    "data[\"absolute\"] = abs(data[\"difference\"])\n",
    "data"
   ]
  },
  {
   "cell_type": "code",
   "execution_count": 8,
   "metadata": {},
   "outputs": [
    {
     "data": {
      "text/html": [
       "<div>\n",
       "<style>\n",
       "    .dataframe thead tr:only-child th {\n",
       "        text-align: right;\n",
       "    }\n",
       "\n",
       "    .dataframe thead th {\n",
       "        text-align: left;\n",
       "    }\n",
       "\n",
       "    .dataframe tbody tr th {\n",
       "        vertical-align: top;\n",
       "    }\n",
       "</style>\n",
       "<table border=\"1\" class=\"dataframe\">\n",
       "  <thead>\n",
       "    <tr style=\"text-align: right;\">\n",
       "      <th></th>\n",
       "      <th>Person</th>\n",
       "      <th>Glaucoma</th>\n",
       "      <th>No Glaucoma</th>\n",
       "      <th>difference</th>\n",
       "      <th>absolute</th>\n",
       "      <th>rank</th>\n",
       "    </tr>\n",
       "  </thead>\n",
       "  <tbody>\n",
       "    <tr>\n",
       "      <th>0</th>\n",
       "      <td>1</td>\n",
       "      <td>488</td>\n",
       "      <td>484</td>\n",
       "      <td>4</td>\n",
       "      <td>4</td>\n",
       "      <td>2.5</td>\n",
       "    </tr>\n",
       "    <tr>\n",
       "      <th>1</th>\n",
       "      <td>2</td>\n",
       "      <td>478</td>\n",
       "      <td>478</td>\n",
       "      <td>0</td>\n",
       "      <td>0</td>\n",
       "      <td>1.0</td>\n",
       "    </tr>\n",
       "    <tr>\n",
       "      <th>2</th>\n",
       "      <td>3</td>\n",
       "      <td>480</td>\n",
       "      <td>492</td>\n",
       "      <td>-12</td>\n",
       "      <td>12</td>\n",
       "      <td>5.5</td>\n",
       "    </tr>\n",
       "    <tr>\n",
       "      <th>3</th>\n",
       "      <td>4</td>\n",
       "      <td>426</td>\n",
       "      <td>444</td>\n",
       "      <td>-18</td>\n",
       "      <td>18</td>\n",
       "      <td>8.0</td>\n",
       "    </tr>\n",
       "    <tr>\n",
       "      <th>4</th>\n",
       "      <td>5</td>\n",
       "      <td>440</td>\n",
       "      <td>436</td>\n",
       "      <td>4</td>\n",
       "      <td>4</td>\n",
       "      <td>2.5</td>\n",
       "    </tr>\n",
       "    <tr>\n",
       "      <th>5</th>\n",
       "      <td>6</td>\n",
       "      <td>410</td>\n",
       "      <td>398</td>\n",
       "      <td>12</td>\n",
       "      <td>12</td>\n",
       "      <td>5.5</td>\n",
       "    </tr>\n",
       "    <tr>\n",
       "      <th>6</th>\n",
       "      <td>7</td>\n",
       "      <td>458</td>\n",
       "      <td>464</td>\n",
       "      <td>-6</td>\n",
       "      <td>6</td>\n",
       "      <td>4.0</td>\n",
       "    </tr>\n",
       "    <tr>\n",
       "      <th>7</th>\n",
       "      <td>8</td>\n",
       "      <td>460</td>\n",
       "      <td>476</td>\n",
       "      <td>-16</td>\n",
       "      <td>16</td>\n",
       "      <td>7.0</td>\n",
       "    </tr>\n",
       "  </tbody>\n",
       "</table>\n",
       "</div>"
      ],
      "text/plain": [
       "   Person  Glaucoma  No Glaucoma  difference  absolute  rank\n",
       "0       1       488          484           4         4   2.5\n",
       "1       2       478          478           0         0   1.0\n",
       "2       3       480          492         -12        12   5.5\n",
       "3       4       426          444         -18        18   8.0\n",
       "4       5       440          436           4         4   2.5\n",
       "5       6       410          398          12        12   5.5\n",
       "6       7       458          464          -6         6   4.0\n",
       "7       8       460          476         -16        16   7.0"
      ]
     },
     "execution_count": 8,
     "metadata": {},
     "output_type": "execute_result"
    }
   ],
   "source": [
    "data[\"rank\"] = data[\"absolute\"].rank()\n",
    "data"
   ]
  },
  {
   "cell_type": "code",
   "execution_count": 13,
   "metadata": {},
   "outputs": [
    {
     "name": "stdout",
     "output_type": "stream",
     "text": [
      "W+: 10.5\n",
      "W-: 24.5\n"
     ]
    }
   ],
   "source": [
    "w_plus = sum([data[\"rank\"].iloc[index] for index in data.index if data[\"difference\"].iloc[index] > 0])\n",
    "w_plus\n",
    "\n",
    "w_minus = sum([data[\"rank\"].iloc[index] for index in data.index if data[\"difference\"].iloc[index] < 0])\n",
    "w_minus\n",
    "\n",
    "print(\"W+: {}\\nW-: {}\".format(w_plus, w_minus))"
   ]
  },
  {
   "cell_type": "code",
   "execution_count": 15,
   "metadata": {},
   "outputs": [
    {
     "name": "stdout",
     "output_type": "stream",
     "text": [
      "miu: 18.0\n",
      "sigma: 7.14142842854285\n",
      "test-statistic: 0.9101820546182063\n",
      "Since p_value (0.1813632532425491) > alpha (0.05),\n",
      "We have insufficient evidence to reject the hypothesis that corneal thickness differs\n"
     ]
    }
   ],
   "source": [
    "# w_plus follows approx a normal distribution with miu and sigma\n",
    "N = len(data.index)\n",
    "miu = N*(N+1)/4\n",
    "sigma = ( N*(N+1)*(2*N+1)/24 )**0.5\n",
    "test_statistic_minus = ( w_minus - miu ) / sigma\n",
    "print(\"miu: {}\\nsigma: {}\\ntest-statistic: {}\".format(miu,sigma, test_statistic_minus))\n",
    "\n",
    "p_value = 1 - stats.norm.cdf(test_statistic_minus)\n",
    "\n",
    "test_hypo(p_value, alpha, \"corneal thickness differs\")"
   ]
  },
  {
   "cell_type": "code",
   "execution_count": 16,
   "metadata": {
    "scrolled": true
   },
   "outputs": [
    {
     "name": "stdout",
     "output_type": "stream",
     "text": [
      "miu: 18.0\n",
      "sigma: 7.14142842854285\n",
      "test-statistic: -1.0502100630210074\n",
      "Since p_value (0.1468107719644529) > alpha (0.05),\n",
      "We have insufficient evidence to reject the hypothesis that corneal thickness differs\n"
     ]
    }
   ],
   "source": [
    "# w_minus follows approx a normal distribution with miu and sigma\n",
    "N = len(data.index)\n",
    "miu = N*(N+1)/4\n",
    "sigma = ( N*(N+1)*(2*N+1)/24 )**0.5\n",
    "test_statistic = ( w_plus - miu ) / sigma\n",
    "print(\"miu: {}\\nsigma: {}\\ntest-statistic: {}\".format(miu,sigma, test_statistic))\n",
    "\n",
    "p_value = stats.norm.cdf(test_statistic)\n",
    "\n",
    "test_hypo(p_value, alpha, \"corneal thickness differs\")"
   ]
  },
  {
   "cell_type": "markdown",
   "metadata": {},
   "source": [
    "No both test will not always give the same value. For Wilcoxon Signed Rank test, additional assumption of mean == median is made. Thus, it depends on whether the population is symmetric."
   ]
  },
  {
   "cell_type": "markdown",
   "metadata": {},
   "source": [
    "## Question 2. \n",
    "\n",
    "**In ANOVA for single factor experiments, define MST = SST/(N −1). Is it possible that MST = MSA + MSE? Fully justify your answer.**"
   ]
  },
  {
   "cell_type": "markdown",
   "metadata": {},
   "source": [
    "We know that Mean Square Total $$MST = \\frac{SST}{N-1}$$\n",
    "\n",
    "And we know that Mean Square Error $$MSE = \\frac{SSE}{N-k}$$\n",
    "\n",
    "If MST = MSA + MSE, then we would have:\n",
    "\n",
    "$$\\frac{SST}{N-1} = \\frac{SSA}{k-1} + \\frac{SSE}{N-k} =\n",
    "\\frac{SSA+SSE}{(k-1) - (N -k)}$$\n",
    "\n",
    "multiply both sides by $(k-1)-(N-K)$ (which is ) \n",
    "we get:\n",
    "\n",
    "$$SSA + \\frac{SSA \\times (N-k)}{k-1} + SSE + \\frac{SSE \\times (k-1)}{N-k} = SSA + SSE$$\n",
    "\n",
    "$$\\frac{SSA \\times (N-k)}{k-1} + \\frac{SSE \\times (k-1)}{N-k} = 0$$\n",
    "\n",
    "Therefore it is not possible for MST = MSA + MSE"
   ]
  },
  {
   "cell_type": "markdown",
   "metadata": {},
   "source": [
    "### Question 3. \n",
    "\n",
    "**Water salinity measurements at three sites are given in the spreadsheet, and an\n",
    "ANOVA table is produced. However, one entry (marked by X) has been accidentally deleted.**\n"
   ]
  },
  {
   "cell_type": "code",
   "execution_count": null,
   "metadata": {},
   "outputs": [],
   "source": [
    "# from excel\n",
    "site1 = [37.54, 37.01, 36.71, 37.03, 37.32, 37.01, 37.03, 37.7, 37.36, 36.75, 37.45] # with an additional entry X\n",
    "site2 = [40.17, 40.8, 39.76, 39.7, 40.79, 40.44, 39.79, 39.38]\n",
    "site3 = [39.04, 39.21, 39.05, 38.24, 38.53, 38.71, 38.89, 38.66, 38.51, 40.08]"
   ]
  },
  {
   "cell_type": "markdown",
   "metadata": {},
   "source": [
    "From excel: P-value (4.00865E-11) <<<< F-crit (3.354130829). Thus there is sufficient evidence to reject the null hypothesis that mean salinity of water of the three sites are the same."
   ]
  },
  {
   "cell_type": "markdown",
   "metadata": {},
   "source": [
    "**(b) Find X with help from the ANOVA table. (Hint: you can do this using any method you like,\n",
    "but check your answer.)**\n"
   ]
  },
  {
   "cell_type": "markdown",
   "metadata": {
    "collapsed": true
   },
   "source": [
    "![title](./assets/q3 salinity.PNG)"
   ]
  },
  {
   "cell_type": "markdown",
   "metadata": {
    "collapsed": true
   },
   "source": [
    "### Question 4. \n",
    "\n",
    "**Refer to the sugar content example given in the spreadsheet. Use the Bonferroni\n",
    "method to determine which shelves have significantly different mean sugar content. Use\n",
    "α = 0.05.**"
   ]
  },
  {
   "cell_type": "code",
   "execution_count": 44,
   "metadata": {},
   "outputs": [
    {
     "data": {
      "text/html": [
       "<div>\n",
       "<style>\n",
       "    .dataframe thead tr:only-child th {\n",
       "        text-align: right;\n",
       "    }\n",
       "\n",
       "    .dataframe thead th {\n",
       "        text-align: left;\n",
       "    }\n",
       "\n",
       "    .dataframe tbody tr th {\n",
       "        vertical-align: top;\n",
       "    }\n",
       "</style>\n",
       "<table border=\"1\" class=\"dataframe\">\n",
       "  <thead>\n",
       "    <tr style=\"text-align: right;\">\n",
       "      <th></th>\n",
       "      <th>Shelf 1</th>\n",
       "      <th>Shelf 2</th>\n",
       "      <th>Shelf 3</th>\n",
       "    </tr>\n",
       "    <tr>\n",
       "      <th>Unnamed: 0</th>\n",
       "      <th></th>\n",
       "      <th></th>\n",
       "      <th></th>\n",
       "    </tr>\n",
       "  </thead>\n",
       "  <tbody>\n",
       "    <tr>\n",
       "      <th>n</th>\n",
       "      <td>20.000</td>\n",
       "      <td>20.000</td>\n",
       "      <td>20.000</td>\n",
       "    </tr>\n",
       "    <tr>\n",
       "      <th>mean</th>\n",
       "      <td>4.800</td>\n",
       "      <td>9.850</td>\n",
       "      <td>6.100</td>\n",
       "    </tr>\n",
       "    <tr>\n",
       "      <th>sd</th>\n",
       "      <td>2.138</td>\n",
       "      <td>1.985</td>\n",
       "      <td>1.865</td>\n",
       "    </tr>\n",
       "  </tbody>\n",
       "</table>\n",
       "</div>"
      ],
      "text/plain": [
       "            Shelf 1  Shelf 2  Shelf 3\n",
       "Unnamed: 0                           \n",
       "n            20.000   20.000   20.000\n",
       "mean          4.800    9.850    6.100\n",
       "sd            2.138    1.985    1.865"
      ]
     },
     "execution_count": 44,
     "metadata": {},
     "output_type": "execute_result"
    }
   ],
   "source": [
    "sugar = pd.read_excel(\"stats2018_PS4.xlsx\", sheetname=2, skiprows=1)\n",
    "sugar = sugar.set_index(\"Unnamed: 0\")\n",
    "sugar"
   ]
  },
  {
   "cell_type": "code",
   "execution_count": 56,
   "metadata": {},
   "outputs": [
    {
     "name": "stdout",
     "output_type": "stream",
     "text": [
      "SSE: 227.800386\n",
      "MSE: 3.996498\n"
     ]
    }
   ],
   "source": [
    "SSE = sum([(sugar[i][\"n\"]-1)*sugar[i][\"sd\"]**2 for i in sugar.columns])\n",
    "MSE = SSE/ (sum([sugar[i][\"n\"] for i in sugar.columns]) - 3 )\n",
    "print(\"SSE: {}\\nMSE: {}\".format(SSE, MSE))"
   ]
  },
  {
   "cell_type": "markdown",
   "metadata": {},
   "source": [
    "$$SSE = \\sum_{i=1}^{3} (n_i-1) \\times s_i^2$$\n",
    "\n",
    "$$MSE = \\frac{SSE}{N-K}$$\n",
    "where N: total size, K: Number of predictors (3)"
   ]
  },
  {
   "cell_type": "code",
   "execution_count": 59,
   "metadata": {},
   "outputs": [
    {
     "name": "stdout",
     "output_type": "stream",
     "text": [
      "LHS: 5.05 RHS: 1.5593867622836817 (REJECT)\n"
     ]
    }
   ],
   "source": [
    "def bonferroni_confidence_interval(alpha, k, N, MSE, n1, n2, mean1, mean2):\n",
    "    m = comb(k,2)\n",
    "    LHS = abs(mean1 - mean2)\n",
    "    RHS = stats.t.ppf(1-alpha/(2*m), df=N-k) * MSE**0.5 * (1/n1+1/n2)**0.5\n",
    "    if LHS > RHS:\n",
    "        print(\"LHS: {} RHS: {} (REJECT)\".format(LHS, RHS))\n",
    "    else:\n",
    "        print(\"LHS: {} RHS: {}\".format(LHS,RHS))\n",
    "\n",
    "#test function        \n",
    "bonferroni_confidence_interval(alpha=0.05, k=3, N=60, MSE=MSE, n1=20, n2=20,\n",
    "                               mean1=sugar[\"Shelf 1\"][\"mean\"], mean2=sugar[\"Shelf 2\"][\"mean\"])"
   ]
  },
  {
   "cell_type": "code",
   "execution_count": 64,
   "metadata": {},
   "outputs": [
    {
     "name": "stdout",
     "output_type": "stream",
     "text": [
      "\n",
      "Shelf 1 Shelf 2\n",
      "LHS: 5.05 RHS: 1.5593867622836817 (REJECT)\n",
      "\n",
      "Shelf 1 Shelf 3\n",
      "LHS: 1.2999999999999998 RHS: 1.5593867622836817\n",
      "\n",
      "Shelf 2 Shelf 1\n",
      "LHS: 5.05 RHS: 1.5593867622836817 (REJECT)\n",
      "\n",
      "Shelf 2 Shelf 3\n",
      "LHS: 3.75 RHS: 1.5593867622836817 (REJECT)\n",
      "\n",
      "Shelf 3 Shelf 1\n",
      "LHS: 1.2999999999999998 RHS: 1.5593867622836817\n",
      "\n",
      "Shelf 3 Shelf 2\n",
      "LHS: 3.75 RHS: 1.5593867622836817 (REJECT)\n"
     ]
    }
   ],
   "source": [
    "m = comb(3,2) # m = k choose 2 where k => number of predictors (3)\n",
    "\n",
    "\n",
    "for i in sugar.columns:\n",
    "    for j in sugar.columns:\n",
    "        if i == j:\n",
    "            continue\n",
    "        else:\n",
    "            # perform pairwise\n",
    "            print()\n",
    "            print(i, j)\n",
    "            bonferroni_confidence_interval(alpha=0.05, k=3, N=60, MSE=MSE, n1=20, n2=20,\n",
    "                               mean1=sugar[i][\"mean\"], mean2=sugar[j][\"mean\"])"
   ]
  },
  {
   "cell_type": "markdown",
   "metadata": {
    "collapsed": true
   },
   "source": [
    "### Question 5. \n",
    "\n",
    "**Refer to the spreadsheet ‘IQ’, which records some adopted children’s IQ with the\n",
    "socioeconomic status of their biological parents as well as adoptive parents.**\n"
   ]
  },
  {
   "cell_type": "markdown",
   "metadata": {},
   "source": [
    "**(a) Sketch a line chart for the cell means, and from it comment on whether there is any significant\n",
    "interaction.**"
   ]
  },
  {
   "cell_type": "markdown",
   "metadata": {},
   "source": [
    "![title](./assets/q5 ses.PNG)"
   ]
  },
  {
   "cell_type": "code",
   "execution_count": 79,
   "metadata": {},
   "outputs": [
    {
     "data": {
      "image/png": "[encoded data removed]",
      "text/plain": [
       "<matplotlib.figure.Figure at 0x2a93109a748>"
      ]
     },
     "metadata": {},
     "output_type": "display_data"
    }
   ],
   "source": [
    "adoptive_high = [120.5,102.5]\n",
    "adoptive_low = [107.5,90.25]\n",
    "\n",
    "plt.plot(adoptive_high, label=\"Adoptive Parents High SES\")\n",
    "plt.plot(adoptive_low, label = \"Adoptive Parents Low SES\")\n",
    "plt.xlabel(\"Biological Parents SES\")\n",
    "plt.ylabel(\"IQ\")\n",
    "plt.legend()\n",
    "plt.xticks([0,1],[\"high SES\",\"low SES\"])\n",
    "plt.show()"
   ]
  },
  {
   "cell_type": "markdown",
   "metadata": {},
   "source": [
    "Since lines do not cross, there are no interaction"
   ]
  },
  {
   "cell_type": "markdown",
   "metadata": {},
   "source": [
    "**(b) Construct an ANOVA table for this two-factor experiment. What conclusions can you draw\n",
    "from it?**\n"
   ]
  },
  {
   "cell_type": "markdown",
   "metadata": {},
   "source": [
    "![title](./assets/q5 anova.PNG)"
   ]
  },
  {
   "cell_type": "markdown",
   "metadata": {},
   "source": [
    "As the first 2 F statistic are higher than the critical value hence, there is not enough evidence to reject the null hypothesis that:\n",
    "\n",
    "1) The means of biological high ses and low ses are the same\n",
    "\n",
    "2) The means of adopted high ses and low ses are the same\n",
    "\n",
    "However, there is enough evidence to reject hypothesis that:\n",
    "\n",
    "3) No interaction between adopted and biological.\n",
    "\n",
    "In conclusion, the affluence of your family (SES) has some correlation with the IQ and\n",
    "\n",
    "However, whether you are adopted or not should not have great influence on your IQ"
   ]
  },
  {
   "cell_type": "markdown",
   "metadata": {},
   "source": [
    "### Question 6. \n",
    "\n",
    "**Suppose x is the number of iid Bernoulli trials with success probability p required\n",
    "to achieve the first success. <br>Show that the MLE of p equals pˆ = 1/x**"
   ]
  },
  {
   "cell_type": "markdown",
   "metadata": {},
   "source": [
    "p(success on 1st try) = $p$\n",
    "\n",
    "p(success on 2nd try) = $(1-p)p$\n",
    "\n",
    "p(success on 3rd try) = $(1-p)^2p$\n",
    "\n",
    "p(success on $x^{th}$ try) = $(1-p)^{x-1}p$\n",
    "\n",
    "Thus, the max likelihood function is defined as:\n",
    "\n",
    "$$L(p) = (1-p)^{x-1}p$$\n",
    "\n",
    "$$\\ln{L(p)} = (x-1)\\ln{(1-p)}+\\ln{p}$$\n",
    "\n",
    "$$\\frac{d}{dp} \\ln{L(p)} = (x-1) \\frac{-1}{1-p} + \\frac{1}{p}$$\n",
    "\n",
    "To find the minimum, we equate $\\frac{d}{dp}$  to 0\n",
    "\n",
    "$$(x-1) \\frac{-1}{1-p} + \\frac{1}{p} = 0$$\n",
    "\n",
    "$$\\frac{1}{p} = \\frac{x-1}{1-p}$$\n",
    "\n",
    "$$1-p = (x-1)p$$\n",
    "\n",
    "$$p = \\frac{1}{x}$$                    "
   ]
  },
  {
   "cell_type": "markdown",
   "metadata": {},
   "source": [
    "### Question 7. \n",
    "\n",
    "**Show that the gamma distribution is a conjugate prior for the Poisson distribution.\n",
    "In particular, suppose that $x_1,...,x_n$ is a random sample from a Poisson distribution**\n",
    "\n",
    "$$f(x|\\theta)=\\frac{e^{-\\theta}\\theta^x}{x!}, \\forall \\text{ } x = 0,1,2,...$$\n",
    "\n",
    "**and the prior on $\\theta$ is Gamma$(\\alpha,\\beta)$ distribution**\n",
    "\n",
    "$$\\pi(\\theta)=\\frac{1}{\\Gamma(\\alpha)}\\beta^{\\alpha}\\theta^{\\alpha-1}e^{-\\beta\\theta}$$\n",
    "\n",
    "**(a) Show that the posterior distribution of $\\theta$ is Gamma($\\alpha+\\sum_ix_i, \\beta+n$)**"
   ]
  },
  {
   "cell_type": "markdown",
   "metadata": {},
   "source": [
    "$$P(\\theta | x) \\propto P(x | \\theta) P(\\theta)$$\n",
    "\n",
    "$$P(\\theta | x) = \\prod_{i=0}^n(\\frac{e^{-\\theta}}{x_i!})\\frac{1}{\\Gamma{\\alpha}}\\beta^{\\alpha}\\theta^{\\alpha-1}e^{-\\beta\\theta}$$\n",
    "\n",
    "$$P(\\theta | x) \\propto (\\theta^{\\alpha-1}e^{-\\beta\\theta})\\prod_{i=1}^n(e^{-\\theta}\\theta^{x_i})$$\n",
    "\n",
    "$$P(\\theta | x) = e^{-n\\theta}\\theta\\sum_ix_i(\\theta^{\\alpha-1})(e^{-\\beta\\theta})$$\n",
    "\n",
    "$$P(\\theta | x) = e^{-(\\beta+n)(\\theta)}\\theta(\\alpha-1)+\\sum_ix_i$$\n",
    "\n",
    "$$P(\\theta | x) \\propto (\\beta + n)^{\\alpha + \\sum_ix_i} (e^{-(\\beta+n)\\theta})(\\theta^{(\\alpha-1)+{\\sum_ix_i}})$$\n",
    "\n",
    "$$= Gamma(\\alpha + \\sum_{i=0}{n},\\text{ }\\beta+n)$$"
   ]
  },
  {
   "cell_type": "markdown",
   "metadata": {},
   "source": [
    "**(b) Interpret how the posterior mean of $\\theta$**\n",
    "\n",
    "$$E(\\theta|x_1,...,x_n) = \\frac{\\alpha + \\sum_ix_i}{\\beta+n} $$\n",
    "\n",
    "**depends on n. What happens to this estimate as $n\\rightarrow\\infty$?**\n"
   ]
  },
  {
   "cell_type": "markdown",
   "metadata": {},
   "source": [
    "as $n\\rightarrow\\infty$\n",
    "\n",
    "the mean $\\rightarrow \\frac{\\sum_ix_i}{n} = \\bar{x}$\n",
    "\n",
    "Thus, it shows that the expected mean of the Poisson Distribution = sample mean as n tends to infinity"
   ]
  },
  {
   "cell_type": "code",
   "execution_count": null,
   "metadata": {
    "collapsed": true
   },
   "outputs": [],
   "source": []
  }
 ],
 "metadata": {
  "kernelspec": {
   "display_name": "Python 3",
   "language": "python",
   "name": "python3"
  },
  "language_info": {
   "codemirror_mode": {
    "name": "ipython",
    "version": 3
   },
   "file_extension": ".py",
   "mimetype": "text/x-python",
   "name": "python",
   "nbconvert_exporter": "python",
   "pygments_lexer": "ipython3",
   "version": "3.6.5"
  }
 },
 "nbformat": 4,
 "nbformat_minor": 2
}
