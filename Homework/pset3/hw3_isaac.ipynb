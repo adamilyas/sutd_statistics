{
 "cells": [
  {
   "cell_type": "markdown",
   "metadata": {},
   "source": [
    "# Isaac Ng Yi Ming 1002174 Cohort 1 Statistics assignment"
   ]
  },
  {
   "cell_type": "code",
   "execution_count": 1,
   "metadata": {
    "collapsed": false
   },
   "outputs": [],
   "source": [
    "library(ggplot2)\n",
    "set.seed(42)"
   ]
  },
  {
   "cell_type": "markdown",
   "metadata": {},
   "source": [
    "People at high risk of sudden cardiac death can be identified using the change in a signal averaged electrocardiogram\n",
    "(ECG) before and after the prescribed activities. The current method is 80% accurate. The\n",
    "method was modified, hoping to improve its accuracy. The new method is tested on 50 people and gave\n",
    "correct results on 46 patients. Is this convincing evidence that the new method is accurate\n",
    "(a) Set up the hypotheses to test that the accuracy of the new method is better than that of the current\n",
    "method.\n",
    "(b) Perform a test of the hypotheses at level α = 0.05. What do you conclude about the accuracy of the\n",
    "method?\n",
    "(c) If the new method actually has 90% accuracy, what power does a sample of 50 have to demonstrate\n",
    "that the new method is better, using a 0.05-level test?\n",
    "(d) How many patients should be tested in order for this power to be at least 0.75?\n",
    "\n",
    "# 1a\n",
    "$H_0$: The new method has success rate $\\leq$ 0.8\n",
    "\n",
    "$H_a$: The new method has success rate > 0.8\n",
    "\n",
    "# 1b\n",
    "Assuming that measurements are independent of one another, the distribution of the number of positives is binomially distributed as the number of positives is a count of the number of successful bernoulli trials. \n",
    "\n",
    "The number of detections is given by X, where X~Binomial(50, 0.8)\n",
    "\n",
    "Taking the normal approximation to the binomial distribution, X~Normal(40, 8)\n",
    "\n",
    "$P(X > 46) = P(Z > \\frac{46-40}{8/\\sqrt{50}})$\n"
   ]
  },
  {
   "cell_type": "code",
   "execution_count": 2,
   "metadata": {
    "collapsed": false
   },
   "outputs": [
    {
     "data": {
      "text/html": [
       "5.68636282505253e-08"
      ],
      "text/latex": [
       "5.68636282505253e-08"
      ],
      "text/markdown": [
       "5.68636282505253e-08"
      ],
      "text/plain": [
       "[1] 5.686363e-08"
      ]
     },
     "metadata": {},
     "output_type": "display_data"
    }
   ],
   "source": [
    "1-pnorm((46-40)/(sqrt(8)/sqrt(50)))"
   ]
  },
  {
   "cell_type": "markdown",
   "metadata": {},
   "source": [
    "As the P value is less than $\\alpha = 0.05$, we reject the alternate hypothesis and conclude that the new method is better. \n",
    "\n",
    "# 1c\n",
    "$Power = 1-\\beta$\n",
    "\n",
    "As power is the probability of false negatives, \n",
    "\n",
    "$P(X > 40 | \\mu = 0.9)$ = \n"
   ]
  },
  {
   "cell_type": "code",
   "execution_count": 35,
   "metadata": {
    "collapsed": false
   },
   "outputs": [
    {
     "data": {
      "text/html": [
       "1"
      ],
      "text/latex": [
       "1"
      ],
      "text/markdown": [
       "1"
      ],
      "text/plain": [
       "[1] 1"
      ]
     },
     "metadata": {},
     "output_type": "display_data"
    },
    {
     "name": "stdout",
     "output_type": "stream",
     "text": [
      "[1] 40.65794\n"
     ]
    }
   ],
   "source": [
    "crit <- qnorm(0.95, 40, sqrt(8)/sqrt(50))\n",
    "crit <- ceiling(crit)\n",
    "1-pnorm((crit-45)/(sqrt(4.5)/sqrt(50)))\n",
    "print(crit)"
   ]
  },
  {
   "cell_type": "markdown",
   "metadata": {},
   "source": [
    "# 1d\n",
    "\n",
    "$n = [\\frac{(z_\\alpha+z_\\beta)\\sigma}{\\mu-\\mu_0}]^2$\n"
   ]
  },
  {
   "cell_type": "code",
   "execution_count": null,
   "metadata": {
    "collapsed": true
   },
   "outputs": [],
   "source": [
    "# beta <- 1-0.75 \n",
    "# alpha <- 0.05\n",
    "# n <- 50\n",
    "# p <- 0.9\n",
    "# mu <- n * p\n",
    "# sigma <- sqrt(n*p*(1-p))\n",
    "# nreq <- \n"
   ]
  },
  {
   "cell_type": "code",
   "execution_count": 4,
   "metadata": {
    "collapsed": false
   },
   "outputs": [
    {
     "name": "stdout",
     "output_type": "stream",
     "text": [
      "[1] 2.319343\n"
     ]
    }
   ],
   "source": [
    "z.alpha <- qnorm(0.05, lower.tail = FALSE)\n",
    "z.beta <- qnorm(0.25, lower.tail = FALSE)\n",
    "print(z.alpha+z.beta)\n",
    "\n"
   ]
  },
  {
   "cell_type": "markdown",
   "metadata": {},
   "source": [
    "$n = \\frac{2.319343*\\sqrt{n(0.9\\times0.1)}}{n(0.9-0.86)} \\\\\n",
    "n = 6.71353 \\approx 7$"
   ]
  },
  {
   "cell_type": "markdown",
   "metadata": {
    "collapsed": true
   },
   "source": [
    "# 2a\n",
    "\n",
    "![Screenshot from Excel](img/2a.PNG)\n",
    "As such, we do not have sufficient evidence to support the null hypothesis, that the digits of pi are not random."
   ]
  },
  {
   "cell_type": "markdown",
   "metadata": {},
   "source": [
    "# 2b\n",
    "$\\frac{13717421}{1111111111} = 0.\\overline{012345678890}$\n",
    "Which is clearly nonrandom but will pass a one-sided chi squared test."
   ]
  },
  {
   "cell_type": "markdown",
   "metadata": {},
   "source": [
    "# 3\n",
    "r will not be the same. The coefficient and intercept will also not be related. Regression minimises the errors in the equation $y_i = \\beta x_i + \\epsilon$. By inverting the y's and x's we are minimising the square error in the horizontal distances to the regression line, as opposed to the vertical line. This has no relation to the vertical distances, in general, when there are more than 2 data points. For proof:"
   ]
  },
  {
   "cell_type": "code",
   "execution_count": 204,
   "metadata": {
    "collapsed": false
   },
   "outputs": [
    {
     "data": {},
     "metadata": {},
     "output_type": "display_data"
    },
    {
     "data": {
      "text/plain": [
       "\n",
       "Call:\n",
       "lm(formula = x ~ y, data = df)\n",
       "\n",
       "Coefficients:\n",
       "(Intercept)            y  \n",
       "    0.53568     -0.06201  \n"
      ]
     },
     "metadata": {},
     "output_type": "display_data"
    },
    {
     "data": {},
     "metadata": {},
     "output_type": "display_data"
    },
    {
     "data": {
      "image/png": "[encoded data removed]",
      "text/plain": [
       "plot without title"
      ]
     },
     "metadata": {},
     "output_type": "display_data"
    },
    {
     "data": {
      "image/png": "[encoded data removed]",
      "text/plain": [
       "plot without title"
      ]
     },
     "metadata": {},
     "output_type": "display_data"
    }
   ],
   "source": [
    "x <- runif(100)\n",
    "y <- runif(100)\n",
    "df <- data.frame(x=x, y=y)\n",
    "\n",
    "\n",
    "correctmodel <- lm(y~x, data = df)\n",
    "\n",
    "modeleqn <- paste0(\"y=\",correctmodel$coefficients[1],\"+(\", correctmodel$coefficients[2], \"x),\\nr = \", sqrt(summary(correctmodel)$r.squared) )\n",
    "ggplot(df, aes(x, y)) +\n",
    "  geom_point() +\n",
    "  stat_smooth(method = \"lm\", \n",
    "              formula = y ~ x) + \n",
    "  ggtitle(\"Correct model\") + \n",
    "  geom_text(x = 0.5, y = 0.5, label = modeleqn)\n",
    "\n",
    "\n",
    "#swap x with y\n",
    "wrongmodel <- lm(x~y, data = df)\n",
    "wrongmodel\n",
    "modeleqn <- paste0(\"x=\", wrongmodel$coefficients[1],\"+()\", wrongmodel$coefficients[2], \"y),\\nr = \", sqrt(summary(wrongmodel)$r.squared) )\n",
    "ggplot(df, aes(y, x)) +\n",
    "  geom_point() +\n",
    "  stat_smooth(method = \"lm\", \n",
    "              formula = y ~ x) + \n",
    "  ggtitle(\"Wrong model\") + \n",
    "  geom_text(y = 0.5, x = 0.5, label = modeleqn)\n"
   ]
  },
  {
   "cell_type": "markdown",
   "metadata": {},
   "source": [
    "# 4a\n",
    "\n",
    "![Screenshot from Excel](img/4a.png)\n",
    "\n",
    "# 4b"
   ]
  },
  {
   "cell_type": "code",
   "execution_count": 120,
   "metadata": {
    "collapsed": false
   },
   "outputs": [
    {
     "data": {
      "text/html": [
       "<ol class=list-inline>\n",
       "\t<li>14.4372892641933</li>\n",
       "\t<li>16.0193773958067</li>\n",
       "</ol>\n"
      ],
      "text/latex": [
       "\\begin{enumerate*}\n",
       "\\item 14.4372892641933\n",
       "\\item 16.0193773958067\n",
       "\\end{enumerate*}\n"
      ],
      "text/markdown": [
       "1. 14.4372892641933\n",
       "2. 16.0193773958067\n",
       "\n",
       "\n"
      ],
      "text/plain": [
       "[1] 14.43729 16.01938"
      ]
     },
     "metadata": {},
     "output_type": "display_data"
    }
   ],
   "source": [
    "s_x <- 7.483314774\n",
    "s_y <- 0.146617416\n",
    "x_hat <- 2006\n",
    "y_hat <- 15.22833333\n",
    "\n",
    "\n",
    "pred_err <- s_y * sqrt(1+(1/6)+((2020-x_hat)^2)/((6-1)*s_x))\n",
    "qt(p = c(0.05,0.95), df = (6-2)) * pred_err + y_hat\n"
   ]
  },
  {
   "cell_type": "markdown",
   "metadata": {},
   "source": [
    "# 4c"
   ]
  },
  {
   "cell_type": "code",
   "execution_count": 122,
   "metadata": {
    "collapsed": false
   },
   "outputs": [
    {
     "data": {
      "text/html": [
       "<ol class=list-inline>\n",
       "\t<li>14.5016605750683</li>\n",
       "\t<li>15.9550060849317</li>\n",
       "</ol>\n"
      ],
      "text/latex": [
       "\\begin{enumerate*}\n",
       "\\item 14.5016605750683\n",
       "\\item 15.9550060849317\n",
       "\\end{enumerate*}\n"
      ],
      "text/markdown": [
       "1. 14.5016605750683\n",
       "2. 15.9550060849317\n",
       "\n",
       "\n"
      ],
      "text/plain": [
       "[1] 14.50166 15.95501"
      ]
     },
     "metadata": {},
     "output_type": "display_data"
    }
   ],
   "source": [
    "confid_err <- s_y * sqrt((1/6)+((2020-x_hat)^2)/((6-1)*s_x))\n",
    "qt(p = c(0.05,0.95), df = (6-2)) * confid_err + y_hat\n"
   ]
  },
  {
   "cell_type": "markdown",
   "metadata": {},
   "source": [
    "# 4d\n",
    "\n",
    "The specific value of $y_{2020}$ can vary more than its own expected value and thus the prediction interval is larger than the confidence interval."
   ]
  },
  {
   "cell_type": "markdown",
   "metadata": {},
   "source": [
    "# 5a\n",
    "\n",
    "![Screenshot from Excel](img/5a.png)\n"
   ]
  },
  {
   "cell_type": "markdown",
   "metadata": {},
   "source": [
    "# 5b\n",
    "\n",
    "![Screenshot from Excel](img/5b.png)"
   ]
  },
  {
   "cell_type": "code",
   "execution_count": 137,
   "metadata": {
    "collapsed": false
   },
   "outputs": [
    {
     "data": {
      "text/html": [
       "<ol class=list-inline>\n",
       "\t<li>0.35896798776279</li>\n",
       "\t<li>0.449415186070064</li>\n",
       "</ol>\n"
      ],
      "text/latex": [
       "\\begin{enumerate*}\n",
       "\\item 0.35896798776279\n",
       "\\item 0.449415186070064\n",
       "\\end{enumerate*}\n"
      ],
      "text/markdown": [
       "1. 0.35896798776279\n",
       "2. 0.449415186070064\n",
       "\n",
       "\n"
      ],
      "text/plain": [
       "[1] 0.3589680 0.4494152"
      ]
     },
     "metadata": {},
     "output_type": "display_data"
    }
   ],
   "source": [
    "x <- c(1, 0.5, 0.333333333, 0.25, 0.2, 0.166666667, 0.142857143, 0.125, 0.111111111, 0.1)\n",
    "y <- c(0.4, 0.25, 0.168, 0.1229, 0.09592, 0.078498, 0.066458, 0.057615, 0.050848, 0.045505)\n",
    "df <- data.frame(x=x, y=y)\n",
    "model <- lm(y~x, data = df)\n",
    "results <- summary(model)\n",
    "# results$coefficients\n",
    "CI_beta_0 <- results$coefficients[1,1]+results$coefficients[1,2]*qt(p = c(0.025,0.975), df = 8)\n",
    "CI_beta_1 <- results$coefficients[2,1]+results$coefficients[2,2]*qt(p = c(0.025,0.975), df = 8)\n",
    "CI_beta_1"
   ]
  },
  {
   "cell_type": "markdown",
   "metadata": {},
   "source": [
    "# 5b\n",
    "\n",
    "$0.35896798776279 < \\log_{10}e < 0.449415186070064$\n",
    "\n",
    "There is sufficient evidence to say that the observed value of $\\beta_1$ matches the theoretical value of 0.4343 "
   ]
  },
  {
   "cell_type": "code",
   "execution_count": 138,
   "metadata": {
    "collapsed": false
   },
   "outputs": [
    {
     "data": {
      "text/html": [
       "<ol class=list-inline>\n",
       "\t<li>-0.00261524738855239</li>\n",
       "\t<li>0.0329911820661332</li>\n",
       "</ol>\n"
      ],
      "text/latex": [
       "\\begin{enumerate*}\n",
       "\\item -0.00261524738855239\n",
       "\\item 0.0329911820661332\n",
       "\\end{enumerate*}\n"
      ],
      "text/markdown": [
       "1. -0.00261524738855239\n",
       "2. 0.0329911820661332\n",
       "\n",
       "\n"
      ],
      "text/plain": [
       "[1] -0.002615247  0.032991182"
      ]
     },
     "metadata": {},
     "output_type": "display_data"
    }
   ],
   "source": [
    "CI_beta_0"
   ]
  },
  {
   "cell_type": "markdown",
   "metadata": {},
   "source": [
    "# 5c\n",
    "\n",
    "As 0 is in the $\\alpha = 0.05$ CI, we can conclude that the intercept is at 0 with 95% confidence.\n",
    "\n",
    "This, combined with our previous result, means that we can conclude that $p(x) \\approx 1/\\log_{10}(x)$"
   ]
  },
  {
   "cell_type": "markdown",
   "metadata": {},
   "source": [
    "# 6\n",
    "We construct a two way table and calculate the chi squared test statistic with 1 degree of freedom. The corresponding P-value is less than the confidence level. Thus we reject the null hypothesis, that the probability of getting polio is independent of the treatment \n",
    "\n",
    "![Screenshot from Excel](img/6.png)"
   ]
  },
  {
   "cell_type": "markdown",
   "metadata": {},
   "source": [
    "# 8a\n",
    "\n",
    "|          | \\beta_0 | \\beta_1 | \\beta_2 | \\beta_3 |\n",
    "|----------|---------|---------|---------|---------|\n",
    "| Figure 1 | +       | +       | +       | 0       |\n",
    "| Figure 2 | +       | +       | +       | +       |\n",
    "| Figure 3 | +       | +       | 0       | +       |\n",
    "| Figure 4 | +       | -       | -       | +       |"
   ]
  },
  {
   "cell_type": "markdown",
   "metadata": {},
   "source": [
    "# 8b\n",
    "\n",
    "one for each dataset?\n",
    "\n",
    "$\\hat{y} = \\hat{\\beta}_0 + \\hat{\\beta}_1x + \\hat{\\beta}_2z + \\epsilon$\n",
    "\n",
    "$\\hat{y} = \\hat{\\beta}_0 + \\hat{\\beta}_1x + \\hat{\\beta}_2z + \\hat{\\beta}_3xz + \\epsilon$"
   ]
  },
  {
   "cell_type": "markdown",
   "metadata": {},
   "source": [
    "# 9a\n",
    "\n",
    "![Screenshot from Excel](img/9.png)\n",
    "\n",
    "It is better described as a curve.\n",
    "\n"
   ]
  },
  {
   "cell_type": "markdown",
   "metadata": {},
   "source": [
    "# 9b\n",
    "under construction"
   ]
  },
  {
   "cell_type": "code",
   "execution_count": 217,
   "metadata": {
    "collapsed": false,
    "scrolled": true
   },
   "outputs": [
    {
     "data": {
      "text/html": [
       "<dl class=dl-horizontal>\n",
       "\t<dt>(Intercept)</dt>\n",
       "\t\t<dd>3295.61403508772</dd>\n",
       "\t<dt>age</dt>\n",
       "\t\t<dd>600.31991744066</dd>\n",
       "</dl>\n"
      ],
      "text/latex": [
       "\\begin{description*}\n",
       "\\item[(Intercept)] 3295.61403508772\n",
       "\\item[age] 600.31991744066\n",
       "\\end{description*}\n"
      ],
      "text/markdown": [
       "(Intercept)\n",
       ":   3295.61403508772age\n",
       ":   600.31991744066\n",
       "\n"
      ],
      "text/plain": [
       "(Intercept)         age \n",
       "  3295.6140    600.3199 "
      ]
     },
     "metadata": {},
     "output_type": "display_data"
    },
    {
     "data": {},
     "metadata": {},
     "output_type": "display_data"
    },
    {
     "data": {},
     "metadata": {},
     "output_type": "display_data"
    },
    {
     "data": {
      "image/png": "[encoded data removed]",
      "text/plain": [
       "plot without title"
      ]
     },
     "metadata": {},
     "output_type": "display_data"
    },
    {
     "data": {
      "image/png": "[encoded data removed]",
      "text/plain": [
       "plot without title"
      ]
     },
     "metadata": {},
     "output_type": "display_data"
    }
   ],
   "source": [
    "cost <- c(4330, 4590, 4870, 5510, 5850, 6200, 6550, 6950, 7360, 7570, 8020, 8500, 10360, 10980, 11640, 13160, 13950, 14780)\n",
    "age <- 0:17\n",
    "df <- data.frame(age = age, cost = cost)\n",
    "lin_model <- lm(cost~age, data = df)\n",
    "summary_lin_mod <- summary(lin_model)\n",
    "modeleqn <- as.character(paste0(\"y=\", round(lin_model$coefficients[2], digits = 3), \"x+\", round(lin_model$coefficients[1], digits = 3), \"\\nR squared: \", round(summary_lin_mod$r.squared, 3), \"\\nAdjusted R squared: \", round(summary_lin_mod$adj.r.squared, 3)))\n",
    "\n",
    "lin_model$coefficients\n",
    "ggplot(df, aes(x = age, y = cost)) +\n",
    "  geom_point() + \n",
    "  stat_smooth(method = \"lm\", \n",
    "              formula = y ~ x) +\n",
    "  ggtitle(\"Graph of cost against time\") +\n",
    "  geom_text(x = 5, y = 10000, label = modeleqn) #+\n",
    "#   stat_smooth(method = \"lm\", \n",
    "#               formula = y ~ x**2)\n",
    "\n",
    "residuals <- data.frame(y = summary_lin_mod$residuals, x = age)\n",
    "ggplot(residuals, aes(x = x, y = y)) +\n",
    "  geom_point() +\n",
    "  geom_line()"
   ]
  },
  {
   "cell_type": "code",
   "execution_count": 196,
   "metadata": {
    "collapsed": true
   },
   "outputs": [],
   "source": [
    "summary_lin_mod$r.squared"
   ]
  },
  {
   "cell_type": "code",
   "execution_count": null,
   "metadata": {
    "collapsed": true
   },
   "outputs": [],
   "source": []
  }
 ],
 "metadata": {
  "kernelspec": {
   "display_name": "R",
   "language": "R",
   "name": "ir"
  },
  "language_info": {
   "codemirror_mode": "r",
   "file_extension": ".r",
   "mimetype": "text/x-r-source",
   "name": "R",
   "pygments_lexer": "r",
   "version": "3.4.2"
  }
 },
 "nbformat": 4,
 "nbformat_minor": 2
}
