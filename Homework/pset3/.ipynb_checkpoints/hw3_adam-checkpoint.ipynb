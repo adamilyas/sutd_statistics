{
 "cells": [
  {
   "cell_type": "markdown",
   "metadata": {},
   "source": [
    "#### 40.004 Statistics 2018: Problem set 3\n",
    "\n",
    "due Mon, 9 April, 2018 at 11:59 pm. Submit on e-dimension.\n",
    "\n",
    "Done by Adam Ilyas 1002010"
   ]
  },
  {
   "cell_type": "code",
   "execution_count": 1,
   "metadata": {},
   "outputs": [],
   "source": [
    "from scipy import stats\n",
    "import numpy as np\n",
    "import pandas as pd\n",
    "from matplotlib import pyplot as plt\n",
    "import math\n",
    "%matplotlib inline"
   ]
  },
  {
   "cell_type": "code",
   "execution_count": 2,
   "metadata": {
    "collapsed": true
   },
   "outputs": [],
   "source": [
    "def test(p_value, alpha):\n",
    "    if p_value>=alpha: \n",
    "        print(\"Since {} >= {} \\nwe do not reject our hypothesis\".format(p_value, alpha))\n",
    "    else:\n",
    "        print(\"Since {} < {} \\nwe reject our hypothesis\".format(p_value, alpha))    "
   ]
  },
  {
   "cell_type": "markdown",
   "metadata": {},
   "source": [
    "### Question 1\n",
    "People at high risk of sudden cardiac death can be identified using the change in a signal averaged electrocardiogram\n",
    "(ECG) before and after the prescribed activities. The current method is 80% accurate. The\n",
    "method was modified, hoping to improve its accuracy. The new method is tested on 50 people and gave\n",
    "correct results on 46 patients. Is this convincing evidence that the new method is accurate"
   ]
  },
  {
   "cell_type": "markdown",
   "metadata": {},
   "source": [
    "**a)  Set up the hypotheses to test that the accuracy of the new method is better than that of the current\n",
    "method.**"
   ]
  },
  {
   "cell_type": "markdown",
   "metadata": {},
   "source": [
    "$H_0$: Success rate of new method $\\leq$ 0.8\n",
    "\n",
    "$H_A$: Success rate of new method > 0.8"
   ]
  },
  {
   "cell_type": "markdown",
   "metadata": {},
   "source": [
    "**b)  Perform a test of the hypotheses at level α = 0.05. What do you conclude about the accuracy of the\n",
    "method?**\n"
   ]
  },
  {
   "cell_type": "markdown",
   "metadata": {},
   "source": [
    "For method 1: Each of the result have a 80% probability of being correct. Thus 40 out of 50 trials were correct (successful)\n",
    "\n",
    "Let X be the number of successful trials:\n",
    "\n",
    "X ~ Normal (40, 0.80)\n",
    "\n",
    "Assuming that $H_0$ is true, the probability of a result as extreme (or more) than 46 out 50 successful trials is as follows:\n",
    "\n",
    "P(X $\\ge$ 46) = P (Z $\\ge$ $\\frac{46-40}{\\sqrt{8/50}}$)"
   ]
  },
  {
   "cell_type": "code",
   "execution_count": 3,
   "metadata": {},
   "outputs": [
    {
     "name": "stdout",
     "output_type": "stream",
     "text": [
      "P-value: 0.0 \n",
      "\n",
      "Since 0.0 < 0.05 \n",
      "we reject our hypothesis\n"
     ]
    }
   ],
   "source": [
    "p_value = 1 - stats.norm.cdf((46-40)/((8/50)**0.5))\n",
    "alpha = 0.05\n",
    "print('P-value: {} \\n'.format(p_value))\n",
    "if p_value>=alpha: \n",
    "    print(\"Since {} >= {} \\nwe do not reject our hypothesis\".format(p_value, alpha))\n",
    "else:\n",
    "    print(\"Since {} < {} \\nwe reject our hypothesis\".format(p_value, alpha))"
   ]
  },
  {
   "cell_type": "markdown",
   "metadata": {},
   "source": [
    "**c) If the new method actually has 90% accuracy, what power does a sample of 50 have to demonstrate\n",
    "that the new method is better, using a 0.05-level test?**\n",
    "\n",
    "Power = 1 - $\\beta$\n",
    "\n",
    "P(X > 40 | $\\mu$ = 0.9):"
   ]
  },
  {
   "cell_type": "markdown",
   "metadata": {},
   "source": [
    "**d) How many patients should be tested in order for this power to be at least 0.75?**"
   ]
  },
  {
   "cell_type": "code",
   "execution_count": null,
   "metadata": {
    "collapsed": true
   },
   "outputs": [],
   "source": []
  },
  {
   "cell_type": "markdown",
   "metadata": {},
   "source": [
    "# Question 2\n",
    "\n",
    "We have looked at the distribution of the digits of π in base 10, and the result is consistent with the null\n",
    "hypothesis that the digits of π are random. However, it is plausible for a number to appear random in one\n",
    "base but not in another. The spreadsheet shows the distribution of the digits of π in base 16."
   ]
  },
  {
   "cell_type": "code",
   "execution_count": 4,
   "metadata": {},
   "outputs": [
    {
     "data": {
      "text/html": [
       "<div>\n",
       "<style>\n",
       "    .dataframe thead tr:only-child th {\n",
       "        text-align: right;\n",
       "    }\n",
       "\n",
       "    .dataframe thead th {\n",
       "        text-align: left;\n",
       "    }\n",
       "\n",
       "    .dataframe tbody tr th {\n",
       "        vertical-align: top;\n",
       "    }\n",
       "</style>\n",
       "<table border=\"1\" class=\"dataframe\">\n",
       "  <thead>\n",
       "    <tr style=\"text-align: right;\">\n",
       "      <th></th>\n",
       "      <th>Hex digit</th>\n",
       "      <th>Occurrences</th>\n",
       "    </tr>\n",
       "  </thead>\n",
       "  <tbody>\n",
       "    <tr>\n",
       "      <th>0</th>\n",
       "      <td>0</td>\n",
       "      <td>62499881108</td>\n",
       "    </tr>\n",
       "    <tr>\n",
       "      <th>1</th>\n",
       "      <td>1</td>\n",
       "      <td>62500212206</td>\n",
       "    </tr>\n",
       "    <tr>\n",
       "      <th>2</th>\n",
       "      <td>2</td>\n",
       "      <td>62499924780</td>\n",
       "    </tr>\n",
       "    <tr>\n",
       "      <th>3</th>\n",
       "      <td>3</td>\n",
       "      <td>62500188844</td>\n",
       "    </tr>\n",
       "    <tr>\n",
       "      <th>4</th>\n",
       "      <td>4</td>\n",
       "      <td>62499807368</td>\n",
       "    </tr>\n",
       "  </tbody>\n",
       "</table>\n",
       "</div>"
      ],
      "text/plain": [
       "  Hex digit  Occurrences\n",
       "0         0  62499881108\n",
       "1         1  62500212206\n",
       "2         2  62499924780\n",
       "3         3  62500188844\n",
       "4         4  62499807368"
      ]
     },
     "execution_count": 4,
     "metadata": {},
     "output_type": "execute_result"
    }
   ],
   "source": [
    "df = pd.read_excel('stats2018_PS3.xlsx', sheetname=0)\n",
    "\n",
    "df.head()"
   ]
  },
  {
   "cell_type": "code",
   "execution_count": 5,
   "metadata": {},
   "outputs": [
    {
     "data": {
      "text/html": [
       "<div>\n",
       "<style>\n",
       "    .dataframe thead tr:only-child th {\n",
       "        text-align: right;\n",
       "    }\n",
       "\n",
       "    .dataframe thead th {\n",
       "        text-align: left;\n",
       "    }\n",
       "\n",
       "    .dataframe tbody tr th {\n",
       "        vertical-align: top;\n",
       "    }\n",
       "</style>\n",
       "<table border=\"1\" class=\"dataframe\">\n",
       "  <thead>\n",
       "    <tr style=\"text-align: right;\">\n",
       "      <th></th>\n",
       "      <th>Hex digit</th>\n",
       "      <th>Occurrences</th>\n",
       "      <th>Expected</th>\n",
       "      <th>test statistic</th>\n",
       "    </tr>\n",
       "  </thead>\n",
       "  <tbody>\n",
       "    <tr>\n",
       "      <th>0</th>\n",
       "      <td>0</td>\n",
       "      <td>62499881108</td>\n",
       "      <td>6.250000e+10</td>\n",
       "      <td>0.226165</td>\n",
       "    </tr>\n",
       "    <tr>\n",
       "      <th>1</th>\n",
       "      <td>1</td>\n",
       "      <td>62500212206</td>\n",
       "      <td>6.250000e+10</td>\n",
       "      <td>0.720502</td>\n",
       "    </tr>\n",
       "    <tr>\n",
       "      <th>2</th>\n",
       "      <td>2</td>\n",
       "      <td>62499924780</td>\n",
       "      <td>6.250000e+10</td>\n",
       "      <td>0.090529</td>\n",
       "    </tr>\n",
       "    <tr>\n",
       "      <th>3</th>\n",
       "      <td>3</td>\n",
       "      <td>62500188844</td>\n",
       "      <td>6.250000e+10</td>\n",
       "      <td>0.570593</td>\n",
       "    </tr>\n",
       "    <tr>\n",
       "      <th>4</th>\n",
       "      <td>4</td>\n",
       "      <td>62499807368</td>\n",
       "      <td>6.250000e+10</td>\n",
       "      <td>0.593713</td>\n",
       "    </tr>\n",
       "    <tr>\n",
       "      <th>5</th>\n",
       "      <td>5</td>\n",
       "      <td>62500007205</td>\n",
       "      <td>6.250000e+10</td>\n",
       "      <td>0.000831</td>\n",
       "    </tr>\n",
       "    <tr>\n",
       "      <th>6</th>\n",
       "      <td>6</td>\n",
       "      <td>62499925426</td>\n",
       "      <td>6.250000e+10</td>\n",
       "      <td>0.088981</td>\n",
       "    </tr>\n",
       "    <tr>\n",
       "      <th>7</th>\n",
       "      <td>7</td>\n",
       "      <td>62499878794</td>\n",
       "      <td>6.250000e+10</td>\n",
       "      <td>0.235054</td>\n",
       "    </tr>\n",
       "    <tr>\n",
       "      <th>8</th>\n",
       "      <td>8</td>\n",
       "      <td>62500216752</td>\n",
       "      <td>6.250000e+10</td>\n",
       "      <td>0.751703</td>\n",
       "    </tr>\n",
       "    <tr>\n",
       "      <th>9</th>\n",
       "      <td>9</td>\n",
       "      <td>62500120671</td>\n",
       "      <td>6.250000e+10</td>\n",
       "      <td>0.232984</td>\n",
       "    </tr>\n",
       "    <tr>\n",
       "      <th>10</th>\n",
       "      <td>A</td>\n",
       "      <td>62500266095</td>\n",
       "      <td>6.250000e+10</td>\n",
       "      <td>1.132905</td>\n",
       "    </tr>\n",
       "    <tr>\n",
       "      <th>11</th>\n",
       "      <td>B</td>\n",
       "      <td>62499955595</td>\n",
       "      <td>6.250000e+10</td>\n",
       "      <td>0.031549</td>\n",
       "    </tr>\n",
       "    <tr>\n",
       "      <th>12</th>\n",
       "      <td>C</td>\n",
       "      <td>62500188610</td>\n",
       "      <td>6.250000e+10</td>\n",
       "      <td>0.569180</td>\n",
       "    </tr>\n",
       "    <tr>\n",
       "      <th>13</th>\n",
       "      <td>D</td>\n",
       "      <td>62499613666</td>\n",
       "      <td>6.250000e+10</td>\n",
       "      <td>2.388063</td>\n",
       "    </tr>\n",
       "    <tr>\n",
       "      <th>14</th>\n",
       "      <td>E</td>\n",
       "      <td>62499875079</td>\n",
       "      <td>6.250000e+10</td>\n",
       "      <td>0.249684</td>\n",
       "    </tr>\n",
       "    <tr>\n",
       "      <th>15</th>\n",
       "      <td>F</td>\n",
       "      <td>62499937801</td>\n",
       "      <td>6.250000e+10</td>\n",
       "      <td>0.061899</td>\n",
       "    </tr>\n",
       "  </tbody>\n",
       "</table>\n",
       "</div>"
      ],
      "text/plain": [
       "   Hex digit  Occurrences      Expected  test statistic\n",
       "0          0  62499881108  6.250000e+10        0.226165\n",
       "1          1  62500212206  6.250000e+10        0.720502\n",
       "2          2  62499924780  6.250000e+10        0.090529\n",
       "3          3  62500188844  6.250000e+10        0.570593\n",
       "4          4  62499807368  6.250000e+10        0.593713\n",
       "5          5  62500007205  6.250000e+10        0.000831\n",
       "6          6  62499925426  6.250000e+10        0.088981\n",
       "7          7  62499878794  6.250000e+10        0.235054\n",
       "8          8  62500216752  6.250000e+10        0.751703\n",
       "9          9  62500120671  6.250000e+10        0.232984\n",
       "10         A  62500266095  6.250000e+10        1.132905\n",
       "11         B  62499955595  6.250000e+10        0.031549\n",
       "12         C  62500188610  6.250000e+10        0.569180\n",
       "13         D  62499613666  6.250000e+10        2.388063\n",
       "14         E  62499875079  6.250000e+10        0.249684\n",
       "15         F  62499937801  6.250000e+10        0.061899"
      ]
     },
     "execution_count": 5,
     "metadata": {},
     "output_type": "execute_result"
    }
   ],
   "source": [
    "df['Expected'] = [sum(df['Occurrences'])/16 for i in range(16)]\n",
    "df['test statistic'] = (df['Occurrences'] - df['Expected'])**2/df['Expected']\n",
    "\n",
    "df"
   ]
  },
  {
   "cell_type": "markdown",
   "metadata": {},
   "source": [
    "**a) Perform a chi-squared test on the null hypothesis, using α = 0.05.**"
   ]
  },
  {
   "cell_type": "markdown",
   "metadata": {},
   "source": [
    "$H_0$: Each digit has a probability of 1/16  of occuring\n",
    "\n",
    "$H_A$: At least one of digit has a probability != 1/16"
   ]
  },
  {
   "cell_type": "code",
   "execution_count": 6,
   "metadata": {},
   "outputs": [
    {
     "name": "stdout",
     "output_type": "stream",
     "text": [
      "Chisquare statistic: 0.9259949835349345 \n",
      "\n",
      "Since 0.9259949835349345 >= 0.05 \n",
      "we do not reject our hypothesis\n"
     ]
    }
   ],
   "source": [
    "statistic = sum(df['test statistic'])\n",
    "n = 16\n",
    "p_value = 1 - stats.chi2.cdf(statistic, df=n-1)\n",
    "print('Chisquare statistic: {} \\n'.format(p_value))\n",
    "test(p_value, alpha = 0.05)"
   ]
  },
  {
   "cell_type": "markdown",
   "metadata": {},
   "source": [
    "**b) Give an example of a number whose base 10 digits are clearly not random, yet the chi-squared test\n",
    "fails to reject the null hypothesis**"
   ]
  },
  {
   "cell_type": "markdown",
   "metadata": {},
   "source": [
    "$H_0$: The data are consistent with a specified distribution.\n",
    "\n",
    "$H_A$: The data are not consistent with a specified distribution."
   ]
  },
  {
   "cell_type": "markdown",
   "metadata": {},
   "source": [
    "$0.\\overline{1234567890}$\n",
    "\n",
    "The value above is clearly not random but using the method above, each digit will have equal distribution (except 0) and will fail to reject the null hypothesis"
   ]
  },
  {
   "cell_type": "markdown",
   "metadata": {},
   "source": [
    "### Question 3\n",
    "While trying to find the least square regression line for some data points (xi, yi), a statistician, giddy from\n",
    "the recent Putin’s landslide victory, used the points (yi\n",
    ", xi) instead."
   ]
  },
  {
   "cell_type": "markdown",
   "metadata": {},
   "source": [
    "**a) Does the correlation coefficient of the resulting regression line agree with the correct r?**"
   ]
  },
  {
   "cell_type": "code",
   "execution_count": 7,
   "metadata": {},
   "outputs": [],
   "source": [
    "x = np.random.uniform(0,1,101)\n",
    "y = np.random.uniform(0,1,101)"
   ]
  },
  {
   "cell_type": "code",
   "execution_count": 8,
   "metadata": {},
   "outputs": [],
   "source": [
    "sample_covariance = np.cov(x,y, ddof=1)\n",
    "std_x = np.std(x, ddof=1)\n",
    "std_y = np.std(y, ddof=1)"
   ]
  },
  {
   "cell_type": "code",
   "execution_count": 9,
   "metadata": {},
   "outputs": [
    {
     "data": {
      "text/plain": [
       "0.028742902442123696"
      ]
     },
     "execution_count": 9,
     "metadata": {},
     "output_type": "execute_result"
    }
   ],
   "source": [
    "np.corrcoef(x,y)[0,1]"
   ]
  },
  {
   "cell_type": "code",
   "execution_count": 10,
   "metadata": {},
   "outputs": [
    {
     "data": {
      "text/plain": [
       "0.028742902442123696"
      ]
     },
     "execution_count": 10,
     "metadata": {},
     "output_type": "execute_result"
    }
   ],
   "source": [
    "np.corrcoef(x,y)[1,0]"
   ]
  },
  {
   "cell_type": "markdown",
   "metadata": {},
   "source": [
    "correlation coefficient does not change"
   ]
  },
  {
   "cell_type": "markdown",
   "metadata": {},
   "source": [
    "b) What about the slope of the resulting regression line: is it the same as the correct $\\hat{\\beta}_1$, or is it $\\hat{\\beta}_1$ flipped around the line y = x, or does something else happen?"
   ]
  },
  {
   "cell_type": "code",
   "execution_count": 11,
   "metadata": {},
   "outputs": [
    {
     "name": "stdout",
     "output_type": "stream",
     "text": [
      "Correlation Coefficient: 0.028742902442123696 \n",
      "Slope: 0.027358912721186228\n",
      "Intercept: 0.49243189223904593\n"
     ]
    },
    {
     "data": {
      "text/plain": [
       "[<matplotlib.lines.Line2D at 0x1c2e822f9b0>]"
      ]
     },
     "execution_count": 11,
     "metadata": {},
     "output_type": "execute_result"
    },
    {
     "data": {
      "image/png": "[encoded data removed]",
      "text/plain": [
       "<matplotlib.figure.Figure at 0x1c2e617a278>"
      ]
     },
     "metadata": {},
     "output_type": "display_data"
    }
   ],
   "source": [
    "result = stats.linregress(x,y)\n",
    "print('Correlation Coefficient: {} \\nSlope: {}\\nIntercept: {}'.format(result.rvalue, result.slope, result.intercept))\n",
    "plt.title('Y vs X')\n",
    "plt.scatter(x,y)\n",
    "plt.plot(x, (x*result.slope+result.intercept), 'r')"
   ]
  },
  {
   "cell_type": "code",
   "execution_count": 12,
   "metadata": {},
   "outputs": [
    {
     "name": "stdout",
     "output_type": "stream",
     "text": [
      "Correlation Coefficient: 0.028742902442123696 \n",
      "Slope: 0.030196903262083286\n",
      "Intercept: 0.5151367390802445\n"
     ]
    },
    {
     "data": {
      "text/plain": [
       "[<matplotlib.lines.Line2D at 0x1c2e82fbc50>]"
      ]
     },
     "execution_count": 12,
     "metadata": {},
     "output_type": "execute_result"
    },
    {
     "data": {
      "image/png": "[encoded data removed]",
      "text/plain": [
       "<matplotlib.figure.Figure at 0x1c2e61ef470>"
      ]
     },
     "metadata": {},
     "output_type": "display_data"
    }
   ],
   "source": [
    "result = stats.linregress(y,x)\n",
    "print('Correlation Coefficient: {} \\nSlope: {}\\nIntercept: {}'.format(result.rvalue, result.slope, result.intercept))\n",
    "plt.title('X vs Y')\n",
    "plt.scatter(y,x)\n",
    "plt.plot(y, (y*result.slope+result.intercept), 'r')"
   ]
  },
  {
   "cell_type": "markdown",
   "metadata": {},
   "source": [
    "## Question 4\n",
    "Refer to the spreadsheet for some triple jump data.\n"
   ]
  },
  {
   "cell_type": "code",
   "execution_count": 13,
   "metadata": {},
   "outputs": [
    {
     "data": {
      "text/html": [
       "<div>\n",
       "<style>\n",
       "    .dataframe thead tr:only-child th {\n",
       "        text-align: right;\n",
       "    }\n",
       "\n",
       "    .dataframe thead th {\n",
       "        text-align: left;\n",
       "    }\n",
       "\n",
       "    .dataframe tbody tr th {\n",
       "        vertical-align: top;\n",
       "    }\n",
       "</style>\n",
       "<table border=\"1\" class=\"dataframe\">\n",
       "  <thead>\n",
       "    <tr style=\"text-align: right;\">\n",
       "      <th></th>\n",
       "      <th>year</th>\n",
       "      <th>winning distance (Olympic triple jump, women)</th>\n",
       "    </tr>\n",
       "  </thead>\n",
       "  <tbody>\n",
       "    <tr>\n",
       "      <th>0</th>\n",
       "      <td>1996</td>\n",
       "      <td>15.33</td>\n",
       "    </tr>\n",
       "    <tr>\n",
       "      <th>1</th>\n",
       "      <td>2000</td>\n",
       "      <td>15.20</td>\n",
       "    </tr>\n",
       "    <tr>\n",
       "      <th>2</th>\n",
       "      <td>2004</td>\n",
       "      <td>15.30</td>\n",
       "    </tr>\n",
       "    <tr>\n",
       "      <th>3</th>\n",
       "      <td>2008</td>\n",
       "      <td>15.39</td>\n",
       "    </tr>\n",
       "    <tr>\n",
       "      <th>4</th>\n",
       "      <td>2012</td>\n",
       "      <td>14.98</td>\n",
       "    </tr>\n",
       "    <tr>\n",
       "      <th>5</th>\n",
       "      <td>2016</td>\n",
       "      <td>15.17</td>\n",
       "    </tr>\n",
       "  </tbody>\n",
       "</table>\n",
       "</div>"
      ],
      "text/plain": [
       "   year  winning distance (Olympic triple jump, women)\n",
       "0  1996                                          15.33\n",
       "1  2000                                          15.20\n",
       "2  2004                                          15.30\n",
       "3  2008                                          15.39\n",
       "4  2012                                          14.98\n",
       "5  2016                                          15.17"
      ]
     },
     "execution_count": 13,
     "metadata": {},
     "output_type": "execute_result"
    }
   ],
   "source": [
    "df = pd.read_excel('stats2018_PS3.xlsx', sheetname=1)\n",
    "df"
   ]
  },
  {
   "cell_type": "code",
   "execution_count": 14,
   "metadata": {},
   "outputs": [
    {
     "data": {
      "text/html": [
       "<div>\n",
       "<style>\n",
       "    .dataframe thead tr:only-child th {\n",
       "        text-align: right;\n",
       "    }\n",
       "\n",
       "    .dataframe thead th {\n",
       "        text-align: left;\n",
       "    }\n",
       "\n",
       "    .dataframe tbody tr th {\n",
       "        vertical-align: top;\n",
       "    }\n",
       "</style>\n",
       "<table border=\"1\" class=\"dataframe\">\n",
       "  <thead>\n",
       "    <tr style=\"text-align: right;\">\n",
       "      <th></th>\n",
       "      <th>year</th>\n",
       "      <th>distance</th>\n",
       "    </tr>\n",
       "  </thead>\n",
       "  <tbody>\n",
       "    <tr>\n",
       "      <th>0</th>\n",
       "      <td>1996</td>\n",
       "      <td>15.33</td>\n",
       "    </tr>\n",
       "    <tr>\n",
       "      <th>1</th>\n",
       "      <td>2000</td>\n",
       "      <td>15.20</td>\n",
       "    </tr>\n",
       "    <tr>\n",
       "      <th>2</th>\n",
       "      <td>2004</td>\n",
       "      <td>15.30</td>\n",
       "    </tr>\n",
       "    <tr>\n",
       "      <th>3</th>\n",
       "      <td>2008</td>\n",
       "      <td>15.39</td>\n",
       "    </tr>\n",
       "    <tr>\n",
       "      <th>4</th>\n",
       "      <td>2012</td>\n",
       "      <td>14.98</td>\n",
       "    </tr>\n",
       "    <tr>\n",
       "      <th>5</th>\n",
       "      <td>2016</td>\n",
       "      <td>15.17</td>\n",
       "    </tr>\n",
       "  </tbody>\n",
       "</table>\n",
       "</div>"
      ],
      "text/plain": [
       "   year  distance\n",
       "0  1996     15.33\n",
       "1  2000     15.20\n",
       "2  2004     15.30\n",
       "3  2008     15.39\n",
       "4  2012     14.98\n",
       "5  2016     15.17"
      ]
     },
     "execution_count": 14,
     "metadata": {},
     "output_type": "execute_result"
    }
   ],
   "source": [
    "df.columns = ['year', 'distance']\n",
    "df"
   ]
  },
  {
   "cell_type": "markdown",
   "metadata": {},
   "source": [
    "**a) Using the formulas given in class, compute the following**\n",
    "\n",
    "The p-value of $\\hat{\\beta}_1$, under the hypotheses:\n",
    "\n",
    "$H_0$ : $\\hat{\\beta}_1$ = 0 \n",
    "\n",
    "$H_1$ : $\\hat{\\beta}_1$ $\\ne$ 0"
   ]
  },
  {
   "cell_type": "markdown",
   "metadata": {
    "collapsed": true
   },
   "source": [
    "We can reject $H_0$ if $$\\frac{| r |\\sqrt{n-2}}{\\sqrt{1-r^2}} > t_{n-2,1-\\alpha/2}$$"
   ]
  },
  {
   "cell_type": "code",
   "execution_count": 15,
   "metadata": {},
   "outputs": [
    {
     "data": {
      "text/plain": [
       "LinregressResult(slope=-0.009785714285714267, intercept=34.85847619047615, rvalue=-0.49946031170932303, pvalue=0.3131073676960041, stderr=0.008486884639510186)"
      ]
     },
     "execution_count": 15,
     "metadata": {},
     "output_type": "execute_result"
    }
   ],
   "source": [
    "x = df['year']\n",
    "y = df['distance']\n",
    "\n",
    "stats.linregress(x,y)"
   ]
  },
  {
   "cell_type": "code",
   "execution_count": 16,
   "metadata": {},
   "outputs": [
    {
     "name": "stdout",
     "output_type": "stream",
     "text": [
      "-0.547999999999999 7.483314773547883 0.14661741597322842\n",
      "-0.49946031170932315\n"
     ]
    }
   ],
   "source": [
    "s_xy = np.cov(x,y)[0,1]\n",
    "s_x = np.std(x, ddof=1)\n",
    "s_y = np.std(y, ddof=1)\n",
    "\n",
    "r = s_xy/(s_x*s_y)\n",
    "print(s_xy, s_x, s_y)\n",
    "print(r)"
   ]
  },
  {
   "cell_type": "code",
   "execution_count": 17,
   "metadata": {},
   "outputs": [
    {
     "data": {
      "text/plain": [
       "1.1530396254189033"
      ]
     },
     "execution_count": 17,
     "metadata": {},
     "output_type": "execute_result"
    }
   ],
   "source": [
    "n = len(x)\n",
    "statistic = ( abs(r)*(n-2)**0.5)/ (1-r**2)**0.5\n",
    "\n",
    "statistic ##################################"
   ]
  },
  {
   "cell_type": "markdown",
   "metadata": {},
   "source": [
    "**b) Using the regression line, predict the winning distance for 2020, and provide a 99% two-sided prediction interval.**"
   ]
  },
  {
   "cell_type": "code",
   "execution_count": 18,
   "metadata": {},
   "outputs": [
    {
     "name": "stdout",
     "output_type": "stream",
     "text": [
      "Slope: -0.009785714285714269\n",
      "Intercept: 34.85847619047616\n"
     ]
    }
   ],
   "source": [
    "x_bar = np.mean(x)\n",
    "y_bar = np.mean(y)\n",
    "\n",
    "slope = s_xy/ s_x**2\n",
    "intercept = y_bar - slope * x_bar\n",
    "print('Slope: {}\\nIntercept: {}'.format(slope, intercept))"
   ]
  },
  {
   "cell_type": "code",
   "execution_count": 19,
   "metadata": {},
   "outputs": [
    {
     "name": "stdout",
     "output_type": "stream",
     "text": [
      "Winning distance for 2020 is 15.091m\n",
      "Prediction interval is [14.157188956489943, 16.025477710176734]\n"
     ]
    }
   ],
   "source": [
    "winning_distance = intercept + slope * 2020\n",
    "print(\"Winning distance for 2020 is {}m\".format(round(winning_distance,3)))\n",
    "\n",
    "standard_error = s_y * ( 1+1/n+ (2020-x_bar)*2/ ((n-1)* s_x) )**0.5\n",
    "\n",
    "t = stats.t.ppf(0.995, df=n-2)\n",
    "prediction_interval = [winning_distance-t*standard_error, winning_distance+t*standard_error]\n",
    "\n",
    "print(\"Prediction interval is {}\".format(prediction_interval))"
   ]
  },
  {
   "cell_type": "markdown",
   "metadata": {},
   "source": [
    "**c) What would be the 99% confidence interval for the winning distance for the year 2020?**"
   ]
  },
  {
   "cell_type": "code",
   "execution_count": 20,
   "metadata": {},
   "outputs": [
    {
     "name": "stdout",
     "output_type": "stream",
     "text": [
      "Prediction interval is [14.445619736081463, 15.737046930585214]\n"
     ]
    }
   ],
   "source": [
    "standard_error = s_y * ( 1/n+ (2020-x_bar)*2/ ((n-1)* s_x) )**0.5\n",
    "\n",
    "t = stats.t.ppf(0.995, df=n-2)\n",
    "\n",
    "confidence_interval = [winning_distance-t*standard_error, winning_distance+t*standard_error]\n",
    "\n",
    "print(\"Prediction interval is {}\".format(confidence_interval))"
   ]
  },
  {
   "cell_type": "markdown",
   "metadata": {},
   "source": [
    "**d) Comment on why the two intervals from parts (b) and (c) are different. What are the two different\n",
    "questions about the winning distance that parts (b) and (c) are asking?**"
   ]
  },
  {
   "cell_type": "markdown",
   "metadata": {},
   "source": [
    "Prediction of a single value of y will vary more than its expected value hence due to this added variability (as seen in the formula where the standard error has an addition +1), the prediction interval will be larger than the confidence interval"
   ]
  },
  {
   "cell_type": "markdown",
   "metadata": {},
   "source": [
    "## Question 5\n",
    "A prime is a positive integer that has no integer factors other than 1 and itself (1 is not regarded as prime).\n",
    "The number of primes in any given interval of whole numbers is highly irregular. However, the proportion\n",
    "of primes less than or equal to any given number x (denoted p(x)) follows a regular pattern as x increases.\n",
    "Refer to the spreadsheet for the table that gives a number and proportion of primes for x = $10^n$, for\n",
    "n = 1, . . . , 10."
   ]
  },
  {
   "cell_type": "markdown",
   "metadata": {},
   "source": [
    "**a) Plot the proportion of primes, p(x), against the following: **\n",
    "\n",
    "10000/x, \n",
    "\n",
    "1000/$\\sqrt{x}$ \n",
    "\n",
    "1/ $\\log_{10}(x)$. \n",
    "\n",
    "Which relationship appears the most linear"
   ]
  },
  {
   "cell_type": "code",
   "execution_count": 21,
   "metadata": {},
   "outputs": [
    {
     "data": {
      "text/html": [
       "<div>\n",
       "<style>\n",
       "    .dataframe thead tr:only-child th {\n",
       "        text-align: right;\n",
       "    }\n",
       "\n",
       "    .dataframe thead th {\n",
       "        text-align: left;\n",
       "    }\n",
       "\n",
       "    .dataframe tbody tr th {\n",
       "        vertical-align: top;\n",
       "    }\n",
       "</style>\n",
       "<table border=\"1\" class=\"dataframe\">\n",
       "  <thead>\n",
       "    <tr style=\"text-align: right;\">\n",
       "      <th></th>\n",
       "      <th>x</th>\n",
       "      <th>Primes</th>\n",
       "      <th>Proportion</th>\n",
       "    </tr>\n",
       "  </thead>\n",
       "  <tbody>\n",
       "    <tr>\n",
       "      <th>0</th>\n",
       "      <td>10.0</td>\n",
       "      <td>4</td>\n",
       "      <td>0.40000</td>\n",
       "    </tr>\n",
       "    <tr>\n",
       "      <th>1</th>\n",
       "      <td>100.0</td>\n",
       "      <td>25</td>\n",
       "      <td>0.25000</td>\n",
       "    </tr>\n",
       "    <tr>\n",
       "      <th>2</th>\n",
       "      <td>1000.0</td>\n",
       "      <td>168</td>\n",
       "      <td>0.16800</td>\n",
       "    </tr>\n",
       "    <tr>\n",
       "      <th>3</th>\n",
       "      <td>10000.0</td>\n",
       "      <td>1229</td>\n",
       "      <td>0.12290</td>\n",
       "    </tr>\n",
       "    <tr>\n",
       "      <th>4</th>\n",
       "      <td>100000.0</td>\n",
       "      <td>9592</td>\n",
       "      <td>0.09592</td>\n",
       "    </tr>\n",
       "  </tbody>\n",
       "</table>\n",
       "</div>"
      ],
      "text/plain": [
       "          x  Primes  Proportion\n",
       "0      10.0       4     0.40000\n",
       "1     100.0      25     0.25000\n",
       "2    1000.0     168     0.16800\n",
       "3   10000.0    1229     0.12290\n",
       "4  100000.0    9592     0.09592"
      ]
     },
     "execution_count": 21,
     "metadata": {},
     "output_type": "execute_result"
    }
   ],
   "source": [
    "df = pd.read_excel('stats2018_PS3.xlsx', 2)\n",
    "\n",
    "df.columns = ['x', 'Primes', 'Proportion']\n",
    "\n",
    "def toNumber(x):\n",
    "    num = x.split(\"^\")\n",
    "    return float(num[0])**int(num[1])\n",
    "\n",
    "df['x'] = df['x'].apply(toNumber)\n",
    "df.head()"
   ]
  },
  {
   "cell_type": "code",
   "execution_count": 22,
   "metadata": {
    "collapsed": true
   },
   "outputs": [],
   "source": [
    "df['10000/x'] = df['x'].apply(lambda x: 10000/x)\n",
    "df['1000/x^0.5'] = df['x'].apply(lambda x: 1000/x**0.5)\n",
    "df['1/log10(x)'] = df['x'].apply(lambda x: 1/math.log(x,10))"
   ]
  },
  {
   "cell_type": "code",
   "execution_count": 23,
   "metadata": {},
   "outputs": [
    {
     "data": {
      "text/html": [
       "<div>\n",
       "<style>\n",
       "    .dataframe thead tr:only-child th {\n",
       "        text-align: right;\n",
       "    }\n",
       "\n",
       "    .dataframe thead th {\n",
       "        text-align: left;\n",
       "    }\n",
       "\n",
       "    .dataframe tbody tr th {\n",
       "        vertical-align: top;\n",
       "    }\n",
       "</style>\n",
       "<table border=\"1\" class=\"dataframe\">\n",
       "  <thead>\n",
       "    <tr style=\"text-align: right;\">\n",
       "      <th></th>\n",
       "      <th>x</th>\n",
       "      <th>Primes</th>\n",
       "      <th>Proportion</th>\n",
       "      <th>10000/x</th>\n",
       "      <th>1000/x^0.5</th>\n",
       "      <th>1/log10(x)</th>\n",
       "    </tr>\n",
       "  </thead>\n",
       "  <tbody>\n",
       "    <tr>\n",
       "      <th>0</th>\n",
       "      <td>1.000000e+01</td>\n",
       "      <td>4</td>\n",
       "      <td>0.400000</td>\n",
       "      <td>1000.000000</td>\n",
       "      <td>316.227766</td>\n",
       "      <td>1.000000</td>\n",
       "    </tr>\n",
       "    <tr>\n",
       "      <th>1</th>\n",
       "      <td>1.000000e+02</td>\n",
       "      <td>25</td>\n",
       "      <td>0.250000</td>\n",
       "      <td>100.000000</td>\n",
       "      <td>100.000000</td>\n",
       "      <td>0.500000</td>\n",
       "    </tr>\n",
       "    <tr>\n",
       "      <th>2</th>\n",
       "      <td>1.000000e+03</td>\n",
       "      <td>168</td>\n",
       "      <td>0.168000</td>\n",
       "      <td>10.000000</td>\n",
       "      <td>31.622777</td>\n",
       "      <td>0.333333</td>\n",
       "    </tr>\n",
       "    <tr>\n",
       "      <th>3</th>\n",
       "      <td>1.000000e+04</td>\n",
       "      <td>1229</td>\n",
       "      <td>0.122900</td>\n",
       "      <td>1.000000</td>\n",
       "      <td>10.000000</td>\n",
       "      <td>0.250000</td>\n",
       "    </tr>\n",
       "    <tr>\n",
       "      <th>4</th>\n",
       "      <td>1.000000e+05</td>\n",
       "      <td>9592</td>\n",
       "      <td>0.095920</td>\n",
       "      <td>0.100000</td>\n",
       "      <td>3.162278</td>\n",
       "      <td>0.200000</td>\n",
       "    </tr>\n",
       "    <tr>\n",
       "      <th>5</th>\n",
       "      <td>1.000000e+06</td>\n",
       "      <td>78498</td>\n",
       "      <td>0.078498</td>\n",
       "      <td>0.010000</td>\n",
       "      <td>1.000000</td>\n",
       "      <td>0.166667</td>\n",
       "    </tr>\n",
       "    <tr>\n",
       "      <th>6</th>\n",
       "      <td>1.000000e+07</td>\n",
       "      <td>664579</td>\n",
       "      <td>0.066458</td>\n",
       "      <td>0.001000</td>\n",
       "      <td>0.316228</td>\n",
       "      <td>0.142857</td>\n",
       "    </tr>\n",
       "    <tr>\n",
       "      <th>7</th>\n",
       "      <td>1.000000e+08</td>\n",
       "      <td>5761455</td>\n",
       "      <td>0.057615</td>\n",
       "      <td>0.000100</td>\n",
       "      <td>0.100000</td>\n",
       "      <td>0.125000</td>\n",
       "    </tr>\n",
       "    <tr>\n",
       "      <th>8</th>\n",
       "      <td>1.000000e+09</td>\n",
       "      <td>50847534</td>\n",
       "      <td>0.050848</td>\n",
       "      <td>0.000010</td>\n",
       "      <td>0.031623</td>\n",
       "      <td>0.111111</td>\n",
       "    </tr>\n",
       "    <tr>\n",
       "      <th>9</th>\n",
       "      <td>1.000000e+10</td>\n",
       "      <td>455052512</td>\n",
       "      <td>0.045505</td>\n",
       "      <td>0.000001</td>\n",
       "      <td>0.010000</td>\n",
       "      <td>0.100000</td>\n",
       "    </tr>\n",
       "  </tbody>\n",
       "</table>\n",
       "</div>"
      ],
      "text/plain": [
       "              x     Primes  Proportion      10000/x  1000/x^0.5  1/log10(x)\n",
       "0  1.000000e+01          4    0.400000  1000.000000  316.227766    1.000000\n",
       "1  1.000000e+02         25    0.250000   100.000000  100.000000    0.500000\n",
       "2  1.000000e+03        168    0.168000    10.000000   31.622777    0.333333\n",
       "3  1.000000e+04       1229    0.122900     1.000000   10.000000    0.250000\n",
       "4  1.000000e+05       9592    0.095920     0.100000    3.162278    0.200000\n",
       "5  1.000000e+06      78498    0.078498     0.010000    1.000000    0.166667\n",
       "6  1.000000e+07     664579    0.066458     0.001000    0.316228    0.142857\n",
       "7  1.000000e+08    5761455    0.057615     0.000100    0.100000    0.125000\n",
       "8  1.000000e+09   50847534    0.050848     0.000010    0.031623    0.111111\n",
       "9  1.000000e+10  455052512    0.045505     0.000001    0.010000    0.100000"
      ]
     },
     "execution_count": 23,
     "metadata": {},
     "output_type": "execute_result"
    }
   ],
   "source": [
    "df"
   ]
  },
  {
   "cell_type": "code",
   "execution_count": 24,
   "metadata": {},
   "outputs": [
    {
     "data": {
      "image/png": "[encoded data removed]",
      "text/plain": [
       "<matplotlib.figure.Figure at 0x1c2e830e748>"
      ]
     },
     "metadata": {},
     "output_type": "display_data"
    },
    {
     "data": {
      "image/png": "[encoded data removed]",
      "text/plain": [
       "<matplotlib.figure.Figure at 0x1c2e93a7e48>"
      ]
     },
     "metadata": {},
     "output_type": "display_data"
    },
    {
     "data": {
      "image/png": "[encoded data removed]",
      "text/plain": [
       "<matplotlib.figure.Figure at 0x1c2e942fe10>"
      ]
     },
     "metadata": {},
     "output_type": "display_data"
    }
   ],
   "source": [
    "plt.scatter(df['10000/x'], df['Proportion'])\n",
    "plt.title('Proportion vs 10000/x')\n",
    "plt.show()\n",
    "\n",
    "plt.scatter(df['1000/x^0.5'], df['Proportion'])\n",
    "plt.title('Proportion vs 10000/x')\n",
    "plt.show()\n",
    "\n",
    "plt.scatter(df['1/log10(x)'], df['Proportion'])\n",
    "plt.title('Proportion vs 1/log10(x)')\n",
    "plt.show()"
   ]
  },
  {
   "cell_type": "markdown",
   "metadata": {},
   "source": [
    "**b) Produce a regression line for the linearized data, and hence find an equation relating p(x) and x. Test\n",
    "whether the observed $\\hat{\\beta}_1$ matches the theoretical $\\hat{\\beta}_1$ = $log_{10}(e)$ = 0.4343.**"
   ]
  },
  {
   "cell_type": "code",
   "execution_count": 25,
   "metadata": {},
   "outputs": [
    {
     "name": "stdout",
     "output_type": "stream",
     "text": [
      "Slope: 0.4041915868937658\n",
      "Intercept: 0.015187967346710907\n"
     ]
    }
   ],
   "source": [
    "x = df['1/log10(x)']\n",
    "y = df['Proportion']\n",
    "n = len(x)\n",
    "\n",
    "results = stats.linregress(x,y)\n",
    "print('Slope: {}\\nIntercept: {}'.format(results.slope, results.intercept))"
   ]
  },
  {
   "cell_type": "markdown",
   "metadata": {},
   "source": [
    "$H_0$: $\\hat{\\beta}_1$ = $log_{10}(e)$\n",
    "\n",
    "$H_A$: $\\hat{\\beta}_1$ $\\ne$ $log_{10}(e)$"
   ]
  },
  {
   "cell_type": "code",
   "execution_count": 26,
   "metadata": {},
   "outputs": [
    {
     "name": "stdout",
     "output_type": "stream",
     "text": [
      "Since 0.4041915868937658 lies with [0.07156733167242496, 0.7368158421151065], we do not reject null hypothesis\n"
     ]
    }
   ],
   "source": [
    "se = ( np.std(y,ddof=2) / np.std(x, ddof=1)) / (n-1)**0.5\n",
    "t = stats.t.ppf(0.975 , df=n-2)\n",
    "confidence_interval = [results.slope-t*se, results.slope+t*se]\n",
    "\n",
    "confidence_interval ####################################\n",
    "\n",
    "if confidence_interval[0]<=results.slope<=confidence_interval[1]:\n",
    "    print('Since {} lies with {}, we do not reject null hypothesis'.format(results.slope, confidence_interval))\n",
    "else:\n",
    "    print('Since {} does not lies with {}, we reject null hyppthesis'.format(results.slope, confidence_interval))"
   ]
  },
  {
   "cell_type": "markdown",
   "metadata": {},
   "source": [
    "**c) Verify whether $\\hat{\\beta}_0$ is significantly different from zero. ** \n",
    "\n",
    "And thus explain how this translates into the Prime Number Theorem: for large x, p(x) ≈\n",
    "1/ ln x"
   ]
  },
  {
   "cell_type": "code",
   "execution_count": 27,
   "metadata": {},
   "outputs": [
    {
     "name": "stdout",
     "output_type": "stream",
     "text": [
      "Since 0 lies with [-0.11936062060305708, 0.1497365552964789], we do not reject null hypothosis\n"
     ]
    }
   ],
   "source": [
    "# for beta 0\n",
    "se = ( np.std(y,ddof=2) / np.std(x, ddof=1)) * ((np.std(x,ddof=2)**2 / n) + (np.mean(x)**2 / (n-1))) **0.5\n",
    "t = stats.t.ppf(0.975 , df=n-2)\n",
    "confidence_interval = [results.intercept-t*se, results.intercept+t*se]\n",
    "\n",
    "if confidence_interval[0]<=0<=confidence_interval[1]:\n",
    "    print('Since {} lies with {}, we do not reject null hypothosis'.format(0, confidence_interval))\n",
    "else:\n",
    "    print('Since {} does not lies with {}, we reject null hyppthesis'.format(0, confidence_interval))"
   ]
  },
  {
   "cell_type": "markdown",
   "metadata": {},
   "source": [
    "## Question 6. \n",
    "The Salk polio vaccine trial was the most elaborate program of its kind ever, involving millions of participants.\n",
    "Some of its results are given in the spreadsheet: out of the 200,000+ people given a placebo,\n",
    "142 developed polio, while out of a similar number of people given the vaccine, 57 did. We would like to\n",
    "test (and hopefully, reject) the null hypothesis that the vaccine is ineffective. To do so, we could rephrase\n",
    "$H_0$ as: the incidence of polio is independent of which group one is in. Pick a reasonable α and perform a\n",
    "chi-squared test for independence to test this.\n"
   ]
  },
  {
   "cell_type": "code",
   "execution_count": 28,
   "metadata": {},
   "outputs": [
    {
     "data": {
      "text/html": [
       "<div>\n",
       "<style>\n",
       "    .dataframe thead tr:only-child th {\n",
       "        text-align: right;\n",
       "    }\n",
       "\n",
       "    .dataframe thead th {\n",
       "        text-align: left;\n",
       "    }\n",
       "\n",
       "    .dataframe tbody tr th {\n",
       "        vertical-align: top;\n",
       "    }\n",
       "</style>\n",
       "<table border=\"1\" class=\"dataframe\">\n",
       "  <thead>\n",
       "    <tr style=\"text-align: right;\">\n",
       "      <th></th>\n",
       "      <th>Vaccine</th>\n",
       "      <th>Placebo</th>\n",
       "      <th>total</th>\n",
       "    </tr>\n",
       "  </thead>\n",
       "  <tbody>\n",
       "    <tr>\n",
       "      <th>Polio</th>\n",
       "      <td>57</td>\n",
       "      <td>142</td>\n",
       "      <td>199</td>\n",
       "    </tr>\n",
       "    <tr>\n",
       "      <th>No polio</th>\n",
       "      <td>200688</td>\n",
       "      <td>201087</td>\n",
       "      <td>401775</td>\n",
       "    </tr>\n",
       "    <tr>\n",
       "      <th>total</th>\n",
       "      <td>200745</td>\n",
       "      <td>201229</td>\n",
       "      <td>401974</td>\n",
       "    </tr>\n",
       "  </tbody>\n",
       "</table>\n",
       "</div>"
      ],
      "text/plain": [
       "          Vaccine  Placebo   total\n",
       "Polio          57      142     199\n",
       "No polio   200688   201087  401775\n",
       "total      200745   201229  401974"
      ]
     },
     "execution_count": 28,
     "metadata": {},
     "output_type": "execute_result"
    }
   ],
   "source": [
    "df = pd.read_excel('stats2018_PS3.xlsx', 3)\n",
    "df"
   ]
  },
  {
   "cell_type": "markdown",
   "metadata": {
    "collapsed": true
   },
   "source": [
    "$H_0$: (Vaccine is ineffective) incidence of polio is independent of which group (Vaccine/ Placebo)\n",
    "\n",
    "$H_A$: incidence of polio is dependant of which group (Vaccine/ Placebo)"
   ]
  },
  {
   "cell_type": "code",
   "execution_count": 29,
   "metadata": {},
   "outputs": [
    {
     "data": {
      "text/plain": [
       "array([[    57,    142],\n",
       "       [200688, 201087]], dtype=int64)"
      ]
     },
     "execution_count": 29,
     "metadata": {},
     "output_type": "execute_result"
    }
   ],
   "source": [
    "observed = np.array(df.iloc[[0,1],[0,1]])\n",
    "observed"
   ]
  },
  {
   "cell_type": "code",
   "execution_count": 30,
   "metadata": {
    "collapsed": true
   },
   "outputs": [],
   "source": [
    "polio_row_total = 199\n",
    "no_polio_row_total = 401775\n",
    "\n",
    "vaccine_col_total = 200745\n",
    "placebo_col_total = 201229\n",
    "\n",
    "overall_total = 401974"
   ]
  },
  {
   "cell_type": "code",
   "execution_count": 31,
   "metadata": {},
   "outputs": [
    {
     "data": {
      "text/plain": [
       "array([[9.93801962e+01, 9.96198038e+01],\n",
       "       [2.00645620e+05, 2.01129380e+05]])"
      ]
     },
     "execution_count": 31,
     "metadata": {},
     "output_type": "execute_result"
    }
   ],
   "source": [
    "expected = np.array([[polio_row_total*vaccine_col_total/ overall_total, \n",
    "                             polio_row_total*placebo_col_total/ overall_total], \n",
    "                            [no_polio_row_total*vaccine_col_total/ overall_total, \n",
    "                             no_polio_row_total*placebo_col_total/ overall_total]])\n",
    "\n",
    "expected"
   ]
  },
  {
   "cell_type": "code",
   "execution_count": 32,
   "metadata": {},
   "outputs": [
    {
     "data": {
      "text/plain": [
       "1.8552664959869958e-09"
      ]
     },
     "execution_count": 32,
     "metadata": {},
     "output_type": "execute_result"
    }
   ],
   "source": [
    "n = len(observed.flatten()) # no of observations \n",
    "df = (observed.shape[0]-1)*(observed.shape[1]-1)\n",
    "statistic = sum([(expected.flatten()[i]-observed.flatten()[i])**2/ expected.flatten()[i] for i in range(4)])\n",
    "\n",
    "p_value = 1 -stats.chi2.cdf(statistic, df=df)\n",
    "\n",
    "p_value"
   ]
  },
  {
   "cell_type": "markdown",
   "metadata": {},
   "source": [
    "Since the P value is extremely small, we can reject the null hypothesis that the vaccine is ineffective!"
   ]
  },
  {
   "cell_type": "markdown",
   "metadata": {},
   "source": [
    "## Question 7"
   ]
  },
  {
   "cell_type": "code",
   "execution_count": null,
   "metadata": {
    "collapsed": true
   },
   "outputs": [],
   "source": []
  },
  {
   "cell_type": "markdown",
   "metadata": {},
   "source": [
    "## Question 8"
   ]
  },
  {
   "cell_type": "code",
   "execution_count": null,
   "metadata": {
    "collapsed": true
   },
   "outputs": [],
   "source": []
  },
  {
   "cell_type": "markdown",
   "metadata": {},
   "source": [
    "## Question 9"
   ]
  },
  {
   "cell_type": "code",
   "execution_count": 40,
   "metadata": {},
   "outputs": [
    {
     "data": {
      "text/html": [
       "<div>\n",
       "<style>\n",
       "    .dataframe thead tr:only-child th {\n",
       "        text-align: right;\n",
       "    }\n",
       "\n",
       "    .dataframe thead th {\n",
       "        text-align: left;\n",
       "    }\n",
       "\n",
       "    .dataframe tbody tr th {\n",
       "        vertical-align: top;\n",
       "    }\n",
       "</style>\n",
       "<table border=\"1\" class=\"dataframe\">\n",
       "  <thead>\n",
       "    <tr style=\"text-align: right;\">\n",
       "      <th></th>\n",
       "      <th>Age</th>\n",
       "      <th>Cost</th>\n",
       "    </tr>\n",
       "  </thead>\n",
       "  <tbody>\n",
       "    <tr>\n",
       "      <th>0</th>\n",
       "      <td>0</td>\n",
       "      <td>4330</td>\n",
       "    </tr>\n",
       "    <tr>\n",
       "      <th>1</th>\n",
       "      <td>1</td>\n",
       "      <td>4590</td>\n",
       "    </tr>\n",
       "    <tr>\n",
       "      <th>2</th>\n",
       "      <td>2</td>\n",
       "      <td>4870</td>\n",
       "    </tr>\n",
       "    <tr>\n",
       "      <th>3</th>\n",
       "      <td>3</td>\n",
       "      <td>5510</td>\n",
       "    </tr>\n",
       "    <tr>\n",
       "      <th>4</th>\n",
       "      <td>4</td>\n",
       "      <td>5850</td>\n",
       "    </tr>\n",
       "  </tbody>\n",
       "</table>\n",
       "</div>"
      ],
      "text/plain": [
       "   Age  Cost\n",
       "0    0  4330\n",
       "1    1  4590\n",
       "2    2  4870\n",
       "3    3  5510\n",
       "4    4  5850"
      ]
     },
     "execution_count": 40,
     "metadata": {},
     "output_type": "execute_result"
    }
   ],
   "source": [
    "df = pd.read_excel('stats2018_PS3.xlsx', 4)\n",
    "df.columns = ['Age', 'Cost']\n",
    "df.head()"
   ]
  },
  {
   "cell_type": "code",
   "execution_count": 41,
   "metadata": {},
   "outputs": [
    {
     "data": {
      "text/plain": [
       "[<matplotlib.lines.Line2D at 0x1c2e9724668>]"
      ]
     },
     "execution_count": 41,
     "metadata": {},
     "output_type": "execute_result"
    },
    {
     "data": {
      "image/png": "[encoded data removed]",
      "text/plain": [
       "<matplotlib.figure.Figure at 0x1c2e9472400>"
      ]
     },
     "metadata": {},
     "output_type": "display_data"
    }
   ],
   "source": [
    "x = df['Age']\n",
    "y = df['Cost']\n",
    "\n",
    "plt.plot(x, y)\n",
    "results1 = np.polyfit(x,y, deg=1)\n",
    "plt.plot(x, (x*results1[0]+results1[1]), 'r')"
   ]
  },
  {
   "cell_type": "code",
   "execution_count": 44,
   "metadata": {},
   "outputs": [
    {
     "data": {
      "text/plain": [
       "array([  30.01934985,   89.99097007, 4656.49122807])"
      ]
     },
     "execution_count": 44,
     "metadata": {},
     "output_type": "execute_result"
    },
    {
     "data": {
      "image/png": "[encoded data removed]",
      "text/plain": [
       "<matplotlib.figure.Figure at 0x1c2e81f6da0>"
      ]
     },
     "metadata": {},
     "output_type": "display_data"
    }
   ],
   "source": [
    "plt.plot(x, y)\n",
    "results2 = np.polyfit(x,y, deg=2)\n",
    "plt.plot(x, (results2[0]*x**2+results2[1]*x+results2[2]), 'g')\n",
    "results2"
   ]
  },
  {
   "cell_type": "markdown",
   "metadata": {},
   "source": [
    "**b) Fit a straight line y = $β_0$ + $β_1t$, where y is the annual cost of raising a child and t is the child’s age. What is $r^2$ and $r^2_{adj}$ ?**\n"
   ]
  },
  {
   "cell_type": "code",
   "execution_count": 36,
   "metadata": {},
   "outputs": [
    {
     "name": "stdout",
     "output_type": "stream",
     "text": [
      "r squared: 0.9395178093915884\n",
      "r squared adjusted: 0.9357376724785627\n"
     ]
    }
   ],
   "source": [
    "n = len(x)\n",
    "\n",
    "s_x = np.std(x,ddof=1)\n",
    "s_y = np.std(y,ddof=1)\n",
    "s_xy = np.cov(x,y)[0,1]\n",
    "r2 = (s_xy/(s_x*s_y))**2\n",
    "r2_adj = 1 - (n-1)/(n-1-1)*(1-r2)\n",
    "\n",
    "print('r squared: {}\\nr squared adjusted: {}'.format(r2, r2_adj))"
   ]
  },
  {
   "cell_type": "markdown",
   "metadata": {},
   "source": [
    "**c) Plot the residuals against t. What does the residual plot indicate about the linear fit?**"
   ]
  },
  {
   "cell_type": "code",
   "execution_count": 52,
   "metadata": {},
   "outputs": [
    {
     "data": {
      "text/plain": [
       "<matplotlib.text.Text at 0x1c2e9958438>"
      ]
     },
     "execution_count": 52,
     "metadata": {},
     "output_type": "execute_result"
    },
    {
     "data": {
      "image/png": "[encoded data removed]",
      "text/plain": [
       "<matplotlib.figure.Figure at 0x1c2e98b1fd0>"
      ]
     },
     "metadata": {},
     "output_type": "display_data"
    }
   ],
   "source": [
    "x_bar = np.mean(x) # age\n",
    "y_bar = np.mean(y) # cost\n",
    "\n",
    "results1 = np.polyfit(x,y, deg=1)\n",
    "residuals = [y[i] - (x[i]*results1[0]+results1[1]) for i in range(len(y))]\n",
    "\n",
    "plt.scatter(x, residuals)\n",
    "plt.title('Residuals of linear fit')"
   ]
  },
  {
   "cell_type": "markdown",
   "metadata": {},
   "source": [
    "d) Now fit a quadratic y = $β_0 + β_1t + β_2t^2$. Compute the $r^2$ and $r^2_{adj}$ . \n",
    "\n",
    "How much additional variation in y is accounted for by the quadratic term? Comment on how $r^2$ and $r^2_{adj}$ change as compared to part (b)"
   ]
  },
  {
   "cell_type": "code",
   "execution_count": 48,
   "metadata": {},
   "outputs": [
    {
     "name": "stdout",
     "output_type": "stream",
     "text": [
      "r squared: 0.9493563456652855\n",
      "r squared adjusted: 0.9461911172693658\n"
     ]
    }
   ],
   "source": [
    "results2 = np.polyfit(x,y, deg=2)\n",
    "y2 = results2[0]*x**2+results2[1]*x+results2[2]\n",
    "\n",
    "s_x = np.std(x,ddof=1)\n",
    "s_y2 = np.std(y2,ddof=1)\n",
    "s_xy_new = np.cov(x,y2)[0,1]\n",
    "r2_new = (s_xy_new/(s_x*s_y2))**2\n",
    "r2_adj_new = 1 - (n-1)/(n-1-1)*(1-r2_new)\n",
    "\n",
    "print('r squared: {}\\nr squared adjusted: {}'.format(r2_new, r2_adj_new))"
   ]
  },
  {
   "cell_type": "markdown",
   "metadata": {},
   "source": [
    "**e) Plot the residuals of the quadratic fit against t. How good is the quadratic fit? Are there any outliers?**"
   ]
  },
  {
   "cell_type": "code",
   "execution_count": 51,
   "metadata": {},
   "outputs": [
    {
     "data": {
      "text/plain": [
       "<matplotlib.text.Text at 0x1c2e98c1160>"
      ]
     },
     "execution_count": 51,
     "metadata": {},
     "output_type": "execute_result"
    },
    {
     "data": {
      "image/png": "[encoded data removed]",
      "text/plain": [
       "<matplotlib.figure.Figure at 0x1c2e988f0b8>"
      ]
     },
     "metadata": {},
     "output_type": "display_data"
    }
   ],
   "source": [
    "residuals2 = [y[i] - y2[i] for i in range(len(y))]\n",
    "\n",
    "plt.scatter(x, residuals2)\n",
    "plt.title('Residuals of quadratic fit')"
   ]
  },
  {
   "cell_type": "code",
   "execution_count": 55,
   "metadata": {},
   "outputs": [
    {
     "data": {
      "text/html": [
       "<div>\n",
       "<style>\n",
       "    .dataframe thead tr:only-child th {\n",
       "        text-align: right;\n",
       "    }\n",
       "\n",
       "    .dataframe thead th {\n",
       "        text-align: left;\n",
       "    }\n",
       "\n",
       "    .dataframe tbody tr th {\n",
       "        vertical-align: top;\n",
       "    }\n",
       "</style>\n",
       "<table border=\"1\" class=\"dataframe\">\n",
       "  <thead>\n",
       "    <tr style=\"text-align: right;\">\n",
       "      <th></th>\n",
       "      <th>Age</th>\n",
       "      <th>Cost</th>\n",
       "      <th>z</th>\n",
       "      <th>tz</th>\n",
       "    </tr>\n",
       "  </thead>\n",
       "  <tbody>\n",
       "    <tr>\n",
       "      <th>0</th>\n",
       "      <td>0</td>\n",
       "      <td>4330</td>\n",
       "      <td>0</td>\n",
       "      <td>0</td>\n",
       "    </tr>\n",
       "    <tr>\n",
       "      <th>1</th>\n",
       "      <td>1</td>\n",
       "      <td>4590</td>\n",
       "      <td>0</td>\n",
       "      <td>0</td>\n",
       "    </tr>\n",
       "    <tr>\n",
       "      <th>2</th>\n",
       "      <td>2</td>\n",
       "      <td>4870</td>\n",
       "      <td>0</td>\n",
       "      <td>0</td>\n",
       "    </tr>\n",
       "    <tr>\n",
       "      <th>3</th>\n",
       "      <td>3</td>\n",
       "      <td>5510</td>\n",
       "      <td>0</td>\n",
       "      <td>0</td>\n",
       "    </tr>\n",
       "    <tr>\n",
       "      <th>4</th>\n",
       "      <td>4</td>\n",
       "      <td>5850</td>\n",
       "      <td>0</td>\n",
       "      <td>0</td>\n",
       "    </tr>\n",
       "    <tr>\n",
       "      <th>5</th>\n",
       "      <td>5</td>\n",
       "      <td>6200</td>\n",
       "      <td>0</td>\n",
       "      <td>0</td>\n",
       "    </tr>\n",
       "    <tr>\n",
       "      <th>6</th>\n",
       "      <td>6</td>\n",
       "      <td>6550</td>\n",
       "      <td>0</td>\n",
       "      <td>0</td>\n",
       "    </tr>\n",
       "    <tr>\n",
       "      <th>7</th>\n",
       "      <td>7</td>\n",
       "      <td>6950</td>\n",
       "      <td>0</td>\n",
       "      <td>0</td>\n",
       "    </tr>\n",
       "    <tr>\n",
       "      <th>8</th>\n",
       "      <td>8</td>\n",
       "      <td>7360</td>\n",
       "      <td>0</td>\n",
       "      <td>0</td>\n",
       "    </tr>\n",
       "    <tr>\n",
       "      <th>9</th>\n",
       "      <td>9</td>\n",
       "      <td>7570</td>\n",
       "      <td>0</td>\n",
       "      <td>0</td>\n",
       "    </tr>\n",
       "    <tr>\n",
       "      <th>10</th>\n",
       "      <td>10</td>\n",
       "      <td>8020</td>\n",
       "      <td>0</td>\n",
       "      <td>0</td>\n",
       "    </tr>\n",
       "    <tr>\n",
       "      <th>11</th>\n",
       "      <td>11</td>\n",
       "      <td>8500</td>\n",
       "      <td>0</td>\n",
       "      <td>0</td>\n",
       "    </tr>\n",
       "    <tr>\n",
       "      <th>12</th>\n",
       "      <td>12</td>\n",
       "      <td>10360</td>\n",
       "      <td>1</td>\n",
       "      <td>12</td>\n",
       "    </tr>\n",
       "    <tr>\n",
       "      <th>13</th>\n",
       "      <td>13</td>\n",
       "      <td>10980</td>\n",
       "      <td>1</td>\n",
       "      <td>13</td>\n",
       "    </tr>\n",
       "    <tr>\n",
       "      <th>14</th>\n",
       "      <td>14</td>\n",
       "      <td>11640</td>\n",
       "      <td>1</td>\n",
       "      <td>14</td>\n",
       "    </tr>\n",
       "    <tr>\n",
       "      <th>15</th>\n",
       "      <td>15</td>\n",
       "      <td>13160</td>\n",
       "      <td>1</td>\n",
       "      <td>15</td>\n",
       "    </tr>\n",
       "    <tr>\n",
       "      <th>16</th>\n",
       "      <td>16</td>\n",
       "      <td>13950</td>\n",
       "      <td>1</td>\n",
       "      <td>16</td>\n",
       "    </tr>\n",
       "    <tr>\n",
       "      <th>17</th>\n",
       "      <td>17</td>\n",
       "      <td>14780</td>\n",
       "      <td>1</td>\n",
       "      <td>17</td>\n",
       "    </tr>\n",
       "  </tbody>\n",
       "</table>\n",
       "</div>"
      ],
      "text/plain": [
       "    Age   Cost  z  tz\n",
       "0     0   4330  0   0\n",
       "1     1   4590  0   0\n",
       "2     2   4870  0   0\n",
       "3     3   5510  0   0\n",
       "4     4   5850  0   0\n",
       "5     5   6200  0   0\n",
       "6     6   6550  0   0\n",
       "7     7   6950  0   0\n",
       "8     8   7360  0   0\n",
       "9     9   7570  0   0\n",
       "10   10   8020  0   0\n",
       "11   11   8500  0   0\n",
       "12   12  10360  1  12\n",
       "13   13  10980  1  13\n",
       "14   14  11640  1  14\n",
       "15   15  13160  1  15\n",
       "16   16  13950  1  16\n",
       "17   17  14780  1  17"
      ]
     },
     "execution_count": 55,
     "metadata": {},
     "output_type": "execute_result"
    }
   ],
   "source": [
    "df['z'] = df['Age'].apply(lambda x: 0 if x<12 else 1)\n",
    "df['tz'] = df['Age']*df['z']\n",
    "df"
   ]
  },
  {
   "cell_type": "code",
   "execution_count": 57,
   "metadata": {},
   "outputs": [
    {
     "data": {
      "text/plain": [
       "Index(['Age', 'Cost', 'z', 'tz'], dtype='object')"
      ]
     },
     "execution_count": 57,
     "metadata": {},
     "output_type": "execute_result"
    }
   ],
   "source": [
    "from sklearn import linear_model\n",
    "df.columns"
   ]
  },
  {
   "cell_type": "code",
   "execution_count": null,
   "metadata": {
    "collapsed": true
   },
   "outputs": [],
   "source": [
    "## Create linear regression object\n",
    "regr = linear_model.LinearRegression()\n",
    "\n",
    "# Train the model using the training sets\n",
    "regr.fit(df[['Age', 'z', 'tz']], df['Cost'])"
   ]
  },
  {
   "cell_type": "code",
   "execution_count": 63,
   "metadata": {},
   "outputs": [
    {
     "name": "stdout",
     "output_type": "stream",
     "text": [
      "b0: 4271.025641025651 \n",
      "b1: 379.51048951048864\n",
      "b2: -5269.406593406596\n",
      "b3: 549.9180819180817\n"
     ]
    }
   ],
   "source": [
    "[b1, b2, b3] = regr.coef_\n",
    "b0 = regr.intercept_\n",
    "print(\"b0: {} \\nb1: {}\\nb2: {}\\nb3: {}\".format(b0, b1, b2, b3))"
   ]
  },
  {
   "cell_type": "code",
   "execution_count": 66,
   "metadata": {},
   "outputs": [
    {
     "data": {
      "text/plain": [
       "[<matplotlib.lines.Line2D at 0x1c2e9f620f0>]"
      ]
     },
     "execution_count": 66,
     "metadata": {},
     "output_type": "execute_result"
    },
    {
     "data": {
      "image/png": "[encoded data removed]",
      "text/plain": [
       "<matplotlib.figure.Figure at 0x1c2e9f62358>"
      ]
     },
     "metadata": {},
     "output_type": "display_data"
    }
   ],
   "source": [
    "y_pred = regr.predict(df[['Age', 'z', 'tz']])\n",
    "plt.plot(x, y)\n",
    "plt.plot(x, y_pred, 'r')"
   ]
  },
  {
   "cell_type": "code",
   "execution_count": 68,
   "metadata": {},
   "outputs": [
    {
     "data": {
      "text/plain": [
       "<matplotlib.collections.PathCollection at 0x1c2ea210eb8>"
      ]
     },
     "execution_count": 68,
     "metadata": {},
     "output_type": "execute_result"
    },
    {
     "data": {
      "image/png": "[encoded data removed]",
      "text/plain": [
       "<matplotlib.figure.Figure at 0x1c2e94069e8>"
      ]
     },
     "metadata": {},
     "output_type": "display_data"
    }
   ],
   "source": [
    "residuals = [y[i] - y_pred[i] for i in range(len(y))]\n",
    "\n",
    "plt.scatter(x, residuals)"
   ]
  },
  {
   "cell_type": "code",
   "execution_count": null,
   "metadata": {
    "collapsed": true
   },
   "outputs": [],
   "source": []
  }
 ],
 "metadata": {
  "kernelspec": {
   "display_name": "Python 3",
   "language": "python",
   "name": "python3"
  },
  "language_info": {
   "codemirror_mode": {
    "name": "ipython",
    "version": 3
   },
   "file_extension": ".py",
   "mimetype": "text/x-python",
   "name": "python",
   "nbconvert_exporter": "python",
   "pygments_lexer": "ipython3",
   "version": "3.6.5"
  }
 },
 "nbformat": 4,
 "nbformat_minor": 2
}
