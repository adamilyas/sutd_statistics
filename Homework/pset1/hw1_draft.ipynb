{
 "cells": [
  {
   "cell_type": "code",
   "execution_count": null,
   "metadata": {
    "collapsed": true
   },
   "outputs": [],
   "source": []
  },
  {
   "cell_type": "code",
   "execution_count": 1,
   "metadata": {
    "collapsed": false
   },
   "outputs": [],
   "source": [
    "\n",
    "import numpy as np\n",
    "import scipy as sp\n",
    "from scipy import stats\n",
    "import seaborn\n",
    "seaborn.set(style=\"ticks\")\n",
    "import math\n",
    "import pandas as pd"
   ]
  },
  {
   "cell_type": "code",
   "execution_count": 2,
   "metadata": {
    "collapsed": true
   },
   "outputs": [],
   "source": [
    "ph_data = \"6.10 6.74 6.22 5.65 6.38 6.70 7.00 6.43 7.00 6.70 6.70 5.94 6.28 \\\n",
    "6.34 6.62 6.55 2.92 6.10 6.20 6.70 7.00 6.85 6.31 6.26 6.36 6.28 \\\n",
    "6.38 6.70 6.62 7.00 6.45 6.31 2.86 6.31 6.09 6.17 6.64 6.45 \\\n",
    "7.00 6.18 6.58 5.38 6.34 7.00 5.70 6.65 6.56 6.00 6.70 6.45\""
   ]
  },
  {
   "cell_type": "code",
   "execution_count": 26,
   "metadata": {
    "collapsed": false
   },
   "outputs": [
    {
     "name": "stdout",
     "output_type": "stream",
     "text": [
      "[6.1, 6.74, 6.22, 5.65, 6.38, 6.7, 7.0, 6.43, 7.0, 6.7, 6.7, 5.94, 6.28, 6.34, 6.62, 6.55, 2.92, 6.1, 6.2, 6.7, 7.0, 6.85, 6.31, 6.26, 6.36, 6.28, 6.38, 6.7, 6.62, 7.0, 6.45, 6.31, 2.86, 6.31, 6.09, 6.17, 6.64, 6.45, 7.0, 6.18, 6.58, 5.38, 6.34, 7.0, 5.7, 6.65, 6.56, 6.0, 6.7, 6.45]\n"
     ]
    }
   ],
   "source": [
    "data = [float(i) for i in ph_data.split()]\n",
    "print(data)"
   ]
  },
  {
   "cell_type": "code",
   "execution_count": 4,
   "metadata": {
    "collapsed": true
   },
   "outputs": [],
   "source": [
    "min_data = min(data)\n",
    "max_data = max(data)\n",
    "median_data = round(np.median(data),3)\n",
    "percentile_25_data = round(np.percentile(data, 25),3)\n",
    "percentile_75_data = round(np.percentile(data, 75),3)"
   ]
  },
  {
   "cell_type": "code",
   "execution_count": 5,
   "metadata": {
    "collapsed": false
   },
   "outputs": [
    {
     "name": "stdout",
     "output_type": "stream",
     "text": [
      "Min: 2.86\n",
      "Max: 7.0\n",
      "Median: 6.405\n",
      "25th Percentile: 6.205\n",
      "75th Percentile: 6.7\n"
     ]
    }
   ],
   "source": [
    "print(\"Min: \" + str(min_data))\n",
    "print(\"Max: \" + str(max_data))\n",
    "print(\"Median: \" + str(median_data))\n",
    "print(\"25th Percentile: \" + str(percentile_25_data))\n",
    "print(\"75th Percentile: \" + str(percentile_75_data))"
   ]
  },
  {
   "cell_type": "code",
   "execution_count": 6,
   "metadata": {
    "collapsed": false
   },
   "outputs": [
    {
     "data": {
      "text/plain": [
       "6.297"
      ]
     },
     "execution_count": 6,
     "metadata": {},
     "output_type": "execute_result"
    }
   ],
   "source": [
    "mean_data = round(np.mean(data),3)\n",
    "mean_data"
   ]
  },
  {
   "cell_type": "code",
   "execution_count": 7,
   "metadata": {
    "collapsed": false
   },
   "outputs": [
    {
     "name": "stdout",
     "output_type": "stream",
     "text": [
      "Sample mean: 6.297\n",
      "Trimmed mean: 6.4335\n"
     ]
    }
   ],
   "source": [
    "data_trimmed_mean = stats.trim_mean(data,0.1)\n",
    "print(\"Sample mean: \" + str(mean_data))\n",
    "print(\"Trimmed mean: \" + str(data_trimmed_mean))"
   ]
  },
  {
   "cell_type": "code",
   "execution_count": 8,
   "metadata": {
    "collapsed": false
   },
   "outputs": [
    {
     "name": "stdout",
     "output_type": "stream",
     "text": [
      "75th Percentile: 6.7\n",
      "25th Percentile: 6.205\n",
      "IQR = 75th percentile - 25th percent\n",
      "IQR: 0.495\n",
      "Sample standard Deviation: 0.788\n"
     ]
    }
   ],
   "source": [
    "print(\"75th Percentile: \" + str(percentile_75_data))\n",
    "print(\"25th Percentile: \" + str(percentile_25_data))\n",
    "print(\"IQR = 75th percentile - 25th percent\")\n",
    "IQR = round(percentile_75_data - percentile_25_data, 3)\n",
    "print(\"IQR: \" + str(IQR))\n",
    "sample_size = len(data)\n",
    "a = (1/(sample_size-1))*sum([(i-mean_data)**2 for i in data])\n",
    "sample_std = round(math.sqrt(a),3)\n",
    "print(\"Sample standard Deviation: \" + str(sample_std))"
   ]
  },
  {
   "cell_type": "code",
   "execution_count": 9,
   "metadata": {
    "collapsed": false
   },
   "outputs": [],
   "source": [
    "data_iql_rule = [i for i in data if i < (mean_data + 1.5*IQR) and (i > mean_data - 1.5*IQR)]"
   ]
  },
  {
   "cell_type": "code",
   "execution_count": 22,
   "metadata": {
    "collapsed": false
   },
   "outputs": [
    {
     "data": {
      "image/png": "[encoded data removed]",
      "text/plain": [
       "<matplotlib.figure.Figure at 0x20067fce7f0>"
      ]
     },
     "metadata": {},
     "output_type": "display_data"
    }
   ],
   "source": [
    "import matplotlib.pyplot as plt\n",
    "plt.boxplot(data_to_plot)\n",
    "plt.title(\"pH Measurement\")\n",
    "plt.show()"
   ]
  },
  {
   "cell_type": "code",
   "execution_count": null,
   "metadata": {
    "collapsed": false
   },
   "outputs": [],
   "source": []
  },
  {
   "cell_type": "code",
   "execution_count": null,
   "metadata": {
    "collapsed": false
   },
   "outputs": [],
   "source": []
  }
 ],
 "metadata": {
  "kernelspec": {
   "display_name": "Python 3",
   "language": "python",
   "name": "python3"
  },
  "language_info": {
   "codemirror_mode": {
    "name": "ipython",
    "version": 3
   },
   "file_extension": ".py",
   "mimetype": "text/x-python",
   "name": "python",
   "nbconvert_exporter": "python",
   "pygments_lexer": "ipython3",
   "version": "3.6.0"
  }
 },
 "nbformat": 4,
 "nbformat_minor": 2
}
